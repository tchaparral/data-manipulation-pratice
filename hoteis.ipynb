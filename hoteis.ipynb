{
 "cells": [
  {
   "cell_type": "markdown",
   "metadata": {},
   "source": [
    "<h2>Análise de Hotéis</h2>"
   ]
  },
  {
   "cell_type": "code",
   "execution_count": 399,
   "metadata": {},
   "outputs": [],
   "source": [
    "# bibliotecas\n",
    "import pandas as pd\n",
    "import plotly_express as px\n",
    "import numpy as np\n",
    "import nltk\n",
    "from nltk.corpus import stopwords"
   ]
  },
  {
   "cell_type": "markdown",
   "metadata": {},
   "source": [
    "<h3>Importando dados"
   ]
  },
  {
   "cell_type": "markdown",
   "metadata": {},
   "source": [
    "<h4>Dados de Hospedagem</h4>"
   ]
  },
  {
   "cell_type": "code",
   "execution_count": 400,
   "metadata": {},
   "outputs": [
    {
     "data": {
      "text/html": [
       "<div>\n",
       "<style scoped>\n",
       "    .dataframe tbody tr th:only-of-type {\n",
       "        vertical-align: middle;\n",
       "    }\n",
       "\n",
       "    .dataframe tbody tr th {\n",
       "        vertical-align: top;\n",
       "    }\n",
       "\n",
       "    .dataframe thead th {\n",
       "        text-align: right;\n",
       "    }\n",
       "</style>\n",
       "<table border=\"1\" class=\"dataframe\">\n",
       "  <thead>\n",
       "    <tr style=\"text-align: right;\">\n",
       "      <th></th>\n",
       "      <th>info_moveis</th>\n",
       "    </tr>\n",
       "  </thead>\n",
       "  <tbody>\n",
       "    <tr>\n",
       "      <th>0</th>\n",
       "      <td>{'avaliacao_geral': '10.0', 'experiencia_local...</td>\n",
       "    </tr>\n",
       "    <tr>\n",
       "      <th>1</th>\n",
       "      <td>{'avaliacao_geral': '10.0', 'experiencia_local...</td>\n",
       "    </tr>\n",
       "    <tr>\n",
       "      <th>2</th>\n",
       "      <td>{'avaliacao_geral': '10.0', 'experiencia_local...</td>\n",
       "    </tr>\n",
       "    <tr>\n",
       "      <th>3</th>\n",
       "      <td>{'avaliacao_geral': '10.0', 'experiencia_local...</td>\n",
       "    </tr>\n",
       "    <tr>\n",
       "      <th>4</th>\n",
       "      <td>{'avaliacao_geral': '10.0', 'experiencia_local...</td>\n",
       "    </tr>\n",
       "    <tr>\n",
       "      <th>...</th>\n",
       "      <td>...</td>\n",
       "    </tr>\n",
       "    <tr>\n",
       "      <th>65</th>\n",
       "      <td>{'avaliacao_geral': 'nan', 'experiencia_local'...</td>\n",
       "    </tr>\n",
       "    <tr>\n",
       "      <th>66</th>\n",
       "      <td>{'avaliacao_geral': 'nan', 'experiencia_local'...</td>\n",
       "    </tr>\n",
       "    <tr>\n",
       "      <th>67</th>\n",
       "      <td>{'avaliacao_geral': 'nan', 'experiencia_local'...</td>\n",
       "    </tr>\n",
       "    <tr>\n",
       "      <th>68</th>\n",
       "      <td>{'avaliacao_geral': 'nan', 'experiencia_local'...</td>\n",
       "    </tr>\n",
       "    <tr>\n",
       "      <th>69</th>\n",
       "      <td>{'avaliacao_geral': 'nan', 'experiencia_local'...</td>\n",
       "    </tr>\n",
       "  </tbody>\n",
       "</table>\n",
       "<p>70 rows × 1 columns</p>\n",
       "</div>"
      ],
      "text/plain": [
       "                                          info_moveis\n",
       "0   {'avaliacao_geral': '10.0', 'experiencia_local...\n",
       "1   {'avaliacao_geral': '10.0', 'experiencia_local...\n",
       "2   {'avaliacao_geral': '10.0', 'experiencia_local...\n",
       "3   {'avaliacao_geral': '10.0', 'experiencia_local...\n",
       "4   {'avaliacao_geral': '10.0', 'experiencia_local...\n",
       "..                                                ...\n",
       "65  {'avaliacao_geral': 'nan', 'experiencia_local'...\n",
       "66  {'avaliacao_geral': 'nan', 'experiencia_local'...\n",
       "67  {'avaliacao_geral': 'nan', 'experiencia_local'...\n",
       "68  {'avaliacao_geral': 'nan', 'experiencia_local'...\n",
       "69  {'avaliacao_geral': 'nan', 'experiencia_local'...\n",
       "\n",
       "[70 rows x 1 columns]"
      ]
     },
     "execution_count": 400,
     "metadata": {},
     "output_type": "execute_result"
    }
   ],
   "source": [
    "# data frame de hospedagens\n",
    "path_1 = r'.\\dados_hospedagem.json'\n",
    "\n",
    "df_hospedagem = pd.read_json(path_1)\n",
    "df_hospedagem"
   ]
  },
  {
   "cell_type": "code",
   "execution_count": 401,
   "metadata": {},
   "outputs": [
    {
     "name": "stdout",
     "output_type": "stream",
     "text": [
      "<class 'pandas.core.frame.DataFrame'>\n",
      "RangeIndex: 70 entries, 0 to 69\n",
      "Data columns (total 1 columns):\n",
      " #   Column       Non-Null Count  Dtype \n",
      "---  ------       --------------  ----- \n",
      " 0   info_moveis  70 non-null     object\n",
      "dtypes: object(1)\n",
      "memory usage: 692.0+ bytes\n"
     ]
    }
   ],
   "source": [
    "# verificando estrutura\n",
    "df_hospedagem.info()"
   ]
  },
  {
   "cell_type": "code",
   "execution_count": 402,
   "metadata": {},
   "outputs": [
    {
     "data": {
      "text/html": [
       "<div>\n",
       "<style scoped>\n",
       "    .dataframe tbody tr th:only-of-type {\n",
       "        vertical-align: middle;\n",
       "    }\n",
       "\n",
       "    .dataframe tbody tr th {\n",
       "        vertical-align: top;\n",
       "    }\n",
       "\n",
       "    .dataframe thead th {\n",
       "        text-align: right;\n",
       "    }\n",
       "</style>\n",
       "<table border=\"1\" class=\"dataframe\">\n",
       "  <thead>\n",
       "    <tr style=\"text-align: right;\">\n",
       "      <th></th>\n",
       "      <th>info_moveis</th>\n",
       "    </tr>\n",
       "  </thead>\n",
       "  <tbody>\n",
       "    <tr>\n",
       "      <th>0</th>\n",
       "      <td>&lt;class 'dict'&gt;</td>\n",
       "    </tr>\n",
       "  </tbody>\n",
       "</table>\n",
       "</div>"
      ],
      "text/plain": [
       "      info_moveis\n",
       "0  <class 'dict'>"
      ]
     },
     "execution_count": 402,
     "metadata": {},
     "output_type": "execute_result"
    }
   ],
   "source": [
    "# object?\n",
    "df_hospedagem.apply(lambda x: x.apply(type).unique())"
   ]
  },
  {
   "cell_type": "code",
   "execution_count": 403,
   "metadata": {},
   "outputs": [
    {
     "data": {
      "text/html": [
       "<div>\n",
       "<style scoped>\n",
       "    .dataframe tbody tr th:only-of-type {\n",
       "        vertical-align: middle;\n",
       "    }\n",
       "\n",
       "    .dataframe tbody tr th {\n",
       "        vertical-align: top;\n",
       "    }\n",
       "\n",
       "    .dataframe thead th {\n",
       "        text-align: right;\n",
       "    }\n",
       "</style>\n",
       "<table border=\"1\" class=\"dataframe\">\n",
       "  <thead>\n",
       "    <tr style=\"text-align: right;\">\n",
       "      <th></th>\n",
       "      <th>avaliacao_geral</th>\n",
       "      <th>experiencia_local</th>\n",
       "      <th>max_hospedes</th>\n",
       "      <th>descricao_local</th>\n",
       "      <th>descricao_vizinhanca</th>\n",
       "      <th>quantidade_banheiros</th>\n",
       "      <th>quantidade_quartos</th>\n",
       "      <th>quantidade_camas</th>\n",
       "      <th>modelo_cama</th>\n",
       "      <th>comodidades</th>\n",
       "      <th>taxa_deposito</th>\n",
       "      <th>taxa_limpeza</th>\n",
       "      <th>preco</th>\n",
       "    </tr>\n",
       "  </thead>\n",
       "  <tbody>\n",
       "    <tr>\n",
       "      <th>0</th>\n",
       "      <td>10.0</td>\n",
       "      <td>--</td>\n",
       "      <td>1</td>\n",
       "      <td>This clean and comfortable one bedroom sits ri...</td>\n",
       "      <td>Lower Queen Anne is near the Seattle Center (s...</td>\n",
       "      <td>1</td>\n",
       "      <td>1</td>\n",
       "      <td>1</td>\n",
       "      <td>Real Bed</td>\n",
       "      <td>{Internet,\"Wireless Internet\",Kitchen,\"Free Pa...</td>\n",
       "      <td>$0</td>\n",
       "      <td>$0</td>\n",
       "      <td>$110.00</td>\n",
       "    </tr>\n",
       "    <tr>\n",
       "      <th>1</th>\n",
       "      <td>10.0</td>\n",
       "      <td>--</td>\n",
       "      <td>1</td>\n",
       "      <td>Our century old Upper Queen Anne house is loca...</td>\n",
       "      <td>Upper Queen Anne is a really pleasant, unique ...</td>\n",
       "      <td>1</td>\n",
       "      <td>1</td>\n",
       "      <td>1</td>\n",
       "      <td>Futon</td>\n",
       "      <td>{TV,Internet,\"Wireless Internet\",Kitchen,\"Free...</td>\n",
       "      <td>$0</td>\n",
       "      <td>$0</td>\n",
       "      <td>$45.00</td>\n",
       "    </tr>\n",
       "    <tr>\n",
       "      <th>2</th>\n",
       "      <td>10.0</td>\n",
       "      <td>--</td>\n",
       "      <td>1</td>\n",
       "      <td>Cozy room in two-bedroom apartment along the l...</td>\n",
       "      <td>The convenience of being in Seattle but on the...</td>\n",
       "      <td>1</td>\n",
       "      <td>1</td>\n",
       "      <td>1</td>\n",
       "      <td>Futon</td>\n",
       "      <td>{TV,Internet,\"Wireless Internet\",Kitchen,\"Free...</td>\n",
       "      <td>$0</td>\n",
       "      <td>$0</td>\n",
       "      <td>$55.00</td>\n",
       "    </tr>\n",
       "    <tr>\n",
       "      <th>3</th>\n",
       "      <td>10.0</td>\n",
       "      <td>--</td>\n",
       "      <td>1</td>\n",
       "      <td>Very lovely and cozy room for one. Convenientl...</td>\n",
       "      <td>Ballard is lovely, vibrant and one of the most...</td>\n",
       "      <td>1</td>\n",
       "      <td>1</td>\n",
       "      <td>1</td>\n",
       "      <td>Pull-out Sofa</td>\n",
       "      <td>{Internet,\"Wireless Internet\",Kitchen,\"Free Pa...</td>\n",
       "      <td>$0</td>\n",
       "      <td>$20.00</td>\n",
       "      <td>$52.00</td>\n",
       "    </tr>\n",
       "    <tr>\n",
       "      <th>4</th>\n",
       "      <td>10.0</td>\n",
       "      <td>--</td>\n",
       "      <td>1</td>\n",
       "      <td>The “Studio at Mibbett Hollow' is in a Beautif...</td>\n",
       "      <td>--</td>\n",
       "      <td>1</td>\n",
       "      <td>1</td>\n",
       "      <td>1</td>\n",
       "      <td>Real Bed</td>\n",
       "      <td>{\"Wireless Internet\",Kitchen,\"Free Parking on ...</td>\n",
       "      <td>$0</td>\n",
       "      <td>$15.00</td>\n",
       "      <td>$85.00</td>\n",
       "    </tr>\n",
       "  </tbody>\n",
       "</table>\n",
       "</div>"
      ],
      "text/plain": [
       "  avaliacao_geral experiencia_local max_hospedes  \\\n",
       "0            10.0                --            1   \n",
       "1            10.0                --            1   \n",
       "2            10.0                --            1   \n",
       "3            10.0                --            1   \n",
       "4            10.0                --            1   \n",
       "\n",
       "                                     descricao_local  \\\n",
       "0  This clean and comfortable one bedroom sits ri...   \n",
       "1  Our century old Upper Queen Anne house is loca...   \n",
       "2  Cozy room in two-bedroom apartment along the l...   \n",
       "3  Very lovely and cozy room for one. Convenientl...   \n",
       "4  The “Studio at Mibbett Hollow' is in a Beautif...   \n",
       "\n",
       "                                descricao_vizinhanca quantidade_banheiros  \\\n",
       "0  Lower Queen Anne is near the Seattle Center (s...                    1   \n",
       "1  Upper Queen Anne is a really pleasant, unique ...                    1   \n",
       "2  The convenience of being in Seattle but on the...                    1   \n",
       "3  Ballard is lovely, vibrant and one of the most...                    1   \n",
       "4                                                 --                    1   \n",
       "\n",
       "  quantidade_quartos quantidade_camas    modelo_cama  \\\n",
       "0                  1                1       Real Bed   \n",
       "1                  1                1          Futon   \n",
       "2                  1                1          Futon   \n",
       "3                  1                1  Pull-out Sofa   \n",
       "4                  1                1       Real Bed   \n",
       "\n",
       "                                         comodidades taxa_deposito  \\\n",
       "0  {Internet,\"Wireless Internet\",Kitchen,\"Free Pa...            $0   \n",
       "1  {TV,Internet,\"Wireless Internet\",Kitchen,\"Free...            $0   \n",
       "2  {TV,Internet,\"Wireless Internet\",Kitchen,\"Free...            $0   \n",
       "3  {Internet,\"Wireless Internet\",Kitchen,\"Free Pa...            $0   \n",
       "4  {\"Wireless Internet\",Kitchen,\"Free Parking on ...            $0   \n",
       "\n",
       "  taxa_limpeza    preco  \n",
       "0           $0  $110.00  \n",
       "1           $0   $45.00  \n",
       "2           $0   $55.00  \n",
       "3       $20.00   $52.00  \n",
       "4       $15.00   $85.00  "
      ]
     },
     "execution_count": 403,
     "metadata": {},
     "output_type": "execute_result"
    }
   ],
   "source": [
    "# visualizando dicionario\n",
    "visualizer = pd.DataFrame(df_hospedagem['info_moveis'][0])\n",
    "visualizer.head()"
   ]
  },
  {
   "cell_type": "code",
   "execution_count": 404,
   "metadata": {},
   "outputs": [
    {
     "name": "stdout",
     "output_type": "stream",
     "text": [
      "<class 'pandas.core.frame.DataFrame'>\n",
      "RangeIndex: 99 entries, 0 to 98\n",
      "Data columns (total 13 columns):\n",
      " #   Column                Non-Null Count  Dtype \n",
      "---  ------                --------------  ----- \n",
      " 0   avaliacao_geral       99 non-null     object\n",
      " 1   experiencia_local     99 non-null     object\n",
      " 2   max_hospedes          99 non-null     object\n",
      " 3   descricao_local       99 non-null     object\n",
      " 4   descricao_vizinhanca  99 non-null     object\n",
      " 5   quantidade_banheiros  99 non-null     object\n",
      " 6   quantidade_quartos    99 non-null     object\n",
      " 7   quantidade_camas      99 non-null     object\n",
      " 8   modelo_cama           99 non-null     object\n",
      " 9   comodidades           99 non-null     object\n",
      " 10  taxa_deposito         99 non-null     object\n",
      " 11  taxa_limpeza          99 non-null     object\n",
      " 12  preco                 99 non-null     object\n",
      "dtypes: object(13)\n",
      "memory usage: 10.2+ KB\n"
     ]
    }
   ],
   "source": [
    "# visualizando estutura do dicionario\n",
    "visualizer.info()"
   ]
  },
  {
   "cell_type": "code",
   "execution_count": 405,
   "metadata": {},
   "outputs": [
    {
     "data": {
      "text/html": [
       "<div>\n",
       "<style scoped>\n",
       "    .dataframe tbody tr th:only-of-type {\n",
       "        vertical-align: middle;\n",
       "    }\n",
       "\n",
       "    .dataframe tbody tr th {\n",
       "        vertical-align: top;\n",
       "    }\n",
       "\n",
       "    .dataframe thead th {\n",
       "        text-align: right;\n",
       "    }\n",
       "</style>\n",
       "<table border=\"1\" class=\"dataframe\">\n",
       "  <thead>\n",
       "    <tr style=\"text-align: right;\">\n",
       "      <th></th>\n",
       "      <th>avaliacao_geral</th>\n",
       "      <th>experiencia_local</th>\n",
       "      <th>max_hospedes</th>\n",
       "      <th>descricao_local</th>\n",
       "      <th>descricao_vizinhanca</th>\n",
       "      <th>quantidade_banheiros</th>\n",
       "      <th>quantidade_quartos</th>\n",
       "      <th>quantidade_camas</th>\n",
       "      <th>modelo_cama</th>\n",
       "      <th>comodidades</th>\n",
       "      <th>taxa_deposito</th>\n",
       "      <th>taxa_limpeza</th>\n",
       "      <th>preco</th>\n",
       "    </tr>\n",
       "  </thead>\n",
       "  <tbody>\n",
       "    <tr>\n",
       "      <th>0</th>\n",
       "      <td>&lt;class 'str'&gt;</td>\n",
       "      <td>&lt;class 'str'&gt;</td>\n",
       "      <td>&lt;class 'str'&gt;</td>\n",
       "      <td>&lt;class 'str'&gt;</td>\n",
       "      <td>&lt;class 'str'&gt;</td>\n",
       "      <td>&lt;class 'str'&gt;</td>\n",
       "      <td>&lt;class 'str'&gt;</td>\n",
       "      <td>&lt;class 'str'&gt;</td>\n",
       "      <td>&lt;class 'str'&gt;</td>\n",
       "      <td>&lt;class 'str'&gt;</td>\n",
       "      <td>&lt;class 'str'&gt;</td>\n",
       "      <td>&lt;class 'str'&gt;</td>\n",
       "      <td>&lt;class 'str'&gt;</td>\n",
       "    </tr>\n",
       "  </tbody>\n",
       "</table>\n",
       "</div>"
      ],
      "text/plain": [
       "  avaliacao_geral experiencia_local   max_hospedes descricao_local  \\\n",
       "0   <class 'str'>     <class 'str'>  <class 'str'>   <class 'str'>   \n",
       "\n",
       "  descricao_vizinhanca quantidade_banheiros quantidade_quartos  \\\n",
       "0        <class 'str'>        <class 'str'>      <class 'str'>   \n",
       "\n",
       "  quantidade_camas    modelo_cama    comodidades  taxa_deposito  \\\n",
       "0    <class 'str'>  <class 'str'>  <class 'str'>  <class 'str'>   \n",
       "\n",
       "    taxa_limpeza          preco  \n",
       "0  <class 'str'>  <class 'str'>  "
      ]
     },
     "execution_count": 405,
     "metadata": {},
     "output_type": "execute_result"
    }
   ],
   "source": [
    "# object?\n",
    "visualizer.apply(lambda x: x.apply(type).unique())"
   ]
  },
  {
   "cell_type": "code",
   "execution_count": 406,
   "metadata": {},
   "outputs": [
    {
     "data": {
      "text/html": [
       "<div>\n",
       "<style scoped>\n",
       "    .dataframe tbody tr th:only-of-type {\n",
       "        vertical-align: middle;\n",
       "    }\n",
       "\n",
       "    .dataframe tbody tr th {\n",
       "        vertical-align: top;\n",
       "    }\n",
       "\n",
       "    .dataframe thead th {\n",
       "        text-align: right;\n",
       "    }\n",
       "</style>\n",
       "<table border=\"1\" class=\"dataframe\">\n",
       "  <thead>\n",
       "    <tr style=\"text-align: right;\">\n",
       "      <th></th>\n",
       "      <th>avaliacao_geral</th>\n",
       "      <th>experiencia_local</th>\n",
       "      <th>max_hospedes</th>\n",
       "      <th>descricao_local</th>\n",
       "      <th>descricao_vizinhanca</th>\n",
       "      <th>quantidade_banheiros</th>\n",
       "      <th>quantidade_quartos</th>\n",
       "      <th>quantidade_camas</th>\n",
       "      <th>modelo_cama</th>\n",
       "      <th>comodidades</th>\n",
       "      <th>taxa_deposito</th>\n",
       "      <th>taxa_limpeza</th>\n",
       "      <th>preco</th>\n",
       "    </tr>\n",
       "  </thead>\n",
       "  <tbody>\n",
       "    <tr>\n",
       "      <th>0</th>\n",
       "      <td>10.0</td>\n",
       "      <td>--</td>\n",
       "      <td>1</td>\n",
       "      <td>[This clean and comfortable one bedroom sits r...</td>\n",
       "      <td>[Lower Queen Anne is near the Seattle Center (...</td>\n",
       "      <td>[1, 1, 1, 1, 1, 1, 1, 1, 1, 1, 1, 1, 1, 1, 1, ...</td>\n",
       "      <td>[1, 1, 1, 1, 1, 1, 1, 1, 1, 1, 1, 1, 1, 1, 1, ...</td>\n",
       "      <td>[1, 1, 1, 1, 1, 1, 1, 1, 1, 1, 1, 1, 1, 1, 1, ...</td>\n",
       "      <td>[Real Bed, Futon, Futon, Pull-out Sofa, Real B...</td>\n",
       "      <td>[{Internet,\"Wireless Internet\",Kitchen,\"Free P...</td>\n",
       "      <td>[$0, $0, $0, $0, $0, $350.00, $350.00, $350.00...</td>\n",
       "      <td>[$0, $0, $0, $20.00, $15.00, $28.00, $35.00, $...</td>\n",
       "      <td>[$110.00, $45.00, $55.00, $52.00, $85.00, $50....</td>\n",
       "    </tr>\n",
       "    <tr>\n",
       "      <th>1</th>\n",
       "      <td>10.0</td>\n",
       "      <td>--</td>\n",
       "      <td>10</td>\n",
       "      <td>[Welcome to the heart of the 'Ballard Brewery ...</td>\n",
       "      <td>[--, Capital Hill is the heart of Seattle, bor...</td>\n",
       "      <td>[2, 3, 2, 3, 3, 3, 2, 1, 2, 2, 2]</td>\n",
       "      <td>[3, 4, 2, 3, 3, 3, 3, 3, 3, 4, 3]</td>\n",
       "      <td>[5, 6, 8, 3, 3, 5, 4, 5, 6, 7, 4]</td>\n",
       "      <td>[Real Bed, Real Bed, Real Bed, Real Bed, Real ...</td>\n",
       "      <td>[{TV,Internet,\"Wireless Internet\",Kitchen,\"Fre...</td>\n",
       "      <td>[$500.00, $300.00, $0, $300.00, $300.00, $360....</td>\n",
       "      <td>[$125.00, $100.00, $85.00, $110.00, $110.00, $...</td>\n",
       "      <td>[$350.00, $300.00, $425.00, $300.00, $285.00, ...</td>\n",
       "    </tr>\n",
       "    <tr>\n",
       "      <th>2</th>\n",
       "      <td>10.0</td>\n",
       "      <td>--</td>\n",
       "      <td>11</td>\n",
       "      <td>[New modern house built in 2013.  Spectacular ...</td>\n",
       "      <td>[Upper Queen Anne is a charming neighborhood f...</td>\n",
       "      <td>[4]</td>\n",
       "      <td>[5]</td>\n",
       "      <td>[7]</td>\n",
       "      <td>[Real Bed]</td>\n",
       "      <td>[{TV,\"Cable TV\",Internet,\"Wireless Internet\",\"...</td>\n",
       "      <td>[$1,000.00]</td>\n",
       "      <td>[$300.00]</td>\n",
       "      <td>[$975.00]</td>\n",
       "    </tr>\n",
       "    <tr>\n",
       "      <th>3</th>\n",
       "      <td>10.0</td>\n",
       "      <td>--</td>\n",
       "      <td>12</td>\n",
       "      <td>[Our NW style home is 3200+ sq ft with 3 level...</td>\n",
       "      <td>[The Views from our top floor!  Wallingford ha...</td>\n",
       "      <td>[3, 3, 3, 3, 3, 3, 3, 3]</td>\n",
       "      <td>[6, 6, 5, 5, 5, 5, 4, 4]</td>\n",
       "      <td>[6, 6, 7, 8, 7, 7, 6, 6]</td>\n",
       "      <td>[Real Bed, Real Bed, Real Bed, Real Bed, Real ...</td>\n",
       "      <td>[{Internet,\"Wireless Internet\",Kitchen,\"Free P...</td>\n",
       "      <td>[$500.00, $500.00, $500.00, $500.00, $500.00, ...</td>\n",
       "      <td>[$225.00, $300.00, $250.00, $250.00, $250.00, ...</td>\n",
       "      <td>[$490.00, $550.00, $350.00, $350.00, $350.00, ...</td>\n",
       "    </tr>\n",
       "    <tr>\n",
       "      <th>4</th>\n",
       "      <td>10.0</td>\n",
       "      <td>--</td>\n",
       "      <td>14</td>\n",
       "      <td>[Perfect for groups. 2 bedrooms, full bathroom...</td>\n",
       "      <td>[Safeway grocery store within walking distance...</td>\n",
       "      <td>[2, 3]</td>\n",
       "      <td>[2, 6]</td>\n",
       "      <td>[3, 9]</td>\n",
       "      <td>[Real Bed, Real Bed]</td>\n",
       "      <td>[{TV,Internet,\"Wireless Internet\",Kitchen,\"Fre...</td>\n",
       "      <td>[$300.00, $2,000.00]</td>\n",
       "      <td>[$40.00, $150.00]</td>\n",
       "      <td>[$200.00, $545.00]</td>\n",
       "    </tr>\n",
       "    <tr>\n",
       "      <th>...</th>\n",
       "      <td>...</td>\n",
       "      <td>...</td>\n",
       "      <td>...</td>\n",
       "      <td>...</td>\n",
       "      <td>...</td>\n",
       "      <td>...</td>\n",
       "      <td>...</td>\n",
       "      <td>...</td>\n",
       "      <td>...</td>\n",
       "      <td>...</td>\n",
       "      <td>...</td>\n",
       "      <td>...</td>\n",
       "      <td>...</td>\n",
       "    </tr>\n",
       "    <tr>\n",
       "      <th>65</th>\n",
       "      <td>nan</td>\n",
       "      <td>--</td>\n",
       "      <td>5</td>\n",
       "      <td>[Our cozy little bungalow is the perfect place...</td>\n",
       "      <td>[The Queen Anne neighborhood is one of the mos...</td>\n",
       "      <td>[1, 3, 2, 2, 2, 1, 2, 1, 1, 1, 2, 3, 2, 2, 2, ...</td>\n",
       "      <td>[2, 2, 2, 3, 2, 2, 2, 2, 2, 2, 2, 3, 2, 2, 2, ...</td>\n",
       "      <td>[3, 2, 2, 3, 3, 2, 3, 2, 2, 3, 3, 3, 2, 3, 2, ...</td>\n",
       "      <td>[Real Bed, Real Bed, Real Bed, Real Bed, Real ...</td>\n",
       "      <td>[{\"Cable TV\",\"Wireless Internet\",Kitchen,\"Free...</td>\n",
       "      <td>[$250.00, $200.00, $0, $0, $0, $200.00, $350.0...</td>\n",
       "      <td>[$35.00, $50.00, $100.00, $100.00, $0, $30.00,...</td>\n",
       "      <td>[$150.00, $200.00, $143.00, $150.00, $350.00, ...</td>\n",
       "    </tr>\n",
       "    <tr>\n",
       "      <th>66</th>\n",
       "      <td>nan</td>\n",
       "      <td>--</td>\n",
       "      <td>6</td>\n",
       "      <td>[Bright clean 2 bedroom 1 bath appartment in t...</td>\n",
       "      <td>[Ballard is the most interesting and ecclectic...</td>\n",
       "      <td>[1, 1, 3, 2, 1, 3, 2, 2, 1, 2, 2, 2, 1, 2, 1, ...</td>\n",
       "      <td>[2, 3, 3, 2, 2, 3, 2, 3, 2, 2, 2, 2, 4, 3, 3, ...</td>\n",
       "      <td>[3, 3, 2, 3, 3, 3, 2, 3, 3, 3, 2, 2, 4, 4, 3, ...</td>\n",
       "      <td>[Real Bed, Real Bed, Real Bed, Real Bed, Real ...</td>\n",
       "      <td>[{TV,\"Cable TV\",Internet,\"Wireless Internet\",K...</td>\n",
       "      <td>[$200.00, $200.00, $100.00, $0, $0, $750.00, $...</td>\n",
       "      <td>[$0, $0, $100.00, $0, $75.00, $140.00, $112.00...</td>\n",
       "      <td>[$99.00, $185.00, $250.00, $200.00, $275.00, $...</td>\n",
       "    </tr>\n",
       "    <tr>\n",
       "      <th>67</th>\n",
       "      <td>nan</td>\n",
       "      <td>--</td>\n",
       "      <td>7</td>\n",
       "      <td>[Beautiful end-unit townhome with lots of dayl...</td>\n",
       "      <td>[Cherry blossoms (Sakura) in the spring, every...</td>\n",
       "      <td>[4, 3, 1, 2, 2, 1, 2, 1, 2, 2]</td>\n",
       "      <td>[3, 4, 3, 3, 3, 3, 3, 3, 3, 4]</td>\n",
       "      <td>[3, 5, 1, 5, 3, 2, 3, 4, 4, 4]</td>\n",
       "      <td>[Real Bed, Real Bed, Real Bed, Real Bed, Real ...</td>\n",
       "      <td>[{TV,\"Cable TV\",Internet,\"Wireless Internet\",\"...</td>\n",
       "      <td>[$750.00, $350.00, $500.00, $500.00, $0, $200....</td>\n",
       "      <td>[$300.00, $90.00, $250.00, $100.00, $109.00, $...</td>\n",
       "      <td>[$218.00, $350.00, $450.00, $149.00, $99.00, $...</td>\n",
       "    </tr>\n",
       "    <tr>\n",
       "      <th>68</th>\n",
       "      <td>nan</td>\n",
       "      <td>--</td>\n",
       "      <td>8</td>\n",
       "      <td>[Heart of Ballard new townhome with 4 BRs + ba...</td>\n",
       "      <td>[--, --, The suite is conveniently located off...</td>\n",
       "      <td>[2, 2, 3, 1, 1, 2, 1, 3, 2, 1, 2, 1, 2, 2, 2, ...</td>\n",
       "      <td>[4, 2, 3, 4, 3, 3, 4, 4, 3, 5, 2, 3, 3, 4, 5, ...</td>\n",
       "      <td>[4, 4, 3, 3, 5, 5, 5, 5, 3, 5, 4, 5, 5, 4, 1, ...</td>\n",
       "      <td>[Real Bed, Real Bed, Real Bed, Real Bed, Real ...</td>\n",
       "      <td>[{TV,Internet,\"Wireless Internet\",\"Air Conditi...</td>\n",
       "      <td>[$500.00, $150.00, $250.00, $800.00, $0, $500....</td>\n",
       "      <td>[$50.00, $85.00, $150.00, $75.00, $100.00, $80...</td>\n",
       "      <td>[$275.00, $199.00, $400.00, $325.00, $300.00, ...</td>\n",
       "    </tr>\n",
       "    <tr>\n",
       "      <th>69</th>\n",
       "      <td>nan</td>\n",
       "      <td>--</td>\n",
       "      <td>9</td>\n",
       "      <td>[This business-themed modern home features:  *...</td>\n",
       "      <td>[Your hosts made Madison Valley their home whe...</td>\n",
       "      <td>[2, 1]</td>\n",
       "      <td>[3, 4]</td>\n",
       "      <td>[6, 6]</td>\n",
       "      <td>[Real Bed, Real Bed]</td>\n",
       "      <td>[{TV,\"Cable TV\",Internet,\"Wireless Internet\",\"...</td>\n",
       "      <td>[$1,000.00, $500.00]</td>\n",
       "      <td>[$150.00, $0]</td>\n",
       "      <td>[$250.00, $350.00]</td>\n",
       "    </tr>\n",
       "  </tbody>\n",
       "</table>\n",
       "<p>70 rows × 13 columns</p>\n",
       "</div>"
      ],
      "text/plain": [
       "   avaliacao_geral experiencia_local max_hospedes  \\\n",
       "0             10.0                --            1   \n",
       "1             10.0                --           10   \n",
       "2             10.0                --           11   \n",
       "3             10.0                --           12   \n",
       "4             10.0                --           14   \n",
       "..             ...               ...          ...   \n",
       "65             nan                --            5   \n",
       "66             nan                --            6   \n",
       "67             nan                --            7   \n",
       "68             nan                --            8   \n",
       "69             nan                --            9   \n",
       "\n",
       "                                      descricao_local  \\\n",
       "0   [This clean and comfortable one bedroom sits r...   \n",
       "1   [Welcome to the heart of the 'Ballard Brewery ...   \n",
       "2   [New modern house built in 2013.  Spectacular ...   \n",
       "3   [Our NW style home is 3200+ sq ft with 3 level...   \n",
       "4   [Perfect for groups. 2 bedrooms, full bathroom...   \n",
       "..                                                ...   \n",
       "65  [Our cozy little bungalow is the perfect place...   \n",
       "66  [Bright clean 2 bedroom 1 bath appartment in t...   \n",
       "67  [Beautiful end-unit townhome with lots of dayl...   \n",
       "68  [Heart of Ballard new townhome with 4 BRs + ba...   \n",
       "69  [This business-themed modern home features:  *...   \n",
       "\n",
       "                                 descricao_vizinhanca  \\\n",
       "0   [Lower Queen Anne is near the Seattle Center (...   \n",
       "1   [--, Capital Hill is the heart of Seattle, bor...   \n",
       "2   [Upper Queen Anne is a charming neighborhood f...   \n",
       "3   [The Views from our top floor!  Wallingford ha...   \n",
       "4   [Safeway grocery store within walking distance...   \n",
       "..                                                ...   \n",
       "65  [The Queen Anne neighborhood is one of the mos...   \n",
       "66  [Ballard is the most interesting and ecclectic...   \n",
       "67  [Cherry blossoms (Sakura) in the spring, every...   \n",
       "68  [--, --, The suite is conveniently located off...   \n",
       "69  [Your hosts made Madison Valley their home whe...   \n",
       "\n",
       "                                 quantidade_banheiros  \\\n",
       "0   [1, 1, 1, 1, 1, 1, 1, 1, 1, 1, 1, 1, 1, 1, 1, ...   \n",
       "1                   [2, 3, 2, 3, 3, 3, 2, 1, 2, 2, 2]   \n",
       "2                                                 [4]   \n",
       "3                            [3, 3, 3, 3, 3, 3, 3, 3]   \n",
       "4                                              [2, 3]   \n",
       "..                                                ...   \n",
       "65  [1, 3, 2, 2, 2, 1, 2, 1, 1, 1, 2, 3, 2, 2, 2, ...   \n",
       "66  [1, 1, 3, 2, 1, 3, 2, 2, 1, 2, 2, 2, 1, 2, 1, ...   \n",
       "67                     [4, 3, 1, 2, 2, 1, 2, 1, 2, 2]   \n",
       "68  [2, 2, 3, 1, 1, 2, 1, 3, 2, 1, 2, 1, 2, 2, 2, ...   \n",
       "69                                             [2, 1]   \n",
       "\n",
       "                                   quantidade_quartos  \\\n",
       "0   [1, 1, 1, 1, 1, 1, 1, 1, 1, 1, 1, 1, 1, 1, 1, ...   \n",
       "1                   [3, 4, 2, 3, 3, 3, 3, 3, 3, 4, 3]   \n",
       "2                                                 [5]   \n",
       "3                            [6, 6, 5, 5, 5, 5, 4, 4]   \n",
       "4                                              [2, 6]   \n",
       "..                                                ...   \n",
       "65  [2, 2, 2, 3, 2, 2, 2, 2, 2, 2, 2, 3, 2, 2, 2, ...   \n",
       "66  [2, 3, 3, 2, 2, 3, 2, 3, 2, 2, 2, 2, 4, 3, 3, ...   \n",
       "67                     [3, 4, 3, 3, 3, 3, 3, 3, 3, 4]   \n",
       "68  [4, 2, 3, 4, 3, 3, 4, 4, 3, 5, 2, 3, 3, 4, 5, ...   \n",
       "69                                             [3, 4]   \n",
       "\n",
       "                                     quantidade_camas  \\\n",
       "0   [1, 1, 1, 1, 1, 1, 1, 1, 1, 1, 1, 1, 1, 1, 1, ...   \n",
       "1                   [5, 6, 8, 3, 3, 5, 4, 5, 6, 7, 4]   \n",
       "2                                                 [7]   \n",
       "3                            [6, 6, 7, 8, 7, 7, 6, 6]   \n",
       "4                                              [3, 9]   \n",
       "..                                                ...   \n",
       "65  [3, 2, 2, 3, 3, 2, 3, 2, 2, 3, 3, 3, 2, 3, 2, ...   \n",
       "66  [3, 3, 2, 3, 3, 3, 2, 3, 3, 3, 2, 2, 4, 4, 3, ...   \n",
       "67                     [3, 5, 1, 5, 3, 2, 3, 4, 4, 4]   \n",
       "68  [4, 4, 3, 3, 5, 5, 5, 5, 3, 5, 4, 5, 5, 4, 1, ...   \n",
       "69                                             [6, 6]   \n",
       "\n",
       "                                          modelo_cama  \\\n",
       "0   [Real Bed, Futon, Futon, Pull-out Sofa, Real B...   \n",
       "1   [Real Bed, Real Bed, Real Bed, Real Bed, Real ...   \n",
       "2                                          [Real Bed]   \n",
       "3   [Real Bed, Real Bed, Real Bed, Real Bed, Real ...   \n",
       "4                                [Real Bed, Real Bed]   \n",
       "..                                                ...   \n",
       "65  [Real Bed, Real Bed, Real Bed, Real Bed, Real ...   \n",
       "66  [Real Bed, Real Bed, Real Bed, Real Bed, Real ...   \n",
       "67  [Real Bed, Real Bed, Real Bed, Real Bed, Real ...   \n",
       "68  [Real Bed, Real Bed, Real Bed, Real Bed, Real ...   \n",
       "69                               [Real Bed, Real Bed]   \n",
       "\n",
       "                                          comodidades  \\\n",
       "0   [{Internet,\"Wireless Internet\",Kitchen,\"Free P...   \n",
       "1   [{TV,Internet,\"Wireless Internet\",Kitchen,\"Fre...   \n",
       "2   [{TV,\"Cable TV\",Internet,\"Wireless Internet\",\"...   \n",
       "3   [{Internet,\"Wireless Internet\",Kitchen,\"Free P...   \n",
       "4   [{TV,Internet,\"Wireless Internet\",Kitchen,\"Fre...   \n",
       "..                                                ...   \n",
       "65  [{\"Cable TV\",\"Wireless Internet\",Kitchen,\"Free...   \n",
       "66  [{TV,\"Cable TV\",Internet,\"Wireless Internet\",K...   \n",
       "67  [{TV,\"Cable TV\",Internet,\"Wireless Internet\",\"...   \n",
       "68  [{TV,Internet,\"Wireless Internet\",\"Air Conditi...   \n",
       "69  [{TV,\"Cable TV\",Internet,\"Wireless Internet\",\"...   \n",
       "\n",
       "                                        taxa_deposito  \\\n",
       "0   [$0, $0, $0, $0, $0, $350.00, $350.00, $350.00...   \n",
       "1   [$500.00, $300.00, $0, $300.00, $300.00, $360....   \n",
       "2                                         [$1,000.00]   \n",
       "3   [$500.00, $500.00, $500.00, $500.00, $500.00, ...   \n",
       "4                                [$300.00, $2,000.00]   \n",
       "..                                                ...   \n",
       "65  [$250.00, $200.00, $0, $0, $0, $200.00, $350.0...   \n",
       "66  [$200.00, $200.00, $100.00, $0, $0, $750.00, $...   \n",
       "67  [$750.00, $350.00, $500.00, $500.00, $0, $200....   \n",
       "68  [$500.00, $150.00, $250.00, $800.00, $0, $500....   \n",
       "69                               [$1,000.00, $500.00]   \n",
       "\n",
       "                                         taxa_limpeza  \\\n",
       "0   [$0, $0, $0, $20.00, $15.00, $28.00, $35.00, $...   \n",
       "1   [$125.00, $100.00, $85.00, $110.00, $110.00, $...   \n",
       "2                                           [$300.00]   \n",
       "3   [$225.00, $300.00, $250.00, $250.00, $250.00, ...   \n",
       "4                                   [$40.00, $150.00]   \n",
       "..                                                ...   \n",
       "65  [$35.00, $50.00, $100.00, $100.00, $0, $30.00,...   \n",
       "66  [$0, $0, $100.00, $0, $75.00, $140.00, $112.00...   \n",
       "67  [$300.00, $90.00, $250.00, $100.00, $109.00, $...   \n",
       "68  [$50.00, $85.00, $150.00, $75.00, $100.00, $80...   \n",
       "69                                      [$150.00, $0]   \n",
       "\n",
       "                                                preco  \n",
       "0   [$110.00, $45.00, $55.00, $52.00, $85.00, $50....  \n",
       "1   [$350.00, $300.00, $425.00, $300.00, $285.00, ...  \n",
       "2                                           [$975.00]  \n",
       "3   [$490.00, $550.00, $350.00, $350.00, $350.00, ...  \n",
       "4                                  [$200.00, $545.00]  \n",
       "..                                                ...  \n",
       "65  [$150.00, $200.00, $143.00, $150.00, $350.00, ...  \n",
       "66  [$99.00, $185.00, $250.00, $200.00, $275.00, $...  \n",
       "67  [$218.00, $350.00, $450.00, $149.00, $99.00, $...  \n",
       "68  [$275.00, $199.00, $400.00, $325.00, $300.00, ...  \n",
       "69                                 [$250.00, $350.00]  \n",
       "\n",
       "[70 rows x 13 columns]"
      ]
     },
     "execution_count": 406,
     "metadata": {},
     "output_type": "execute_result"
    }
   ],
   "source": [
    "# desaninhando dados\n",
    "df_hospedagem = pd.json_normalize(df_hospedagem['info_moveis'])\n",
    "df_hospedagem"
   ]
  },
  {
   "cell_type": "markdown",
   "metadata": {},
   "source": [
    "<h4>Dados de Imóveis Disponíveis</h4>"
   ]
  },
  {
   "cell_type": "code",
   "execution_count": 407,
   "metadata": {},
   "outputs": [
    {
     "data": {
      "text/html": [
       "<div>\n",
       "<style scoped>\n",
       "    .dataframe tbody tr th:only-of-type {\n",
       "        vertical-align: middle;\n",
       "    }\n",
       "\n",
       "    .dataframe tbody tr th {\n",
       "        vertical-align: top;\n",
       "    }\n",
       "\n",
       "    .dataframe thead th {\n",
       "        text-align: right;\n",
       "    }\n",
       "</style>\n",
       "<table border=\"1\" class=\"dataframe\">\n",
       "  <thead>\n",
       "    <tr style=\"text-align: right;\">\n",
       "      <th></th>\n",
       "      <th>id</th>\n",
       "      <th>data</th>\n",
       "      <th>vaga_disponivel</th>\n",
       "      <th>preco</th>\n",
       "    </tr>\n",
       "  </thead>\n",
       "  <tbody>\n",
       "    <tr>\n",
       "      <th>0</th>\n",
       "      <td>857</td>\n",
       "      <td>2016-01-04</td>\n",
       "      <td>False</td>\n",
       "      <td>None</td>\n",
       "    </tr>\n",
       "    <tr>\n",
       "      <th>1</th>\n",
       "      <td>857</td>\n",
       "      <td>2016-01-05</td>\n",
       "      <td>False</td>\n",
       "      <td>None</td>\n",
       "    </tr>\n",
       "    <tr>\n",
       "      <th>2</th>\n",
       "      <td>857</td>\n",
       "      <td>2016-01-06</td>\n",
       "      <td>False</td>\n",
       "      <td>None</td>\n",
       "    </tr>\n",
       "    <tr>\n",
       "      <th>3</th>\n",
       "      <td>857</td>\n",
       "      <td>2016-01-07</td>\n",
       "      <td>False</td>\n",
       "      <td>None</td>\n",
       "    </tr>\n",
       "    <tr>\n",
       "      <th>4</th>\n",
       "      <td>857</td>\n",
       "      <td>2016-01-08</td>\n",
       "      <td>False</td>\n",
       "      <td>None</td>\n",
       "    </tr>\n",
       "    <tr>\n",
       "      <th>...</th>\n",
       "      <td>...</td>\n",
       "      <td>...</td>\n",
       "      <td>...</td>\n",
       "      <td>...</td>\n",
       "    </tr>\n",
       "    <tr>\n",
       "      <th>364995</th>\n",
       "      <td>3279</td>\n",
       "      <td>2016-12-29</td>\n",
       "      <td>True</td>\n",
       "      <td>$140.00</td>\n",
       "    </tr>\n",
       "    <tr>\n",
       "      <th>364996</th>\n",
       "      <td>3279</td>\n",
       "      <td>2016-12-30</td>\n",
       "      <td>True</td>\n",
       "      <td>$140.00</td>\n",
       "    </tr>\n",
       "    <tr>\n",
       "      <th>364997</th>\n",
       "      <td>3279</td>\n",
       "      <td>2016-12-31</td>\n",
       "      <td>True</td>\n",
       "      <td>$140.00</td>\n",
       "    </tr>\n",
       "    <tr>\n",
       "      <th>364998</th>\n",
       "      <td>3279</td>\n",
       "      <td>2017-01-01</td>\n",
       "      <td>True</td>\n",
       "      <td>$140.00</td>\n",
       "    </tr>\n",
       "    <tr>\n",
       "      <th>364999</th>\n",
       "      <td>3279</td>\n",
       "      <td>2017-01-02</td>\n",
       "      <td>False</td>\n",
       "      <td>None</td>\n",
       "    </tr>\n",
       "  </tbody>\n",
       "</table>\n",
       "<p>365000 rows × 4 columns</p>\n",
       "</div>"
      ],
      "text/plain": [
       "          id        data  vaga_disponivel    preco\n",
       "0        857  2016-01-04            False     None\n",
       "1        857  2016-01-05            False     None\n",
       "2        857  2016-01-06            False     None\n",
       "3        857  2016-01-07            False     None\n",
       "4        857  2016-01-08            False     None\n",
       "...      ...         ...              ...      ...\n",
       "364995  3279  2016-12-29             True  $140.00\n",
       "364996  3279  2016-12-30             True  $140.00\n",
       "364997  3279  2016-12-31             True  $140.00\n",
       "364998  3279  2017-01-01             True  $140.00\n",
       "364999  3279  2017-01-02            False     None\n",
       "\n",
       "[365000 rows x 4 columns]"
      ]
     },
     "execution_count": 407,
     "metadata": {},
     "output_type": "execute_result"
    }
   ],
   "source": [
    "# data frame imoveis_disponiveis\n",
    "path_2 = r'.\\imoveis_disponiveis.json'\n",
    "df_imoveis = pd.read_json(path_2)\n",
    "df_imoveis\n"
   ]
  },
  {
   "cell_type": "code",
   "execution_count": 408,
   "metadata": {},
   "outputs": [
    {
     "name": "stdout",
     "output_type": "stream",
     "text": [
      "<class 'pandas.core.frame.DataFrame'>\n",
      "Index: 365000 entries, 0 to 364999\n",
      "Data columns (total 4 columns):\n",
      " #   Column           Non-Null Count   Dtype \n",
      "---  ------           --------------   ----- \n",
      " 0   id               365000 non-null  int64 \n",
      " 1   data             365000 non-null  object\n",
      " 2   vaga_disponivel  365000 non-null  bool  \n",
      " 3   preco            270547 non-null  object\n",
      "dtypes: bool(1), int64(1), object(2)\n",
      "memory usage: 11.5+ MB\n"
     ]
    }
   ],
   "source": [
    "df_imoveis.info()"
   ]
  },
  {
   "cell_type": "code",
   "execution_count": 409,
   "metadata": {},
   "outputs": [],
   "source": [
    "df_imoveis['data'] = pd.to_datetime(df_imoveis['data'])"
   ]
  },
  {
   "cell_type": "code",
   "execution_count": 410,
   "metadata": {},
   "outputs": [
    {
     "name": "stdout",
     "output_type": "stream",
     "text": [
      "<class 'pandas.core.frame.DataFrame'>\n",
      "Index: 365000 entries, 0 to 364999\n",
      "Data columns (total 4 columns):\n",
      " #   Column           Non-Null Count   Dtype         \n",
      "---  ------           --------------   -----         \n",
      " 0   id               365000 non-null  int64         \n",
      " 1   data             365000 non-null  datetime64[ns]\n",
      " 2   vaga_disponivel  365000 non-null  bool          \n",
      " 3   preco            270547 non-null  object        \n",
      "dtypes: bool(1), datetime64[ns](1), int64(1), object(1)\n",
      "memory usage: 11.5+ MB\n"
     ]
    }
   ],
   "source": [
    "df_imoveis.info()"
   ]
  },
  {
   "cell_type": "code",
   "execution_count": 411,
   "metadata": {},
   "outputs": [
    {
     "data": {
      "text/html": [
       "<div>\n",
       "<style scoped>\n",
       "    .dataframe tbody tr th:only-of-type {\n",
       "        vertical-align: middle;\n",
       "    }\n",
       "\n",
       "    .dataframe tbody tr th {\n",
       "        vertical-align: top;\n",
       "    }\n",
       "\n",
       "    .dataframe thead th {\n",
       "        text-align: right;\n",
       "    }\n",
       "</style>\n",
       "<table border=\"1\" class=\"dataframe\">\n",
       "  <thead>\n",
       "    <tr style=\"text-align: right;\">\n",
       "      <th></th>\n",
       "      <th>id</th>\n",
       "      <th>data</th>\n",
       "      <th>vaga_disponivel</th>\n",
       "      <th>preco</th>\n",
       "    </tr>\n",
       "  </thead>\n",
       "  <tbody>\n",
       "    <tr>\n",
       "      <th>0</th>\n",
       "      <td>857</td>\n",
       "      <td>2016-01-04</td>\n",
       "      <td>False</td>\n",
       "      <td>None</td>\n",
       "    </tr>\n",
       "    <tr>\n",
       "      <th>1</th>\n",
       "      <td>857</td>\n",
       "      <td>2016-01-05</td>\n",
       "      <td>False</td>\n",
       "      <td>None</td>\n",
       "    </tr>\n",
       "    <tr>\n",
       "      <th>2</th>\n",
       "      <td>857</td>\n",
       "      <td>2016-01-06</td>\n",
       "      <td>False</td>\n",
       "      <td>None</td>\n",
       "    </tr>\n",
       "    <tr>\n",
       "      <th>3</th>\n",
       "      <td>857</td>\n",
       "      <td>2016-01-07</td>\n",
       "      <td>False</td>\n",
       "      <td>None</td>\n",
       "    </tr>\n",
       "    <tr>\n",
       "      <th>4</th>\n",
       "      <td>857</td>\n",
       "      <td>2016-01-08</td>\n",
       "      <td>False</td>\n",
       "      <td>None</td>\n",
       "    </tr>\n",
       "    <tr>\n",
       "      <th>...</th>\n",
       "      <td>...</td>\n",
       "      <td>...</td>\n",
       "      <td>...</td>\n",
       "      <td>...</td>\n",
       "    </tr>\n",
       "    <tr>\n",
       "      <th>364995</th>\n",
       "      <td>3279</td>\n",
       "      <td>2016-12-29</td>\n",
       "      <td>True</td>\n",
       "      <td>$140.00</td>\n",
       "    </tr>\n",
       "    <tr>\n",
       "      <th>364996</th>\n",
       "      <td>3279</td>\n",
       "      <td>2016-12-30</td>\n",
       "      <td>True</td>\n",
       "      <td>$140.00</td>\n",
       "    </tr>\n",
       "    <tr>\n",
       "      <th>364997</th>\n",
       "      <td>3279</td>\n",
       "      <td>2016-12-31</td>\n",
       "      <td>True</td>\n",
       "      <td>$140.00</td>\n",
       "    </tr>\n",
       "    <tr>\n",
       "      <th>364998</th>\n",
       "      <td>3279</td>\n",
       "      <td>2017-01-01</td>\n",
       "      <td>True</td>\n",
       "      <td>$140.00</td>\n",
       "    </tr>\n",
       "    <tr>\n",
       "      <th>364999</th>\n",
       "      <td>3279</td>\n",
       "      <td>2017-01-02</td>\n",
       "      <td>False</td>\n",
       "      <td>None</td>\n",
       "    </tr>\n",
       "  </tbody>\n",
       "</table>\n",
       "<p>365000 rows × 4 columns</p>\n",
       "</div>"
      ],
      "text/plain": [
       "          id       data  vaga_disponivel    preco\n",
       "0        857 2016-01-04            False     None\n",
       "1        857 2016-01-05            False     None\n",
       "2        857 2016-01-06            False     None\n",
       "3        857 2016-01-07            False     None\n",
       "4        857 2016-01-08            False     None\n",
       "...      ...        ...              ...      ...\n",
       "364995  3279 2016-12-29             True  $140.00\n",
       "364996  3279 2016-12-30             True  $140.00\n",
       "364997  3279 2016-12-31             True  $140.00\n",
       "364998  3279 2017-01-01             True  $140.00\n",
       "364999  3279 2017-01-02            False     None\n",
       "\n",
       "[365000 rows x 4 columns]"
      ]
     },
     "execution_count": 411,
     "metadata": {},
     "output_type": "execute_result"
    }
   ],
   "source": [
    "df_imoveis"
   ]
  },
  {
   "cell_type": "code",
   "execution_count": 412,
   "metadata": {},
   "outputs": [
    {
     "name": "stdout",
     "output_type": "stream",
     "text": [
      "<class 'pandas.core.frame.DataFrame'>\n",
      "Index: 365000 entries, 0 to 364999\n",
      "Data columns (total 4 columns):\n",
      " #   Column           Non-Null Count   Dtype         \n",
      "---  ------           --------------   -----         \n",
      " 0   id               365000 non-null  int64         \n",
      " 1   data             365000 non-null  datetime64[ns]\n",
      " 2   vaga_disponivel  365000 non-null  bool          \n",
      " 3   preco            270547 non-null  object        \n",
      "dtypes: bool(1), datetime64[ns](1), int64(1), object(1)\n",
      "memory usage: 11.5+ MB\n"
     ]
    }
   ],
   "source": [
    "df_imoveis.info()"
   ]
  },
  {
   "cell_type": "code",
   "execution_count": 413,
   "metadata": {},
   "outputs": [
    {
     "data": {
      "text/html": [
       "<div>\n",
       "<style scoped>\n",
       "    .dataframe tbody tr th:only-of-type {\n",
       "        vertical-align: middle;\n",
       "    }\n",
       "\n",
       "    .dataframe tbody tr th {\n",
       "        vertical-align: top;\n",
       "    }\n",
       "\n",
       "    .dataframe thead th {\n",
       "        text-align: right;\n",
       "    }\n",
       "</style>\n",
       "<table border=\"1\" class=\"dataframe\">\n",
       "  <thead>\n",
       "    <tr style=\"text-align: right;\">\n",
       "      <th></th>\n",
       "      <th>data</th>\n",
       "      <th>vaga_disponivel</th>\n",
       "    </tr>\n",
       "  </thead>\n",
       "  <tbody>\n",
       "    <tr>\n",
       "      <th>0</th>\n",
       "      <td>2016-01</td>\n",
       "      <td>16543</td>\n",
       "    </tr>\n",
       "    <tr>\n",
       "      <th>1</th>\n",
       "      <td>2016-02</td>\n",
       "      <td>20128</td>\n",
       "    </tr>\n",
       "    <tr>\n",
       "      <th>2</th>\n",
       "      <td>2016-03</td>\n",
       "      <td>23357</td>\n",
       "    </tr>\n",
       "    <tr>\n",
       "      <th>3</th>\n",
       "      <td>2016-04</td>\n",
       "      <td>22597</td>\n",
       "    </tr>\n",
       "    <tr>\n",
       "      <th>4</th>\n",
       "      <td>2016-05</td>\n",
       "      <td>23842</td>\n",
       "    </tr>\n",
       "    <tr>\n",
       "      <th>5</th>\n",
       "      <td>2016-06</td>\n",
       "      <td>23651</td>\n",
       "    </tr>\n",
       "    <tr>\n",
       "      <th>6</th>\n",
       "      <td>2016-07</td>\n",
       "      <td>22329</td>\n",
       "    </tr>\n",
       "    <tr>\n",
       "      <th>7</th>\n",
       "      <td>2016-08</td>\n",
       "      <td>22529</td>\n",
       "    </tr>\n",
       "    <tr>\n",
       "      <th>8</th>\n",
       "      <td>2016-09</td>\n",
       "      <td>22471</td>\n",
       "    </tr>\n",
       "    <tr>\n",
       "      <th>9</th>\n",
       "      <td>2016-10</td>\n",
       "      <td>23765</td>\n",
       "    </tr>\n",
       "    <tr>\n",
       "      <th>10</th>\n",
       "      <td>2016-11</td>\n",
       "      <td>23352</td>\n",
       "    </tr>\n",
       "    <tr>\n",
       "      <th>11</th>\n",
       "      <td>2016-12</td>\n",
       "      <td>24409</td>\n",
       "    </tr>\n",
       "    <tr>\n",
       "      <th>12</th>\n",
       "      <td>2017-01</td>\n",
       "      <td>1574</td>\n",
       "    </tr>\n",
       "  </tbody>\n",
       "</table>\n",
       "</div>"
      ],
      "text/plain": [
       "       data  vaga_disponivel\n",
       "0   2016-01            16543\n",
       "1   2016-02            20128\n",
       "2   2016-03            23357\n",
       "3   2016-04            22597\n",
       "4   2016-05            23842\n",
       "5   2016-06            23651\n",
       "6   2016-07            22329\n",
       "7   2016-08            22529\n",
       "8   2016-09            22471\n",
       "9   2016-10            23765\n",
       "10  2016-11            23352\n",
       "11  2016-12            24409\n",
       "12  2017-01             1574"
      ]
     },
     "execution_count": 413,
     "metadata": {},
     "output_type": "execute_result"
    }
   ],
   "source": [
    "subset = pd.DataFrame(df_imoveis.groupby(df_imoveis['data'].dt.strftime('%Y-%m'))['vaga_disponivel'].sum())\n",
    "subset = subset.reset_index()\n",
    "subset\n"
   ]
  },
  {
   "cell_type": "code",
   "execution_count": 414,
   "metadata": {},
   "outputs": [
    {
     "data": {
      "application/vnd.plotly.v1+json": {
       "config": {
        "plotlyServerURL": "https://plot.ly"
       },
       "data": [
        {
         "alignmentgroup": "True",
         "hovertemplate": "data=%{x}<br>vaga_disponivel=%{y}<extra></extra>",
         "legendgroup": "",
         "marker": {
          "color": "#636efa",
          "pattern": {
           "shape": ""
          }
         },
         "name": "",
         "offsetgroup": "",
         "orientation": "v",
         "showlegend": false,
         "textposition": "auto",
         "type": "bar",
         "x": [
          "2016-01",
          "2016-02",
          "2016-03",
          "2016-04",
          "2016-05",
          "2016-06",
          "2016-07",
          "2016-08",
          "2016-09",
          "2016-10",
          "2016-11",
          "2016-12",
          "2017-01"
         ],
         "xaxis": "x",
         "y": [
          16543,
          20128,
          23357,
          22597,
          23842,
          23651,
          22329,
          22529,
          22471,
          23765,
          23352,
          24409,
          1574
         ],
         "yaxis": "y"
        }
       ],
       "layout": {
        "barmode": "relative",
        "legend": {
         "tracegroupgap": 0
        },
        "margin": {
         "t": 60
        },
        "template": {
         "data": {
          "bar": [
           {
            "error_x": {
             "color": "#f2f5fa"
            },
            "error_y": {
             "color": "#f2f5fa"
            },
            "marker": {
             "line": {
              "color": "rgb(17,17,17)",
              "width": 0.5
             },
             "pattern": {
              "fillmode": "overlay",
              "size": 10,
              "solidity": 0.2
             }
            },
            "type": "bar"
           }
          ],
          "barpolar": [
           {
            "marker": {
             "line": {
              "color": "rgb(17,17,17)",
              "width": 0.5
             },
             "pattern": {
              "fillmode": "overlay",
              "size": 10,
              "solidity": 0.2
             }
            },
            "type": "barpolar"
           }
          ],
          "carpet": [
           {
            "aaxis": {
             "endlinecolor": "#A2B1C6",
             "gridcolor": "#506784",
             "linecolor": "#506784",
             "minorgridcolor": "#506784",
             "startlinecolor": "#A2B1C6"
            },
            "baxis": {
             "endlinecolor": "#A2B1C6",
             "gridcolor": "#506784",
             "linecolor": "#506784",
             "minorgridcolor": "#506784",
             "startlinecolor": "#A2B1C6"
            },
            "type": "carpet"
           }
          ],
          "choropleth": [
           {
            "colorbar": {
             "outlinewidth": 0,
             "ticks": ""
            },
            "type": "choropleth"
           }
          ],
          "contour": [
           {
            "colorbar": {
             "outlinewidth": 0,
             "ticks": ""
            },
            "colorscale": [
             [
              0,
              "#0d0887"
             ],
             [
              0.1111111111111111,
              "#46039f"
             ],
             [
              0.2222222222222222,
              "#7201a8"
             ],
             [
              0.3333333333333333,
              "#9c179e"
             ],
             [
              0.4444444444444444,
              "#bd3786"
             ],
             [
              0.5555555555555556,
              "#d8576b"
             ],
             [
              0.6666666666666666,
              "#ed7953"
             ],
             [
              0.7777777777777778,
              "#fb9f3a"
             ],
             [
              0.8888888888888888,
              "#fdca26"
             ],
             [
              1,
              "#f0f921"
             ]
            ],
            "type": "contour"
           }
          ],
          "contourcarpet": [
           {
            "colorbar": {
             "outlinewidth": 0,
             "ticks": ""
            },
            "type": "contourcarpet"
           }
          ],
          "heatmap": [
           {
            "colorbar": {
             "outlinewidth": 0,
             "ticks": ""
            },
            "colorscale": [
             [
              0,
              "#0d0887"
             ],
             [
              0.1111111111111111,
              "#46039f"
             ],
             [
              0.2222222222222222,
              "#7201a8"
             ],
             [
              0.3333333333333333,
              "#9c179e"
             ],
             [
              0.4444444444444444,
              "#bd3786"
             ],
             [
              0.5555555555555556,
              "#d8576b"
             ],
             [
              0.6666666666666666,
              "#ed7953"
             ],
             [
              0.7777777777777778,
              "#fb9f3a"
             ],
             [
              0.8888888888888888,
              "#fdca26"
             ],
             [
              1,
              "#f0f921"
             ]
            ],
            "type": "heatmap"
           }
          ],
          "heatmapgl": [
           {
            "colorbar": {
             "outlinewidth": 0,
             "ticks": ""
            },
            "colorscale": [
             [
              0,
              "#0d0887"
             ],
             [
              0.1111111111111111,
              "#46039f"
             ],
             [
              0.2222222222222222,
              "#7201a8"
             ],
             [
              0.3333333333333333,
              "#9c179e"
             ],
             [
              0.4444444444444444,
              "#bd3786"
             ],
             [
              0.5555555555555556,
              "#d8576b"
             ],
             [
              0.6666666666666666,
              "#ed7953"
             ],
             [
              0.7777777777777778,
              "#fb9f3a"
             ],
             [
              0.8888888888888888,
              "#fdca26"
             ],
             [
              1,
              "#f0f921"
             ]
            ],
            "type": "heatmapgl"
           }
          ],
          "histogram": [
           {
            "marker": {
             "pattern": {
              "fillmode": "overlay",
              "size": 10,
              "solidity": 0.2
             }
            },
            "type": "histogram"
           }
          ],
          "histogram2d": [
           {
            "colorbar": {
             "outlinewidth": 0,
             "ticks": ""
            },
            "colorscale": [
             [
              0,
              "#0d0887"
             ],
             [
              0.1111111111111111,
              "#46039f"
             ],
             [
              0.2222222222222222,
              "#7201a8"
             ],
             [
              0.3333333333333333,
              "#9c179e"
             ],
             [
              0.4444444444444444,
              "#bd3786"
             ],
             [
              0.5555555555555556,
              "#d8576b"
             ],
             [
              0.6666666666666666,
              "#ed7953"
             ],
             [
              0.7777777777777778,
              "#fb9f3a"
             ],
             [
              0.8888888888888888,
              "#fdca26"
             ],
             [
              1,
              "#f0f921"
             ]
            ],
            "type": "histogram2d"
           }
          ],
          "histogram2dcontour": [
           {
            "colorbar": {
             "outlinewidth": 0,
             "ticks": ""
            },
            "colorscale": [
             [
              0,
              "#0d0887"
             ],
             [
              0.1111111111111111,
              "#46039f"
             ],
             [
              0.2222222222222222,
              "#7201a8"
             ],
             [
              0.3333333333333333,
              "#9c179e"
             ],
             [
              0.4444444444444444,
              "#bd3786"
             ],
             [
              0.5555555555555556,
              "#d8576b"
             ],
             [
              0.6666666666666666,
              "#ed7953"
             ],
             [
              0.7777777777777778,
              "#fb9f3a"
             ],
             [
              0.8888888888888888,
              "#fdca26"
             ],
             [
              1,
              "#f0f921"
             ]
            ],
            "type": "histogram2dcontour"
           }
          ],
          "mesh3d": [
           {
            "colorbar": {
             "outlinewidth": 0,
             "ticks": ""
            },
            "type": "mesh3d"
           }
          ],
          "parcoords": [
           {
            "line": {
             "colorbar": {
              "outlinewidth": 0,
              "ticks": ""
             }
            },
            "type": "parcoords"
           }
          ],
          "pie": [
           {
            "automargin": true,
            "type": "pie"
           }
          ],
          "scatter": [
           {
            "marker": {
             "line": {
              "color": "#283442"
             }
            },
            "type": "scatter"
           }
          ],
          "scatter3d": [
           {
            "line": {
             "colorbar": {
              "outlinewidth": 0,
              "ticks": ""
             }
            },
            "marker": {
             "colorbar": {
              "outlinewidth": 0,
              "ticks": ""
             }
            },
            "type": "scatter3d"
           }
          ],
          "scattercarpet": [
           {
            "marker": {
             "colorbar": {
              "outlinewidth": 0,
              "ticks": ""
             }
            },
            "type": "scattercarpet"
           }
          ],
          "scattergeo": [
           {
            "marker": {
             "colorbar": {
              "outlinewidth": 0,
              "ticks": ""
             }
            },
            "type": "scattergeo"
           }
          ],
          "scattergl": [
           {
            "marker": {
             "line": {
              "color": "#283442"
             }
            },
            "type": "scattergl"
           }
          ],
          "scattermapbox": [
           {
            "marker": {
             "colorbar": {
              "outlinewidth": 0,
              "ticks": ""
             }
            },
            "type": "scattermapbox"
           }
          ],
          "scatterpolar": [
           {
            "marker": {
             "colorbar": {
              "outlinewidth": 0,
              "ticks": ""
             }
            },
            "type": "scatterpolar"
           }
          ],
          "scatterpolargl": [
           {
            "marker": {
             "colorbar": {
              "outlinewidth": 0,
              "ticks": ""
             }
            },
            "type": "scatterpolargl"
           }
          ],
          "scatterternary": [
           {
            "marker": {
             "colorbar": {
              "outlinewidth": 0,
              "ticks": ""
             }
            },
            "type": "scatterternary"
           }
          ],
          "surface": [
           {
            "colorbar": {
             "outlinewidth": 0,
             "ticks": ""
            },
            "colorscale": [
             [
              0,
              "#0d0887"
             ],
             [
              0.1111111111111111,
              "#46039f"
             ],
             [
              0.2222222222222222,
              "#7201a8"
             ],
             [
              0.3333333333333333,
              "#9c179e"
             ],
             [
              0.4444444444444444,
              "#bd3786"
             ],
             [
              0.5555555555555556,
              "#d8576b"
             ],
             [
              0.6666666666666666,
              "#ed7953"
             ],
             [
              0.7777777777777778,
              "#fb9f3a"
             ],
             [
              0.8888888888888888,
              "#fdca26"
             ],
             [
              1,
              "#f0f921"
             ]
            ],
            "type": "surface"
           }
          ],
          "table": [
           {
            "cells": {
             "fill": {
              "color": "#506784"
             },
             "line": {
              "color": "rgb(17,17,17)"
             }
            },
            "header": {
             "fill": {
              "color": "#2a3f5f"
             },
             "line": {
              "color": "rgb(17,17,17)"
             }
            },
            "type": "table"
           }
          ]
         },
         "layout": {
          "annotationdefaults": {
           "arrowcolor": "#f2f5fa",
           "arrowhead": 0,
           "arrowwidth": 1
          },
          "autotypenumbers": "strict",
          "coloraxis": {
           "colorbar": {
            "outlinewidth": 0,
            "ticks": ""
           }
          },
          "colorscale": {
           "diverging": [
            [
             0,
             "#8e0152"
            ],
            [
             0.1,
             "#c51b7d"
            ],
            [
             0.2,
             "#de77ae"
            ],
            [
             0.3,
             "#f1b6da"
            ],
            [
             0.4,
             "#fde0ef"
            ],
            [
             0.5,
             "#f7f7f7"
            ],
            [
             0.6,
             "#e6f5d0"
            ],
            [
             0.7,
             "#b8e186"
            ],
            [
             0.8,
             "#7fbc41"
            ],
            [
             0.9,
             "#4d9221"
            ],
            [
             1,
             "#276419"
            ]
           ],
           "sequential": [
            [
             0,
             "#0d0887"
            ],
            [
             0.1111111111111111,
             "#46039f"
            ],
            [
             0.2222222222222222,
             "#7201a8"
            ],
            [
             0.3333333333333333,
             "#9c179e"
            ],
            [
             0.4444444444444444,
             "#bd3786"
            ],
            [
             0.5555555555555556,
             "#d8576b"
            ],
            [
             0.6666666666666666,
             "#ed7953"
            ],
            [
             0.7777777777777778,
             "#fb9f3a"
            ],
            [
             0.8888888888888888,
             "#fdca26"
            ],
            [
             1,
             "#f0f921"
            ]
           ],
           "sequentialminus": [
            [
             0,
             "#0d0887"
            ],
            [
             0.1111111111111111,
             "#46039f"
            ],
            [
             0.2222222222222222,
             "#7201a8"
            ],
            [
             0.3333333333333333,
             "#9c179e"
            ],
            [
             0.4444444444444444,
             "#bd3786"
            ],
            [
             0.5555555555555556,
             "#d8576b"
            ],
            [
             0.6666666666666666,
             "#ed7953"
            ],
            [
             0.7777777777777778,
             "#fb9f3a"
            ],
            [
             0.8888888888888888,
             "#fdca26"
            ],
            [
             1,
             "#f0f921"
            ]
           ]
          },
          "colorway": [
           "#636efa",
           "#EF553B",
           "#00cc96",
           "#ab63fa",
           "#FFA15A",
           "#19d3f3",
           "#FF6692",
           "#B6E880",
           "#FF97FF",
           "#FECB52"
          ],
          "font": {
           "color": "#f2f5fa"
          },
          "geo": {
           "bgcolor": "rgb(17,17,17)",
           "lakecolor": "rgb(17,17,17)",
           "landcolor": "rgb(17,17,17)",
           "showlakes": true,
           "showland": true,
           "subunitcolor": "#506784"
          },
          "hoverlabel": {
           "align": "left"
          },
          "hovermode": "closest",
          "mapbox": {
           "style": "dark"
          },
          "paper_bgcolor": "rgb(17,17,17)",
          "plot_bgcolor": "rgb(17,17,17)",
          "polar": {
           "angularaxis": {
            "gridcolor": "#506784",
            "linecolor": "#506784",
            "ticks": ""
           },
           "bgcolor": "rgb(17,17,17)",
           "radialaxis": {
            "gridcolor": "#506784",
            "linecolor": "#506784",
            "ticks": ""
           }
          },
          "scene": {
           "xaxis": {
            "backgroundcolor": "rgb(17,17,17)",
            "gridcolor": "#506784",
            "gridwidth": 2,
            "linecolor": "#506784",
            "showbackground": true,
            "ticks": "",
            "zerolinecolor": "#C8D4E3"
           },
           "yaxis": {
            "backgroundcolor": "rgb(17,17,17)",
            "gridcolor": "#506784",
            "gridwidth": 2,
            "linecolor": "#506784",
            "showbackground": true,
            "ticks": "",
            "zerolinecolor": "#C8D4E3"
           },
           "zaxis": {
            "backgroundcolor": "rgb(17,17,17)",
            "gridcolor": "#506784",
            "gridwidth": 2,
            "linecolor": "#506784",
            "showbackground": true,
            "ticks": "",
            "zerolinecolor": "#C8D4E3"
           }
          },
          "shapedefaults": {
           "line": {
            "color": "#f2f5fa"
           }
          },
          "sliderdefaults": {
           "bgcolor": "#C8D4E3",
           "bordercolor": "rgb(17,17,17)",
           "borderwidth": 1,
           "tickwidth": 0
          },
          "ternary": {
           "aaxis": {
            "gridcolor": "#506784",
            "linecolor": "#506784",
            "ticks": ""
           },
           "baxis": {
            "gridcolor": "#506784",
            "linecolor": "#506784",
            "ticks": ""
           },
           "bgcolor": "rgb(17,17,17)",
           "caxis": {
            "gridcolor": "#506784",
            "linecolor": "#506784",
            "ticks": ""
           }
          },
          "title": {
           "x": 0.05
          },
          "updatemenudefaults": {
           "bgcolor": "#506784",
           "borderwidth": 0
          },
          "xaxis": {
           "automargin": true,
           "gridcolor": "#283442",
           "linecolor": "#506784",
           "ticks": "",
           "title": {
            "standoff": 15
           },
           "zerolinecolor": "#283442",
           "zerolinewidth": 2
          },
          "yaxis": {
           "automargin": true,
           "gridcolor": "#283442",
           "linecolor": "#506784",
           "ticks": "",
           "title": {
            "standoff": 15
           },
           "zerolinecolor": "#283442",
           "zerolinewidth": 2
          }
         }
        },
        "xaxis": {
         "anchor": "y",
         "domain": [
          0,
          1
         ],
         "title": {
          "text": "data"
         }
        },
        "yaxis": {
         "anchor": "x",
         "domain": [
          0,
          1
         ],
         "title": {
          "text": "vaga_disponivel"
         }
        }
       }
      }
     },
     "metadata": {},
     "output_type": "display_data"
    }
   ],
   "source": [
    "px.bar(subset, x = 'data', y = 'vaga_disponivel', template = 'plotly_dark')"
   ]
  },
  {
   "cell_type": "code",
   "execution_count": 415,
   "metadata": {},
   "outputs": [
    {
     "name": "stdout",
     "output_type": "stream",
     "text": [
      "<class 'pandas.core.series.Series'>\n",
      "Index: 365000 entries, 0 to 364999\n",
      "Series name: preco\n",
      "Non-Null Count   Dtype \n",
      "--------------   ----- \n",
      "270547 non-null  object\n",
      "dtypes: object(1)\n",
      "memory usage: 5.6+ MB\n"
     ]
    }
   ],
   "source": [
    "df_imoveis['preco'].info()"
   ]
  },
  {
   "cell_type": "code",
   "execution_count": 416,
   "metadata": {},
   "outputs": [
    {
     "name": "stdout",
     "output_type": "stream",
     "text": [
      "<class 'pandas.core.series.Series'>\n",
      "Index: 365000 entries, 0 to 364999\n",
      "Series name: preco\n",
      "Non-Null Count   Dtype \n",
      "--------------   ----- \n",
      "365000 non-null  object\n",
      "dtypes: object(1)\n",
      "memory usage: 5.6+ MB\n"
     ]
    }
   ],
   "source": [
    "df_imoveis['preco'] = df_imoveis['preco'].fillna('0.0') # tirando NaN\n",
    "df_imoveis['preco'].info()"
   ]
  },
  {
   "cell_type": "code",
   "execution_count": 417,
   "metadata": {},
   "outputs": [
    {
     "name": "stdout",
     "output_type": "stream",
     "text": [
      "<class 'pandas.core.frame.DataFrame'>\n",
      "Index: 365000 entries, 0 to 364999\n",
      "Data columns (total 4 columns):\n",
      " #   Column           Non-Null Count   Dtype         \n",
      "---  ------           --------------   -----         \n",
      " 0   id               365000 non-null  int64         \n",
      " 1   data             365000 non-null  datetime64[ns]\n",
      " 2   vaga_disponivel  365000 non-null  bool          \n",
      " 3   preco            365000 non-null  float64       \n",
      "dtypes: bool(1), datetime64[ns](1), float64(1), int64(1)\n",
      "memory usage: 11.5 MB\n"
     ]
    }
   ],
   "source": [
    "df_imoveis['preco'] = df_imoveis['preco'].apply(lambda x: x.replace('$', '').replace(',', '').strip())\n",
    "df_imoveis['preco'] = df_imoveis['preco'].astype(float)\n",
    "df_imoveis.info()"
   ]
  },
  {
   "cell_type": "code",
   "execution_count": 418,
   "metadata": {},
   "outputs": [
    {
     "data": {
      "text/plain": [
       "array([   0.,  120.,   82.,   50.,   49.,   42.,   55.,   54.,   53.,\n",
       "         56.,   58.,   60.,   48.,   90.,  100.,   85.,   70.,  109.,\n",
       "        119.,   99.,  149.,  165.,  175.,  185.,  125.,  310.,  320.,\n",
       "        252.,  261.,  287.,  313.,  348.,  365.,  305.,  329.,  352.,\n",
       "        356.,  374.,  382.,  391.,  409.,  478.,  496.,  470.,  400.,\n",
       "        417.,  426.,  435.,  443.,  452.,  461.,  504.,  530.,  548.,\n",
       "        522.,  487.,  513.,  539.,  557.,  565.,  574.,  517.,  499.,\n",
       "        360.,   40.,   89.,   95.,  108.,  171.,  130.,  158.,  141.,\n",
       "        257.,  210.,  198.,  215.,  249.,  164.,  170.,  192.,  311.,\n",
       "        187.,  209.,  288.,  277.,  254.,  153.,  272.,  181.,  226.,\n",
       "        367.,  266.,  335.,  137.,   69.,   79.,   59.,  240.,  227.,\n",
       "        270.,  211.,  243.,  324.,  480.,  322.,  395.,   80.,   75.,\n",
       "        199.,  202.,  203.,  195.,  190.,  201.,  207.,  196.,  189.,\n",
       "        212.,  200.,  206.,  193.,  205.,  214.,  197.,  213.,  350.,\n",
       "        268.,  225.,  325.,  303.,  238.,  237.,  315.,  317.,  314.,\n",
       "        242.,  375.,  282.,  245.,  247.,  289.,  384.,  342.,  253.,\n",
       "        262.,  275.,  294.,  433.,  370.,  372.,  402.,  486.,  463.,\n",
       "        524.,  431.,  430.,  471.,  533.,  509.,  511.,  469.,  519.,\n",
       "        583.,  607.,  554.,  425.,  545.,  610.,   65.,  220.,  155.,\n",
       "        250.,   97.,   93.,  105.,  223.,  135.,  204.,  110.,   92.,\n",
       "        114.,   84.,  124.,  121.,  144.,  150.,  160.,  140.,  235.,\n",
       "        122.,  115.,  145.,   88.,   67.,   74.,   76.,   77.,   78.,\n",
       "         81.,   87.,   91.,   83.,   86.,   96.,   94.,  117.,  138.,\n",
       "         64.,   73.,   71.,   72.,   68.,   39.,   57.,   51.,   52.,\n",
       "         61.,   62.,   63.,   66.,  159.,  280.,  102.,  219.,  194.,\n",
       "        224.,  103.,  104.,  101.,  106.,  107.,  134.,  129.,  265.,\n",
       "        380.,  385.,  229.,  290.,  182.,   46.,  111.,  112.,  116.,\n",
       "        113.,  118.,   45.,  139.,  154.,  169.,  174.,  179.,  600.,\n",
       "        500.,  450.,  475.,  147.,  142.,  148.,  146.,  152.,  156.,\n",
       "        162.,  151.,  157.,  168.,  172.,  161.,  166.,  173.,  180.,\n",
       "        184.,  177.,  183.,  186.,  188.,  232.,  364.,  299.,  344.,\n",
       "        218.,  251.,  538.,  448.,  328.,  404.,  564.,  393.,  420.,\n",
       "        300.,  244.,  550.,  650.,  673.,  259.,  239.,  279.,  123.,\n",
       "        126.,  131.,  228.,  274.,  236.,  255.,  276.,  291.,  308.,\n",
       "        263.,  286.,  331.,  256.,  295.,  337.,  296.,  267.,  334.,\n",
       "        304.,  281.,  341.,  285.,  345.,  309.,  340.,  312.,  293.,\n",
       "        353.,  361.,  319.,  326.,  302.,  332.,  333.,  366.,  371.,\n",
       "        339.,  307.,  318.,  338.,  376.,  383.,  323.,  379.,  349.,\n",
       "        394.,  363.,  347.,  410.,  630.,  368.,  327.,  373.,  369.,\n",
       "        377.,  388.,  357.,  412.,  397.,  408.,  398.,  413.,  456.,\n",
       "        390.,  403.,  419.,  455.,  437.,  429.,  415.,  428.,  468.,\n",
       "        449.,  392.,  446.,  454.,  473.,  440.,  590.,  442.,  485.,\n",
       "        479.,   98.,   44.,   47.,  128.,  133.,  127.,  132.,  143.,\n",
       "        136.,  176.,  163.,  178.,  167.,  191.,  264.,  248.,  233.,\n",
       "        260.,  399.,  222.,   43.,  208.,  508.,  401.,  230.,  216.,\n",
       "        221.,  234.,  330.,  306.,  301.,  378.,  462.,  273.,  297.,\n",
       "        284.,  292.,  283.,  414.,  258.,  298.,  464.,  459.,  434.,\n",
       "        465.,  411.,  359.,  217.,  246.,  316.,  336.,  396.,  460.,\n",
       "        436.,  466.,  346.,  484.,  482.,  453.,  457.,  488.,  491.,\n",
       "        477.,  358.,  269.,  321.,  231.,  389.,  416.,  422.,  418.,\n",
       "        355.,  445.,  241.,  343.,  271.,  447.,  502.,  439.,   34.,\n",
       "         37.,   38.,   41.,  387.,  537.,  520.,  546.,  512.,  498.,\n",
       "        506.,  575.,  659.,  640.,  676.,  622.,  525.,   36.,  495.,\n",
       "        407.,  490.,   29.,  598.,  593.,  354.,   30.,   35.,   33.,\n",
       "         25.,   27.,   28.,   22.,   23.,   32.,   31.,  750.,  900.,\n",
       "       1000.,  501., 1240.,  950.,  680.,  975.,  675., 1250., 1450.,\n",
       "       1650.,  444.])"
      ]
     },
     "execution_count": 418,
     "metadata": {},
     "output_type": "execute_result"
    }
   ],
   "source": [
    "df_imoveis['preco'].unique()"
   ]
  },
  {
   "cell_type": "markdown",
   "metadata": {},
   "source": [
    "<h4>Dados de Vendas de Clientes</h4>"
   ]
  },
  {
   "cell_type": "code",
   "execution_count": 358,
   "metadata": {},
   "outputs": [
    {
     "data": {
      "text/html": [
       "<div>\n",
       "<style scoped>\n",
       "    .dataframe tbody tr th:only-of-type {\n",
       "        vertical-align: middle;\n",
       "    }\n",
       "\n",
       "    .dataframe tbody tr th {\n",
       "        vertical-align: top;\n",
       "    }\n",
       "\n",
       "    .dataframe thead th {\n",
       "        text-align: right;\n",
       "    }\n",
       "</style>\n",
       "<table border=\"1\" class=\"dataframe\">\n",
       "  <thead>\n",
       "    <tr style=\"text-align: right;\">\n",
       "      <th></th>\n",
       "      <th>dados_vendas</th>\n",
       "    </tr>\n",
       "  </thead>\n",
       "  <tbody>\n",
       "    <tr>\n",
       "      <th>0</th>\n",
       "      <td>{'Data de venda': '06/06/2022', 'Cliente': ['@...</td>\n",
       "    </tr>\n",
       "    <tr>\n",
       "      <th>1</th>\n",
       "      <td>{'Data de venda': '07/06/2022', 'Cliente': ['I...</td>\n",
       "    </tr>\n",
       "    <tr>\n",
       "      <th>2</th>\n",
       "      <td>{'Data de venda': '08/06/2022', 'Cliente': ['I...</td>\n",
       "    </tr>\n",
       "    <tr>\n",
       "      <th>3</th>\n",
       "      <td>{'Data de venda': '09/06/2022', 'Cliente': ['J...</td>\n",
       "    </tr>\n",
       "    <tr>\n",
       "      <th>4</th>\n",
       "      <td>{'Data de venda': '10/06/2022', 'Cliente': ['M...</td>\n",
       "    </tr>\n",
       "  </tbody>\n",
       "</table>\n",
       "</div>"
      ],
      "text/plain": [
       "                                        dados_vendas\n",
       "0  {'Data de venda': '06/06/2022', 'Cliente': ['@...\n",
       "1  {'Data de venda': '07/06/2022', 'Cliente': ['I...\n",
       "2  {'Data de venda': '08/06/2022', 'Cliente': ['I...\n",
       "3  {'Data de venda': '09/06/2022', 'Cliente': ['J...\n",
       "4  {'Data de venda': '10/06/2022', 'Cliente': ['M..."
      ]
     },
     "execution_count": 358,
     "metadata": {},
     "output_type": "execute_result"
    }
   ],
   "source": [
    "# dados de vendas clientes\n",
    "path_3 = r'.\\dados_vendas_clientes.json'\n",
    "df_clientes = pd.read_json(path_3)\n",
    "df_clientes"
   ]
  },
  {
   "cell_type": "code",
   "execution_count": 359,
   "metadata": {},
   "outputs": [
    {
     "data": {
      "text/html": [
       "<div>\n",
       "<style scoped>\n",
       "    .dataframe tbody tr th:only-of-type {\n",
       "        vertical-align: middle;\n",
       "    }\n",
       "\n",
       "    .dataframe tbody tr th {\n",
       "        vertical-align: top;\n",
       "    }\n",
       "\n",
       "    .dataframe thead th {\n",
       "        text-align: right;\n",
       "    }\n",
       "</style>\n",
       "<table border=\"1\" class=\"dataframe\">\n",
       "  <thead>\n",
       "    <tr style=\"text-align: right;\">\n",
       "      <th></th>\n",
       "      <th>Data de venda</th>\n",
       "      <th>Cliente</th>\n",
       "      <th>Valor da compra</th>\n",
       "    </tr>\n",
       "  </thead>\n",
       "  <tbody>\n",
       "    <tr>\n",
       "      <th>0</th>\n",
       "      <td>06/06/2022</td>\n",
       "      <td>[@ANA _LUCIA 321, DieGO ARMANDIU 210, DieGO AR...</td>\n",
       "      <td>[R$ 836,5, R$ 573,33, R$ 392,8, R$ 512,34]</td>\n",
       "    </tr>\n",
       "    <tr>\n",
       "      <th>1</th>\n",
       "      <td>07/06/2022</td>\n",
       "      <td>[Isabely JOanes 738, Isabely JOanes 738, Isabe...</td>\n",
       "      <td>[R$ 825,31, R$ 168,07, R$ 339,18, R$ 314,69]</td>\n",
       "    </tr>\n",
       "    <tr>\n",
       "      <th>2</th>\n",
       "      <td>08/06/2022</td>\n",
       "      <td>[Isabely JOanes 738, JOãO Gabriel 671, Julya m...</td>\n",
       "      <td>[R$ 682,05, R$ 386,34, R$ 622,65, R$ 630,79]</td>\n",
       "    </tr>\n",
       "    <tr>\n",
       "      <th>3</th>\n",
       "      <td>09/06/2022</td>\n",
       "      <td>[Julya meireles 914, MaRIA Julia 444, MaRIA Ju...</td>\n",
       "      <td>[R$ 390,3, R$ 759,16, R$ 334,47, R$ 678,78]</td>\n",
       "    </tr>\n",
       "    <tr>\n",
       "      <th>4</th>\n",
       "      <td>10/06/2022</td>\n",
       "      <td>[MaRIA Julia 444, PEDRO PASCO 812, Paulo castr...</td>\n",
       "      <td>[R$ 314,24, R$ 311,15, R$ 899,16, R$ 885,24]</td>\n",
       "    </tr>\n",
       "  </tbody>\n",
       "</table>\n",
       "</div>"
      ],
      "text/plain": [
       "  Data de venda                                            Cliente  \\\n",
       "0    06/06/2022  [@ANA _LUCIA 321, DieGO ARMANDIU 210, DieGO AR...   \n",
       "1    07/06/2022  [Isabely JOanes 738, Isabely JOanes 738, Isabe...   \n",
       "2    08/06/2022  [Isabely JOanes 738, JOãO Gabriel 671, Julya m...   \n",
       "3    09/06/2022  [Julya meireles 914, MaRIA Julia 444, MaRIA Ju...   \n",
       "4    10/06/2022  [MaRIA Julia 444, PEDRO PASCO 812, Paulo castr...   \n",
       "\n",
       "                                Valor da compra  \n",
       "0    [R$ 836,5, R$ 573,33, R$ 392,8, R$ 512,34]  \n",
       "1  [R$ 825,31, R$ 168,07, R$ 339,18, R$ 314,69]  \n",
       "2  [R$ 682,05, R$ 386,34, R$ 622,65, R$ 630,79]  \n",
       "3   [R$ 390,3, R$ 759,16, R$ 334,47, R$ 678,78]  \n",
       "4  [R$ 314,24, R$ 311,15, R$ 899,16, R$ 885,24]  "
      ]
     },
     "execution_count": 359,
     "metadata": {},
     "output_type": "execute_result"
    }
   ],
   "source": [
    "# desaninhando data frame\n",
    "df_clientes = pd.json_normalize(df_clientes['dados_vendas'])\n",
    "df_clientes"
   ]
  },
  {
   "cell_type": "markdown",
   "metadata": {},
   "source": [
    "<h4>Dados de Pagamento das Locação dos Imóveis</h4>"
   ]
  },
  {
   "cell_type": "code",
   "execution_count": 360,
   "metadata": {},
   "outputs": [
    {
     "data": {
      "text/html": [
       "<div>\n",
       "<style scoped>\n",
       "    .dataframe tbody tr th:only-of-type {\n",
       "        vertical-align: middle;\n",
       "    }\n",
       "\n",
       "    .dataframe tbody tr th {\n",
       "        vertical-align: top;\n",
       "    }\n",
       "\n",
       "    .dataframe thead th {\n",
       "        text-align: right;\n",
       "    }\n",
       "</style>\n",
       "<table border=\"1\" class=\"dataframe\">\n",
       "  <thead>\n",
       "    <tr style=\"text-align: right;\">\n",
       "      <th></th>\n",
       "      <th>dados_locacao</th>\n",
       "    </tr>\n",
       "  </thead>\n",
       "  <tbody>\n",
       "    <tr>\n",
       "      <th>0</th>\n",
       "      <td>{'apartamento': 'A101 (blocoAP)', 'datas_combi...</td>\n",
       "    </tr>\n",
       "    <tr>\n",
       "      <th>1</th>\n",
       "      <td>{'apartamento': 'A102 (blocoAP)', 'datas_combi...</td>\n",
       "    </tr>\n",
       "    <tr>\n",
       "      <th>2</th>\n",
       "      <td>{'apartamento': 'B201 (blocoAP)', 'datas_combi...</td>\n",
       "    </tr>\n",
       "    <tr>\n",
       "      <th>3</th>\n",
       "      <td>{'apartamento': 'B202 (blocoAP)', 'datas_combi...</td>\n",
       "    </tr>\n",
       "    <tr>\n",
       "      <th>4</th>\n",
       "      <td>{'apartamento': 'C301 (blocoAP)', 'datas_combi...</td>\n",
       "    </tr>\n",
       "    <tr>\n",
       "      <th>5</th>\n",
       "      <td>{'apartamento': 'C302 (blocoAP)', 'datas_combi...</td>\n",
       "    </tr>\n",
       "    <tr>\n",
       "      <th>6</th>\n",
       "      <td>{'apartamento': 'D401 (blocoAP)', 'datas_combi...</td>\n",
       "    </tr>\n",
       "    <tr>\n",
       "      <th>7</th>\n",
       "      <td>{'apartamento': 'D402 (blocoAP)', 'datas_combi...</td>\n",
       "    </tr>\n",
       "    <tr>\n",
       "      <th>8</th>\n",
       "      <td>{'apartamento': 'E501 (blocoAP)', 'datas_combi...</td>\n",
       "    </tr>\n",
       "    <tr>\n",
       "      <th>9</th>\n",
       "      <td>{'apartamento': 'E502 (blocoAP)', 'datas_combi...</td>\n",
       "    </tr>\n",
       "    <tr>\n",
       "      <th>10</th>\n",
       "      <td>{'apartamento': 'F601 (blocoAP)', 'datas_combi...</td>\n",
       "    </tr>\n",
       "    <tr>\n",
       "      <th>11</th>\n",
       "      <td>{'apartamento': 'F602 (blocoAP)', 'datas_combi...</td>\n",
       "    </tr>\n",
       "    <tr>\n",
       "      <th>12</th>\n",
       "      <td>{'apartamento': 'G701 (blocoAP)', 'datas_combi...</td>\n",
       "    </tr>\n",
       "    <tr>\n",
       "      <th>13</th>\n",
       "      <td>{'apartamento': 'G702 (blocoAP)', 'datas_combi...</td>\n",
       "    </tr>\n",
       "    <tr>\n",
       "      <th>14</th>\n",
       "      <td>{'apartamento': 'H801 (blocoAP)', 'datas_combi...</td>\n",
       "    </tr>\n",
       "  </tbody>\n",
       "</table>\n",
       "</div>"
      ],
      "text/plain": [
       "                                        dados_locacao\n",
       "0   {'apartamento': 'A101 (blocoAP)', 'datas_combi...\n",
       "1   {'apartamento': 'A102 (blocoAP)', 'datas_combi...\n",
       "2   {'apartamento': 'B201 (blocoAP)', 'datas_combi...\n",
       "3   {'apartamento': 'B202 (blocoAP)', 'datas_combi...\n",
       "4   {'apartamento': 'C301 (blocoAP)', 'datas_combi...\n",
       "5   {'apartamento': 'C302 (blocoAP)', 'datas_combi...\n",
       "6   {'apartamento': 'D401 (blocoAP)', 'datas_combi...\n",
       "7   {'apartamento': 'D402 (blocoAP)', 'datas_combi...\n",
       "8   {'apartamento': 'E501 (blocoAP)', 'datas_combi...\n",
       "9   {'apartamento': 'E502 (blocoAP)', 'datas_combi...\n",
       "10  {'apartamento': 'F601 (blocoAP)', 'datas_combi...\n",
       "11  {'apartamento': 'F602 (blocoAP)', 'datas_combi...\n",
       "12  {'apartamento': 'G701 (blocoAP)', 'datas_combi...\n",
       "13  {'apartamento': 'G702 (blocoAP)', 'datas_combi...\n",
       "14  {'apartamento': 'H801 (blocoAP)', 'datas_combi..."
      ]
     },
     "execution_count": 360,
     "metadata": {},
     "output_type": "execute_result"
    }
   ],
   "source": [
    "# dados de locação dos imóveis\n",
    "path_4 = r'.\\dados_locacao_imoveis.json'\n",
    "df_locacao = pd.read_json(path_4)\n",
    "df_locacao"
   ]
  },
  {
   "cell_type": "code",
   "execution_count": 361,
   "metadata": {},
   "outputs": [
    {
     "data": {
      "text/html": [
       "<div>\n",
       "<style scoped>\n",
       "    .dataframe tbody tr th:only-of-type {\n",
       "        vertical-align: middle;\n",
       "    }\n",
       "\n",
       "    .dataframe tbody tr th {\n",
       "        vertical-align: top;\n",
       "    }\n",
       "\n",
       "    .dataframe thead th {\n",
       "        text-align: right;\n",
       "    }\n",
       "</style>\n",
       "<table border=\"1\" class=\"dataframe\">\n",
       "  <thead>\n",
       "    <tr style=\"text-align: right;\">\n",
       "      <th></th>\n",
       "      <th>apartamento</th>\n",
       "      <th>datas_combinadas_pagamento</th>\n",
       "      <th>datas_de_pagamento</th>\n",
       "      <th>valor_aluguel</th>\n",
       "    </tr>\n",
       "  </thead>\n",
       "  <tbody>\n",
       "    <tr>\n",
       "      <th>0</th>\n",
       "      <td>A101 (blocoAP)</td>\n",
       "      <td>[01/06/2022, 01/07/2022]</td>\n",
       "      <td>[05/06/2022, 03/07/2022]</td>\n",
       "      <td>[$ 1000,0 reais, $ 2500,0 reais]</td>\n",
       "    </tr>\n",
       "    <tr>\n",
       "      <th>1</th>\n",
       "      <td>A102 (blocoAP)</td>\n",
       "      <td>[02/06/2022, 02/07/2022]</td>\n",
       "      <td>[02/06/2022, 06/07/2022]</td>\n",
       "      <td>[$ 1100,0 reais, $ 2600,0 reais]</td>\n",
       "    </tr>\n",
       "    <tr>\n",
       "      <th>2</th>\n",
       "      <td>B201 (blocoAP)</td>\n",
       "      <td>[03/06/2022, 03/07/2022]</td>\n",
       "      <td>[07/06/2022, 03/07/2022]</td>\n",
       "      <td>[$ 1200,0 reais, $ 2700,0 reais]</td>\n",
       "    </tr>\n",
       "    <tr>\n",
       "      <th>3</th>\n",
       "      <td>B202 (blocoAP)</td>\n",
       "      <td>[04/06/2022, 04/07/2022]</td>\n",
       "      <td>[07/06/2022, 05/07/2022]</td>\n",
       "      <td>[$ 1300,0 reais, $ 2800,0 reais]</td>\n",
       "    </tr>\n",
       "    <tr>\n",
       "      <th>4</th>\n",
       "      <td>C301 (blocoAP)</td>\n",
       "      <td>[05/06/2022, 05/07/2022]</td>\n",
       "      <td>[10/06/2022, 09/07/2022]</td>\n",
       "      <td>[$ 1400,0 reais, $ 2900,0 reais]</td>\n",
       "    </tr>\n",
       "    <tr>\n",
       "      <th>5</th>\n",
       "      <td>C302 (blocoAP)</td>\n",
       "      <td>[06/06/2022, 06/07/2022]</td>\n",
       "      <td>[08/06/2022, 12/07/2022]</td>\n",
       "      <td>[$ 1500,0 reais, $ 1200,0 reais]</td>\n",
       "    </tr>\n",
       "    <tr>\n",
       "      <th>6</th>\n",
       "      <td>D401 (blocoAP)</td>\n",
       "      <td>[07/06/2022, 07/07/2022]</td>\n",
       "      <td>[07/06/2022, 09/07/2022]</td>\n",
       "      <td>[$ 1600,0 reais, $ 1300,0 reais]</td>\n",
       "    </tr>\n",
       "    <tr>\n",
       "      <th>7</th>\n",
       "      <td>D402 (blocoAP)</td>\n",
       "      <td>[08/06/2022, 08/07/2022]</td>\n",
       "      <td>[10/06/2022, 14/07/2022]</td>\n",
       "      <td>[$ 1700,0 reais, $ 1400,0 reais]</td>\n",
       "    </tr>\n",
       "    <tr>\n",
       "      <th>8</th>\n",
       "      <td>E501 (blocoAP)</td>\n",
       "      <td>[09/06/2022, 09/07/2022]</td>\n",
       "      <td>[10/06/2022, 09/07/2022]</td>\n",
       "      <td>[$ 1800,0 reais, $ 1500,0 reais]</td>\n",
       "    </tr>\n",
       "    <tr>\n",
       "      <th>9</th>\n",
       "      <td>E502 (blocoAP)</td>\n",
       "      <td>[10/06/2022, 10/07/2022]</td>\n",
       "      <td>[16/06/2022, 12/07/2022]</td>\n",
       "      <td>[$ 1900,0 reais, $ 1600,0 reais]</td>\n",
       "    </tr>\n",
       "    <tr>\n",
       "      <th>10</th>\n",
       "      <td>F601 (blocoAP)</td>\n",
       "      <td>[11/06/2022, 11/07/2022]</td>\n",
       "      <td>[17/06/2022, 13/07/2022]</td>\n",
       "      <td>[$ 2000,0 reais, $ 1000,0 reais]</td>\n",
       "    </tr>\n",
       "    <tr>\n",
       "      <th>11</th>\n",
       "      <td>F602 (blocoAP)</td>\n",
       "      <td>[12/06/2022, 12/07/2022]</td>\n",
       "      <td>[15/06/2022, 12/07/2022]</td>\n",
       "      <td>[$ 2100,0 reais, $ 1100,0 reais]</td>\n",
       "    </tr>\n",
       "    <tr>\n",
       "      <th>12</th>\n",
       "      <td>G701 (blocoAP)</td>\n",
       "      <td>[13/06/2022, 13/07/2022]</td>\n",
       "      <td>[19/06/2022, 20/07/2022]</td>\n",
       "      <td>[$ 2200,0 reais, $ 1200,0 reais]</td>\n",
       "    </tr>\n",
       "    <tr>\n",
       "      <th>13</th>\n",
       "      <td>G702 (blocoAP)</td>\n",
       "      <td>[14/06/2022, 14/07/2022]</td>\n",
       "      <td>[15/06/2022, 17/07/2022]</td>\n",
       "      <td>[$ 2300,0 reais, $ 2100,0 reais]</td>\n",
       "    </tr>\n",
       "    <tr>\n",
       "      <th>14</th>\n",
       "      <td>H801 (blocoAP)</td>\n",
       "      <td>[15/06/2022, 15/07/2022]</td>\n",
       "      <td>[18/06/2022, 16/07/2022]</td>\n",
       "      <td>[$ 2400,0 reais, $ 2200,0 reais]</td>\n",
       "    </tr>\n",
       "  </tbody>\n",
       "</table>\n",
       "</div>"
      ],
      "text/plain": [
       "       apartamento datas_combinadas_pagamento        datas_de_pagamento  \\\n",
       "0   A101 (blocoAP)   [01/06/2022, 01/07/2022]  [05/06/2022, 03/07/2022]   \n",
       "1   A102 (blocoAP)   [02/06/2022, 02/07/2022]  [02/06/2022, 06/07/2022]   \n",
       "2   B201 (blocoAP)   [03/06/2022, 03/07/2022]  [07/06/2022, 03/07/2022]   \n",
       "3   B202 (blocoAP)   [04/06/2022, 04/07/2022]  [07/06/2022, 05/07/2022]   \n",
       "4   C301 (blocoAP)   [05/06/2022, 05/07/2022]  [10/06/2022, 09/07/2022]   \n",
       "5   C302 (blocoAP)   [06/06/2022, 06/07/2022]  [08/06/2022, 12/07/2022]   \n",
       "6   D401 (blocoAP)   [07/06/2022, 07/07/2022]  [07/06/2022, 09/07/2022]   \n",
       "7   D402 (blocoAP)   [08/06/2022, 08/07/2022]  [10/06/2022, 14/07/2022]   \n",
       "8   E501 (blocoAP)   [09/06/2022, 09/07/2022]  [10/06/2022, 09/07/2022]   \n",
       "9   E502 (blocoAP)   [10/06/2022, 10/07/2022]  [16/06/2022, 12/07/2022]   \n",
       "10  F601 (blocoAP)   [11/06/2022, 11/07/2022]  [17/06/2022, 13/07/2022]   \n",
       "11  F602 (blocoAP)   [12/06/2022, 12/07/2022]  [15/06/2022, 12/07/2022]   \n",
       "12  G701 (blocoAP)   [13/06/2022, 13/07/2022]  [19/06/2022, 20/07/2022]   \n",
       "13  G702 (blocoAP)   [14/06/2022, 14/07/2022]  [15/06/2022, 17/07/2022]   \n",
       "14  H801 (blocoAP)   [15/06/2022, 15/07/2022]  [18/06/2022, 16/07/2022]   \n",
       "\n",
       "                       valor_aluguel  \n",
       "0   [$ 1000,0 reais, $ 2500,0 reais]  \n",
       "1   [$ 1100,0 reais, $ 2600,0 reais]  \n",
       "2   [$ 1200,0 reais, $ 2700,0 reais]  \n",
       "3   [$ 1300,0 reais, $ 2800,0 reais]  \n",
       "4   [$ 1400,0 reais, $ 2900,0 reais]  \n",
       "5   [$ 1500,0 reais, $ 1200,0 reais]  \n",
       "6   [$ 1600,0 reais, $ 1300,0 reais]  \n",
       "7   [$ 1700,0 reais, $ 1400,0 reais]  \n",
       "8   [$ 1800,0 reais, $ 1500,0 reais]  \n",
       "9   [$ 1900,0 reais, $ 1600,0 reais]  \n",
       "10  [$ 2000,0 reais, $ 1000,0 reais]  \n",
       "11  [$ 2100,0 reais, $ 1100,0 reais]  \n",
       "12  [$ 2200,0 reais, $ 1200,0 reais]  \n",
       "13  [$ 2300,0 reais, $ 2100,0 reais]  \n",
       "14  [$ 2400,0 reais, $ 2200,0 reais]  "
      ]
     },
     "execution_count": 361,
     "metadata": {},
     "output_type": "execute_result"
    }
   ],
   "source": [
    "# desaninhando dados\n",
    "df_locacao = pd.json_normalize(df_locacao['dados_locacao'])\n",
    "df_locacao"
   ]
  },
  {
   "cell_type": "markdown",
   "metadata": {},
   "source": [
    "<h3>Trabalhando com dados de de hospedagem</h3>"
   ]
  },
  {
   "cell_type": "code",
   "execution_count": 362,
   "metadata": {},
   "outputs": [
    {
     "data": {
      "text/plain": [
       "['avaliacao_geral',\n",
       " 'experiencia_local',\n",
       " 'max_hospedes',\n",
       " 'descricao_local',\n",
       " 'descricao_vizinhanca',\n",
       " 'quantidade_banheiros',\n",
       " 'quantidade_quartos',\n",
       " 'quantidade_camas',\n",
       " 'modelo_cama',\n",
       " 'comodidades',\n",
       " 'taxa_deposito',\n",
       " 'taxa_limpeza',\n",
       " 'preco']"
      ]
     },
     "execution_count": 362,
     "metadata": {},
     "output_type": "execute_result"
    }
   ],
   "source": [
    "colunas = list(df_hospedagem.columns)\n",
    "colunas"
   ]
  },
  {
   "cell_type": "code",
   "execution_count": 363,
   "metadata": {},
   "outputs": [
    {
     "data": {
      "text/html": [
       "<div>\n",
       "<style scoped>\n",
       "    .dataframe tbody tr th:only-of-type {\n",
       "        vertical-align: middle;\n",
       "    }\n",
       "\n",
       "    .dataframe tbody tr th {\n",
       "        vertical-align: top;\n",
       "    }\n",
       "\n",
       "    .dataframe thead th {\n",
       "        text-align: right;\n",
       "    }\n",
       "</style>\n",
       "<table border=\"1\" class=\"dataframe\">\n",
       "  <thead>\n",
       "    <tr style=\"text-align: right;\">\n",
       "      <th></th>\n",
       "      <th>avaliacao_geral</th>\n",
       "      <th>experiencia_local</th>\n",
       "      <th>max_hospedes</th>\n",
       "      <th>descricao_local</th>\n",
       "      <th>descricao_vizinhanca</th>\n",
       "      <th>quantidade_banheiros</th>\n",
       "      <th>quantidade_quartos</th>\n",
       "      <th>quantidade_camas</th>\n",
       "      <th>modelo_cama</th>\n",
       "      <th>comodidades</th>\n",
       "      <th>taxa_deposito</th>\n",
       "      <th>taxa_limpeza</th>\n",
       "      <th>preco</th>\n",
       "    </tr>\n",
       "  </thead>\n",
       "  <tbody>\n",
       "    <tr>\n",
       "      <th>0</th>\n",
       "      <td>10.0</td>\n",
       "      <td>--</td>\n",
       "      <td>1</td>\n",
       "      <td>This clean and comfortable one bedroom sits ri...</td>\n",
       "      <td>Lower Queen Anne is near the Seattle Center (s...</td>\n",
       "      <td>1</td>\n",
       "      <td>1</td>\n",
       "      <td>1</td>\n",
       "      <td>Real Bed</td>\n",
       "      <td>{Internet,\"Wireless Internet\",Kitchen,\"Free Pa...</td>\n",
       "      <td>$0</td>\n",
       "      <td>$0</td>\n",
       "      <td>$110.00</td>\n",
       "    </tr>\n",
       "    <tr>\n",
       "      <th>1</th>\n",
       "      <td>10.0</td>\n",
       "      <td>--</td>\n",
       "      <td>1</td>\n",
       "      <td>Our century old Upper Queen Anne house is loca...</td>\n",
       "      <td>Upper Queen Anne is a really pleasant, unique ...</td>\n",
       "      <td>1</td>\n",
       "      <td>1</td>\n",
       "      <td>1</td>\n",
       "      <td>Futon</td>\n",
       "      <td>{TV,Internet,\"Wireless Internet\",Kitchen,\"Free...</td>\n",
       "      <td>$0</td>\n",
       "      <td>$0</td>\n",
       "      <td>$45.00</td>\n",
       "    </tr>\n",
       "    <tr>\n",
       "      <th>2</th>\n",
       "      <td>10.0</td>\n",
       "      <td>--</td>\n",
       "      <td>1</td>\n",
       "      <td>Cozy room in two-bedroom apartment along the l...</td>\n",
       "      <td>The convenience of being in Seattle but on the...</td>\n",
       "      <td>1</td>\n",
       "      <td>1</td>\n",
       "      <td>1</td>\n",
       "      <td>Futon</td>\n",
       "      <td>{TV,Internet,\"Wireless Internet\",Kitchen,\"Free...</td>\n",
       "      <td>$0</td>\n",
       "      <td>$0</td>\n",
       "      <td>$55.00</td>\n",
       "    </tr>\n",
       "    <tr>\n",
       "      <th>3</th>\n",
       "      <td>10.0</td>\n",
       "      <td>--</td>\n",
       "      <td>1</td>\n",
       "      <td>Very lovely and cozy room for one. Convenientl...</td>\n",
       "      <td>Ballard is lovely, vibrant and one of the most...</td>\n",
       "      <td>1</td>\n",
       "      <td>1</td>\n",
       "      <td>1</td>\n",
       "      <td>Pull-out Sofa</td>\n",
       "      <td>{Internet,\"Wireless Internet\",Kitchen,\"Free Pa...</td>\n",
       "      <td>$0</td>\n",
       "      <td>$20.00</td>\n",
       "      <td>$52.00</td>\n",
       "    </tr>\n",
       "    <tr>\n",
       "      <th>4</th>\n",
       "      <td>10.0</td>\n",
       "      <td>--</td>\n",
       "      <td>1</td>\n",
       "      <td>The “Studio at Mibbett Hollow' is in a Beautif...</td>\n",
       "      <td>--</td>\n",
       "      <td>1</td>\n",
       "      <td>1</td>\n",
       "      <td>1</td>\n",
       "      <td>Real Bed</td>\n",
       "      <td>{\"Wireless Internet\",Kitchen,\"Free Parking on ...</td>\n",
       "      <td>$0</td>\n",
       "      <td>$15.00</td>\n",
       "      <td>$85.00</td>\n",
       "    </tr>\n",
       "  </tbody>\n",
       "</table>\n",
       "</div>"
      ],
      "text/plain": [
       "  avaliacao_geral experiencia_local max_hospedes  \\\n",
       "0            10.0                --            1   \n",
       "1            10.0                --            1   \n",
       "2            10.0                --            1   \n",
       "3            10.0                --            1   \n",
       "4            10.0                --            1   \n",
       "\n",
       "                                     descricao_local  \\\n",
       "0  This clean and comfortable one bedroom sits ri...   \n",
       "1  Our century old Upper Queen Anne house is loca...   \n",
       "2  Cozy room in two-bedroom apartment along the l...   \n",
       "3  Very lovely and cozy room for one. Convenientl...   \n",
       "4  The “Studio at Mibbett Hollow' is in a Beautif...   \n",
       "\n",
       "                                descricao_vizinhanca quantidade_banheiros  \\\n",
       "0  Lower Queen Anne is near the Seattle Center (s...                    1   \n",
       "1  Upper Queen Anne is a really pleasant, unique ...                    1   \n",
       "2  The convenience of being in Seattle but on the...                    1   \n",
       "3  Ballard is lovely, vibrant and one of the most...                    1   \n",
       "4                                                 --                    1   \n",
       "\n",
       "  quantidade_quartos quantidade_camas    modelo_cama  \\\n",
       "0                  1                1       Real Bed   \n",
       "1                  1                1          Futon   \n",
       "2                  1                1          Futon   \n",
       "3                  1                1  Pull-out Sofa   \n",
       "4                  1                1       Real Bed   \n",
       "\n",
       "                                         comodidades taxa_deposito  \\\n",
       "0  {Internet,\"Wireless Internet\",Kitchen,\"Free Pa...            $0   \n",
       "1  {TV,Internet,\"Wireless Internet\",Kitchen,\"Free...            $0   \n",
       "2  {TV,Internet,\"Wireless Internet\",Kitchen,\"Free...            $0   \n",
       "3  {Internet,\"Wireless Internet\",Kitchen,\"Free Pa...            $0   \n",
       "4  {\"Wireless Internet\",Kitchen,\"Free Parking on ...            $0   \n",
       "\n",
       "  taxa_limpeza    preco  \n",
       "0           $0  $110.00  \n",
       "1           $0   $45.00  \n",
       "2           $0   $55.00  \n",
       "3       $20.00   $52.00  \n",
       "4       $15.00   $85.00  "
      ]
     },
     "execution_count": 363,
     "metadata": {},
     "output_type": "execute_result"
    }
   ],
   "source": [
    "# expandindo listas\n",
    "df_hospedagem = df_hospedagem.explode(colunas[3:]).reset_index(drop=True)\n",
    "df_hospedagem.head()"
   ]
  },
  {
   "cell_type": "code",
   "execution_count": 364,
   "metadata": {},
   "outputs": [
    {
     "name": "stdout",
     "output_type": "stream",
     "text": [
      "<class 'pandas.core.frame.DataFrame'>\n",
      "RangeIndex: 3818 entries, 0 to 3817\n",
      "Data columns (total 13 columns):\n",
      " #   Column                Non-Null Count  Dtype \n",
      "---  ------                --------------  ----- \n",
      " 0   avaliacao_geral       3818 non-null   object\n",
      " 1   experiencia_local     3818 non-null   object\n",
      " 2   max_hospedes          3818 non-null   object\n",
      " 3   descricao_local       3818 non-null   object\n",
      " 4   descricao_vizinhanca  3818 non-null   object\n",
      " 5   quantidade_banheiros  3818 non-null   object\n",
      " 6   quantidade_quartos    3818 non-null   object\n",
      " 7   quantidade_camas      3818 non-null   object\n",
      " 8   modelo_cama           3818 non-null   object\n",
      " 9   comodidades           3818 non-null   object\n",
      " 10  taxa_deposito         3818 non-null   object\n",
      " 11  taxa_limpeza          3818 non-null   object\n",
      " 12  preco                 3818 non-null   object\n",
      "dtypes: object(13)\n",
      "memory usage: 387.9+ KB\n"
     ]
    }
   ],
   "source": [
    "df_hospedagem.info()"
   ]
  },
  {
   "cell_type": "code",
   "execution_count": 365,
   "metadata": {},
   "outputs": [],
   "source": [
    "# transformando em inteiro onde aplicável\n",
    "colunas_int = ['quantidade_banheiros', 'quantidade_quartos', 'quantidade_camas', 'max_hospedes']"
   ]
  },
  {
   "cell_type": "code",
   "execution_count": 366,
   "metadata": {},
   "outputs": [
    {
     "name": "stdout",
     "output_type": "stream",
     "text": [
      "<class 'pandas.core.frame.DataFrame'>\n",
      "RangeIndex: 3818 entries, 0 to 3817\n",
      "Data columns (total 13 columns):\n",
      " #   Column                Non-Null Count  Dtype \n",
      "---  ------                --------------  ----- \n",
      " 0   avaliacao_geral       3818 non-null   object\n",
      " 1   experiencia_local     3818 non-null   object\n",
      " 2   max_hospedes          3818 non-null   int64 \n",
      " 3   descricao_local       3818 non-null   object\n",
      " 4   descricao_vizinhanca  3818 non-null   object\n",
      " 5   quantidade_banheiros  3818 non-null   int64 \n",
      " 6   quantidade_quartos    3818 non-null   int64 \n",
      " 7   quantidade_camas      3818 non-null   int64 \n",
      " 8   modelo_cama           3818 non-null   object\n",
      " 9   comodidades           3818 non-null   object\n",
      " 10  taxa_deposito         3818 non-null   object\n",
      " 11  taxa_limpeza          3818 non-null   object\n",
      " 12  preco                 3818 non-null   object\n",
      "dtypes: int64(4), object(9)\n",
      "memory usage: 387.9+ KB\n"
     ]
    }
   ],
   "source": [
    "df_hospedagem[colunas_int] = df_hospedagem[colunas_int].astype(np.int64) \n",
    "df_hospedagem.info()"
   ]
  },
  {
   "cell_type": "code",
   "execution_count": 367,
   "metadata": {},
   "outputs": [
    {
     "name": "stdout",
     "output_type": "stream",
     "text": [
      "<class 'pandas.core.frame.DataFrame'>\n",
      "RangeIndex: 3818 entries, 0 to 3817\n",
      "Data columns (total 13 columns):\n",
      " #   Column                Non-Null Count  Dtype  \n",
      "---  ------                --------------  -----  \n",
      " 0   avaliacao_geral       3162 non-null   float64\n",
      " 1   experiencia_local     3818 non-null   object \n",
      " 2   max_hospedes          3818 non-null   int64  \n",
      " 3   descricao_local       3818 non-null   object \n",
      " 4   descricao_vizinhanca  3818 non-null   object \n",
      " 5   quantidade_banheiros  3818 non-null   int64  \n",
      " 6   quantidade_quartos    3818 non-null   int64  \n",
      " 7   quantidade_camas      3818 non-null   int64  \n",
      " 8   modelo_cama           3818 non-null   object \n",
      " 9   comodidades           3818 non-null   object \n",
      " 10  taxa_deposito         3818 non-null   object \n",
      " 11  taxa_limpeza          3818 non-null   object \n",
      " 12  preco                 3818 non-null   object \n",
      "dtypes: float64(1), int64(4), object(8)\n",
      "memory usage: 387.9+ KB\n"
     ]
    }
   ],
   "source": [
    "# transformando float onde aplicavel\n",
    "df_hospedagem['avaliacao_geral'] = df_hospedagem['avaliacao_geral'].astype(np.float64)\n",
    "df_hospedagem.info()"
   ]
  },
  {
   "cell_type": "code",
   "execution_count": 368,
   "metadata": {},
   "outputs": [
    {
     "data": {
      "text/plain": [
       "0       $110.00\n",
       "1        $45.00\n",
       "2        $55.00\n",
       "3        $52.00\n",
       "4        $85.00\n",
       "         ...   \n",
       "3813    $299.00\n",
       "3814    $199.00\n",
       "3815    $400.00\n",
       "3816    $250.00\n",
       "3817    $350.00\n",
       "Name: preco, Length: 3818, dtype: object"
      ]
     },
     "execution_count": 368,
     "metadata": {},
     "output_type": "execute_result"
    }
   ],
   "source": [
    "# transformando colunas $$ em float\n",
    "df_hospedagem['preco']"
   ]
  },
  {
   "cell_type": "code",
   "execution_count": 369,
   "metadata": {},
   "outputs": [
    {
     "name": "stdout",
     "output_type": "stream",
     "text": [
      "<class 'pandas.core.frame.DataFrame'>\n",
      "RangeIndex: 3818 entries, 0 to 3817\n",
      "Data columns (total 13 columns):\n",
      " #   Column                Non-Null Count  Dtype  \n",
      "---  ------                --------------  -----  \n",
      " 0   avaliacao_geral       3162 non-null   float64\n",
      " 1   experiencia_local     3818 non-null   object \n",
      " 2   max_hospedes          3818 non-null   int64  \n",
      " 3   descricao_local       3818 non-null   object \n",
      " 4   descricao_vizinhanca  3818 non-null   object \n",
      " 5   quantidade_banheiros  3818 non-null   int64  \n",
      " 6   quantidade_quartos    3818 non-null   int64  \n",
      " 7   quantidade_camas      3818 non-null   int64  \n",
      " 8   modelo_cama           3818 non-null   object \n",
      " 9   comodidades           3818 non-null   object \n",
      " 10  taxa_deposito         3818 non-null   object \n",
      " 11  taxa_limpeza          3818 non-null   object \n",
      " 12  preco                 3818 non-null   float64\n",
      "dtypes: float64(2), int64(4), object(7)\n",
      "memory usage: 387.9+ KB\n"
     ]
    }
   ],
   "source": [
    "df_hospedagem['preco'] = df_hospedagem['preco'].apply(lambda x: x.replace('$', '').replace(',', '').strip())\n",
    "df_hospedagem['preco'] = df_hospedagem['preco'].astype(np.float64)\n",
    "df_hospedagem.info()"
   ]
  },
  {
   "cell_type": "code",
   "execution_count": 370,
   "metadata": {},
   "outputs": [
    {
     "name": "stdout",
     "output_type": "stream",
     "text": [
      "<class 'pandas.core.frame.DataFrame'>\n",
      "RangeIndex: 3818 entries, 0 to 3817\n",
      "Data columns (total 13 columns):\n",
      " #   Column                Non-Null Count  Dtype  \n",
      "---  ------                --------------  -----  \n",
      " 0   avaliacao_geral       3162 non-null   float64\n",
      " 1   experiencia_local     3818 non-null   object \n",
      " 2   max_hospedes          3818 non-null   int64  \n",
      " 3   descricao_local       3818 non-null   object \n",
      " 4   descricao_vizinhanca  3818 non-null   object \n",
      " 5   quantidade_banheiros  3818 non-null   int64  \n",
      " 6   quantidade_quartos    3818 non-null   int64  \n",
      " 7   quantidade_camas      3818 non-null   int64  \n",
      " 8   modelo_cama           3818 non-null   object \n",
      " 9   comodidades           3818 non-null   object \n",
      " 10  taxa_deposito         3818 non-null   float64\n",
      " 11  taxa_limpeza          3818 non-null   float64\n",
      " 12  preco                 3818 non-null   float64\n",
      "dtypes: float64(4), int64(4), object(5)\n",
      "memory usage: 387.9+ KB\n"
     ]
    },
    {
     "name": "stderr",
     "output_type": "stream",
     "text": [
      "C:\\Users\\corre\\AppData\\Local\\Temp\\ipykernel_26140\\2911294985.py:2: FutureWarning:\n",
      "\n",
      "DataFrame.applymap has been deprecated. Use DataFrame.map instead.\n",
      "\n"
     ]
    }
   ],
   "source": [
    "# de maneira massiva\n",
    "df_hospedagem[['taxa_deposito', 'taxa_limpeza']] = df_hospedagem[['taxa_deposito', 'taxa_limpeza']].applymap(lambda x: x.replace('$', '').replace(',', '').strip())\n",
    "df_hospedagem[['taxa_deposito', 'taxa_limpeza']] = df_hospedagem[['taxa_deposito', 'taxa_limpeza']].astype(np.float64)\n",
    "df_hospedagem.info()"
   ]
  },
  {
   "cell_type": "markdown",
   "metadata": {},
   "source": [
    "<h4> Trabalhando strings - Descrição dos locais"
   ]
  },
  {
   "cell_type": "code",
   "execution_count": 371,
   "metadata": {},
   "outputs": [
    {
     "data": {
      "text/plain": [
       "0       This clean and comfortable one bedroom sits ri...\n",
       "1       Our century old Upper Queen Anne house is loca...\n",
       "2       Cozy room in two-bedroom apartment along the l...\n",
       "3       Very lovely and cozy room for one. Convenientl...\n",
       "4       The “Studio at Mibbett Hollow' is in a Beautif...\n",
       "                              ...                        \n",
       "3813    Beautiful craftsman home in the historic Wedgw...\n",
       "3814    Located in a very easily accessible area of Se...\n",
       "3815    This home is fully furnished and available wee...\n",
       "3816    This business-themed modern home features:  *H...\n",
       "3817    This welcoming home is in the quiet residentia...\n",
       "Name: descricao_local, Length: 3818, dtype: object"
      ]
     },
     "execution_count": 371,
     "metadata": {},
     "output_type": "execute_result"
    }
   ],
   "source": [
    "df_hospedagem['descricao_local']"
   ]
  },
  {
   "cell_type": "code",
   "execution_count": 372,
   "metadata": {},
   "outputs": [
    {
     "data": {
      "text/plain": [
       "0       this clean and comfortable one bedroom sits ri...\n",
       "1       our century old upper queen anne house is loca...\n",
       "2       cozy room in two-bedroom apartment along the l...\n",
       "3       very lovely and cozy room for one. convenientl...\n",
       "4       the “studio at mibbett hollow' is in a beautif...\n",
       "                              ...                        \n",
       "3813    beautiful craftsman home in the historic wedgw...\n",
       "3814    located in a very easily accessible area of se...\n",
       "3815    this home is fully furnished and available wee...\n",
       "3816    this business-themed modern home features:  *h...\n",
       "3817    this welcoming home is in the quiet residentia...\n",
       "Name: descricao_local, Length: 3818, dtype: object"
      ]
     },
     "execution_count": 372,
     "metadata": {},
     "output_type": "execute_result"
    }
   ],
   "source": [
    "# tudo em caixa baixa\n",
    "df_hospedagem['descricao_local'] = df_hospedagem['descricao_local'].str.lower()\n",
    "df_hospedagem['descricao_local']"
   ]
  },
  {
   "cell_type": "code",
   "execution_count": 373,
   "metadata": {},
   "outputs": [
    {
     "name": "stderr",
     "output_type": "stream",
     "text": [
      "<>:2: SyntaxWarning:\n",
      "\n",
      "invalid escape sequence '\\-'\n",
      "\n",
      "<>:2: SyntaxWarning:\n",
      "\n",
      "invalid escape sequence '\\-'\n",
      "\n",
      "C:\\Users\\corre\\AppData\\Local\\Temp\\ipykernel_26140\\4001248525.py:2: SyntaxWarning:\n",
      "\n",
      "invalid escape sequence '\\-'\n",
      "\n"
     ]
    },
    {
     "data": {
      "text/plain": [
       "0       this clean and comfortable one bedroom sits ri...\n",
       "1       our century old upper queen anne house is loca...\n",
       "2       cozy room in two-bedroom apartment along the l...\n",
       "3       very lovely and cozy room for one  convenientl...\n",
       "4       the  studio at mibbett hollow' is in a beautif...\n",
       "                              ...                        \n",
       "3813    beautiful craftsman home in the historic wedgw...\n",
       "3814    located in a very easily accessible area of se...\n",
       "3815    this home is fully furnished and available wee...\n",
       "3816    this business-themed modern home features    h...\n",
       "3817    this welcoming home is in the quiet residentia...\n",
       "Name: descricao_local, Length: 3818, dtype: object"
      ]
     },
     "execution_count": 373,
     "metadata": {},
     "output_type": "execute_result"
    }
   ],
   "source": [
    "# removendo caracteres especiais\n",
    "df_hospedagem['descricao_local'] = df_hospedagem['descricao_local'].str.replace('[^a-zA-Z0-9\\-\\']', ' ', regex=True)\n",
    "df_hospedagem['descricao_local']"
   ]
  },
  {
   "cell_type": "code",
   "execution_count": 374,
   "metadata": {},
   "outputs": [
    {
     "name": "stderr",
     "output_type": "stream",
     "text": [
      "<>:1: SyntaxWarning:\n",
      "\n",
      "invalid escape sequence '\\w'\n",
      "\n",
      "<>:1: SyntaxWarning:\n",
      "\n",
      "invalid escape sequence '\\w'\n",
      "\n",
      "C:\\Users\\corre\\AppData\\Local\\Temp\\ipykernel_26140\\836590402.py:1: SyntaxWarning:\n",
      "\n",
      "invalid escape sequence '\\w'\n",
      "\n"
     ]
    },
    {
     "data": {
      "text/plain": [
       "0       this clean and comfortable one bedroom sits ri...\n",
       "1       our century old upper queen anne house is loca...\n",
       "2       cozy room in two-bedroom apartment along the l...\n",
       "3       very lovely and cozy room for one  convenientl...\n",
       "4       the  studio at mibbett hollow' is in a beautif...\n",
       "                              ...                        \n",
       "3813    beautiful craftsman home in the historic wedgw...\n",
       "3814    located in a very easily accessible area of se...\n",
       "3815    this home is fully furnished and available wee...\n",
       "3816    this business-themed modern home features    h...\n",
       "3817    this welcoming home is in the quiet residentia...\n",
       "Name: descricao_local, Length: 3818, dtype: object"
      ]
     },
     "execution_count": 374,
     "metadata": {},
     "output_type": "execute_result"
    }
   ],
   "source": [
    "df_hospedagem['descricao_local'] = df_hospedagem['descricao_local'].str.replace('(?<!\\w)-(?!\\w)', ' ', regex=True)\n",
    "df_hospedagem['descricao_local']\n"
   ]
  },
  {
   "cell_type": "code",
   "execution_count": 375,
   "metadata": {},
   "outputs": [],
   "source": [
    "# removendo stopwords e tokenizando\n",
    "nltk.download\n",
    "eng_stopword = set(stopwords.words('english'))"
   ]
  },
  {
   "cell_type": "code",
   "execution_count": 376,
   "metadata": {},
   "outputs": [],
   "source": [
    "def remover_stopwords(texto):\n",
    "    return [word for word in texto.split() if word not in eng_stopword]"
   ]
  },
  {
   "cell_type": "code",
   "execution_count": 377,
   "metadata": {},
   "outputs": [
    {
     "data": {
      "text/plain": [
       "0       [clean, comfortable, one, bedroom, sits, right...\n",
       "1       [century, old, upper, queen, anne, house, loca...\n",
       "2       [cozy, room, two-bedroom, apartment, along, lo...\n",
       "3       [lovely, cozy, room, one, conveniently, locate...\n",
       "4       [studio, mibbett, hollow', beautiful, houseboa...\n",
       "                              ...                        \n",
       "3813    [beautiful, craftsman, home, historic, wedgwoo...\n",
       "3814    [located, easily, accessible, area, seattle, y...\n",
       "3815    [home, fully, furnished, available, weekly, mo...\n",
       "3816    [business-themed, modern, home, features, high...\n",
       "3817    [welcoming, home, quiet, residential, part, se...\n",
       "Name: descricao_local, Length: 3818, dtype: object"
      ]
     },
     "execution_count": 377,
     "metadata": {},
     "output_type": "execute_result"
    }
   ],
   "source": [
    "df_hospedagem['descricao_local'] = df_hospedagem['descricao_local'].apply(remover_stopwords)\n",
    "df_hospedagem['descricao_local']"
   ]
  },
  {
   "cell_type": "code",
   "execution_count": 378,
   "metadata": {},
   "outputs": [
    {
     "data": {
      "text/plain": [
       "0       {Internet,\"Wireless Internet\",Kitchen,\"Free Pa...\n",
       "1       {TV,Internet,\"Wireless Internet\",Kitchen,\"Free...\n",
       "2       {TV,Internet,\"Wireless Internet\",Kitchen,\"Free...\n",
       "3       {Internet,\"Wireless Internet\",Kitchen,\"Free Pa...\n",
       "4       {\"Wireless Internet\",Kitchen,\"Free Parking on ...\n",
       "                              ...                        \n",
       "3813    {TV,\"Cable TV\",Internet,\"Wireless Internet\",\"A...\n",
       "3814    {TV,\"Cable TV\",Internet,\"Wireless Internet\",Ki...\n",
       "3815    {TV,\"Cable TV\",Internet,\"Wireless Internet\",\"A...\n",
       "3816    {TV,\"Cable TV\",Internet,\"Wireless Internet\",\"A...\n",
       "3817    {TV,Internet,\"Wireless Internet\",Kitchen,\"Free...\n",
       "Name: comodidades, Length: 3818, dtype: object"
      ]
     },
     "execution_count": 378,
     "metadata": {},
     "output_type": "execute_result"
    }
   ],
   "source": [
    "df_hospedagem['comodidades']"
   ]
  },
  {
   "cell_type": "code",
   "execution_count": 379,
   "metadata": {},
   "outputs": [
    {
     "name": "stderr",
     "output_type": "stream",
     "text": [
      "<>:1: SyntaxWarning:\n",
      "\n",
      "invalid escape sequence '\\{'\n",
      "\n",
      "<>:1: SyntaxWarning:\n",
      "\n",
      "invalid escape sequence '\\{'\n",
      "\n",
      "C:\\Users\\corre\\AppData\\Local\\Temp\\ipykernel_26140\\428389882.py:1: SyntaxWarning:\n",
      "\n",
      "invalid escape sequence '\\{'\n",
      "\n"
     ]
    },
    {
     "data": {
      "text/plain": [
       "0       Internet,Wireless Internet,Kitchen,Free Parkin...\n",
       "1       TV,Internet,Wireless Internet,Kitchen,Free Par...\n",
       "2       TV,Internet,Wireless Internet,Kitchen,Free Par...\n",
       "3       Internet,Wireless Internet,Kitchen,Free Parkin...\n",
       "4       Wireless Internet,Kitchen,Free Parking on Prem...\n",
       "                              ...                        \n",
       "3813    TV,Cable TV,Internet,Wireless Internet,Air Con...\n",
       "3814    TV,Cable TV,Internet,Wireless Internet,Kitchen...\n",
       "3815    TV,Cable TV,Internet,Wireless Internet,Air Con...\n",
       "3816    TV,Cable TV,Internet,Wireless Internet,Air Con...\n",
       "3817    TV,Internet,Wireless Internet,Kitchen,Free Par...\n",
       "Name: comodidades, Length: 3818, dtype: object"
      ]
     },
     "execution_count": 379,
     "metadata": {},
     "output_type": "execute_result"
    }
   ],
   "source": [
    "df_hospedagem['comodidades'] = df_hospedagem['comodidades'].str.replace('\\{|}|\\\"', '', regex=True)\n",
    "df_hospedagem['comodidades']"
   ]
  },
  {
   "cell_type": "code",
   "execution_count": 380,
   "metadata": {},
   "outputs": [
    {
     "data": {
      "text/plain": [
       "0       [Internet, Wireless Internet, Kitchen, Free Pa...\n",
       "1       [TV, Internet, Wireless Internet, Kitchen, Fre...\n",
       "2       [TV, Internet, Wireless Internet, Kitchen, Fre...\n",
       "3       [Internet, Wireless Internet, Kitchen, Free Pa...\n",
       "4       [Wireless Internet, Kitchen, Free Parking on P...\n",
       "                              ...                        \n",
       "3813    [TV, Cable TV, Internet, Wireless Internet, Ai...\n",
       "3814    [TV, Cable TV, Internet, Wireless Internet, Ki...\n",
       "3815    [TV, Cable TV, Internet, Wireless Internet, Ai...\n",
       "3816    [TV, Cable TV, Internet, Wireless Internet, Ai...\n",
       "3817    [TV, Internet, Wireless Internet, Kitchen, Fre...\n",
       "Name: comodidades, Length: 3818, dtype: object"
      ]
     },
     "execution_count": 380,
     "metadata": {},
     "output_type": "execute_result"
    }
   ],
   "source": [
    "df_hospedagem['comodidades'] = df_hospedagem['comodidades'].str.split(',')\n",
    "df_hospedagem['comodidades']"
   ]
  },
  {
   "cell_type": "code",
   "execution_count": 381,
   "metadata": {},
   "outputs": [
    {
     "data": {
      "text/plain": [
       "'Wallingford is a mostly-residential neighborhood, situated between the restaurants, bars and nightlife of Fremont or Ballard, and the buzzing, academic University District.'"
      ]
     },
     "execution_count": 381,
     "metadata": {},
     "output_type": "execute_result"
    }
   ],
   "source": [
    "df_hospedagem['descricao_vizinhanca'][5]"
   ]
  },
  {
   "cell_type": "code",
   "execution_count": 382,
   "metadata": {},
   "outputs": [
    {
     "data": {
      "text/plain": [
       "0       lower queen anne is near the seattle center (s...\n",
       "1       upper queen anne is a really pleasant, unique ...\n",
       "2       the convenience of being in seattle but on the...\n",
       "3       ballard is lovely, vibrant and one of the most...\n",
       "4                                                      --\n",
       "                              ...                        \n",
       "3813                                                   --\n",
       "3814    quiet, dead end street near i-5. the proximity...\n",
       "3815                                                   --\n",
       "3816    your hosts made madison valley their home when...\n",
       "3817    despite the quiet, leafy streets of this resid...\n",
       "Name: descricao_vizinhanca, Length: 3818, dtype: object"
      ]
     },
     "execution_count": 382,
     "metadata": {},
     "output_type": "execute_result"
    }
   ],
   "source": [
    "df_hospedagem['descricao_vizinhanca'] = df_hospedagem['descricao_vizinhanca'].str.lower()\n",
    "df_hospedagem['descricao_vizinhanca']"
   ]
  },
  {
   "cell_type": "code",
   "execution_count": 383,
   "metadata": {},
   "outputs": [
    {
     "name": "stderr",
     "output_type": "stream",
     "text": [
      "<>:1: SyntaxWarning:\n",
      "\n",
      "invalid escape sequence '\\-'\n",
      "\n",
      "<>:2: SyntaxWarning:\n",
      "\n",
      "invalid escape sequence '\\w'\n",
      "\n",
      "<>:1: SyntaxWarning:\n",
      "\n",
      "invalid escape sequence '\\-'\n",
      "\n",
      "<>:2: SyntaxWarning:\n",
      "\n",
      "invalid escape sequence '\\w'\n",
      "\n",
      "C:\\Users\\corre\\AppData\\Local\\Temp\\ipykernel_26140\\2700217736.py:1: SyntaxWarning:\n",
      "\n",
      "invalid escape sequence '\\-'\n",
      "\n",
      "C:\\Users\\corre\\AppData\\Local\\Temp\\ipykernel_26140\\2700217736.py:2: SyntaxWarning:\n",
      "\n",
      "invalid escape sequence '\\w'\n",
      "\n"
     ]
    },
    {
     "data": {
      "text/plain": [
       "0       lower queen anne is near the seattle center  s...\n",
       "1       upper queen anne is a really pleasant  unique ...\n",
       "2       the convenience of being in seattle but on the...\n",
       "3       ballard is lovely  vibrant and one of the most...\n",
       "4                                                      --\n",
       "                              ...                        \n",
       "3813                                                   --\n",
       "3814    quiet  dead end street near i-5  the proximity...\n",
       "3815                                                   --\n",
       "3816    your hosts made madison valley their home when...\n",
       "3817    despite the quiet  leafy streets of this resid...\n",
       "Name: descricao_vizinhanca, Length: 3818, dtype: object"
      ]
     },
     "execution_count": 383,
     "metadata": {},
     "output_type": "execute_result"
    }
   ],
   "source": [
    "df_hospedagem['descricao_vizinhanca'] = df_hospedagem['descricao_vizinhanca'].str.replace('[^a-zA-Z0-9\\-\\']', ' ', regex=True)\n",
    "df_hospedagem['descricao_local'] = df_hospedagem['descricao_local'].str.replace('(?<!\\w)-(?!\\w)', ' ', regex=True)\n",
    "df_hospedagem['descricao_vizinhanca']"
   ]
  },
  {
   "cell_type": "code",
   "execution_count": 384,
   "metadata": {},
   "outputs": [
    {
     "data": {
      "text/plain": [
       "0       [lower, queen, anne, near, seattle, center, sp...\n",
       "1       [upper, queen, anne, really, pleasant, unique,...\n",
       "2       [convenience, seattle, west, slope, water, vie...\n",
       "3       [ballard, lovely, vibrant, one, rapidly, growi...\n",
       "4                                                    [--]\n",
       "                              ...                        \n",
       "3813                                                 [--]\n",
       "3814    [quiet, dead, end, street, near, i-5, proximit...\n",
       "3815                                                 [--]\n",
       "3816    [hosts, made, madison, valley, home, settling,...\n",
       "3817    [despite, quiet, leafy, streets, residential, ...\n",
       "Name: descricao_vizinhanca, Length: 3818, dtype: object"
      ]
     },
     "execution_count": 384,
     "metadata": {},
     "output_type": "execute_result"
    }
   ],
   "source": [
    "df_hospedagem['descricao_vizinhanca'] = df_hospedagem['descricao_vizinhanca'].apply(remover_stopwords)\n",
    "df_hospedagem['descricao_vizinhanca']"
   ]
  },
  {
   "cell_type": "markdown",
   "metadata": {},
   "source": [
    "<h3>Trabalhando com dados de Vendas"
   ]
  },
  {
   "cell_type": "code",
   "execution_count": 385,
   "metadata": {},
   "outputs": [
    {
     "name": "stdout",
     "output_type": "stream",
     "text": [
      "<class 'pandas.core.frame.DataFrame'>\n",
      "RangeIndex: 5 entries, 0 to 4\n",
      "Data columns (total 3 columns):\n",
      " #   Column           Non-Null Count  Dtype \n",
      "---  ------           --------------  ----- \n",
      " 0   Data de venda    5 non-null      object\n",
      " 1   Cliente          5 non-null      object\n",
      " 2   Valor da compra  5 non-null      object\n",
      "dtypes: object(3)\n",
      "memory usage: 252.0+ bytes\n"
     ]
    }
   ],
   "source": [
    "df_clientes.info()"
   ]
  },
  {
   "cell_type": "code",
   "execution_count": 386,
   "metadata": {},
   "outputs": [
    {
     "data": {
      "text/plain": [
       "['Data de venda', 'Cliente', 'Valor da compra']"
      ]
     },
     "execution_count": 386,
     "metadata": {},
     "output_type": "execute_result"
    }
   ],
   "source": [
    "# criando listas de colunas para explode\n",
    "colunas_vendas = list(df_clientes.columns)\n",
    "colunas_vendas"
   ]
  },
  {
   "cell_type": "code",
   "execution_count": 387,
   "metadata": {},
   "outputs": [
    {
     "data": {
      "text/html": [
       "<div>\n",
       "<style scoped>\n",
       "    .dataframe tbody tr th:only-of-type {\n",
       "        vertical-align: middle;\n",
       "    }\n",
       "\n",
       "    .dataframe tbody tr th {\n",
       "        vertical-align: top;\n",
       "    }\n",
       "\n",
       "    .dataframe thead th {\n",
       "        text-align: right;\n",
       "    }\n",
       "</style>\n",
       "<table border=\"1\" class=\"dataframe\">\n",
       "  <thead>\n",
       "    <tr style=\"text-align: right;\">\n",
       "      <th></th>\n",
       "      <th>Data de venda</th>\n",
       "      <th>Cliente</th>\n",
       "      <th>Valor da compra</th>\n",
       "    </tr>\n",
       "  </thead>\n",
       "  <tbody>\n",
       "    <tr>\n",
       "      <th>0</th>\n",
       "      <td>&lt;class 'str'&gt;</td>\n",
       "      <td>&lt;class 'list'&gt;</td>\n",
       "      <td>&lt;class 'list'&gt;</td>\n",
       "    </tr>\n",
       "  </tbody>\n",
       "</table>\n",
       "</div>"
      ],
      "text/plain": [
       "   Data de venda         Cliente Valor da compra\n",
       "0  <class 'str'>  <class 'list'>  <class 'list'>"
      ]
     },
     "execution_count": 387,
     "metadata": {},
     "output_type": "execute_result"
    }
   ],
   "source": [
    "df_clientes.apply(lambda x: x.apply(type).unique()) # verificando exatamente"
   ]
  },
  {
   "cell_type": "code",
   "execution_count": 388,
   "metadata": {},
   "outputs": [
    {
     "data": {
      "text/html": [
       "<div>\n",
       "<style scoped>\n",
       "    .dataframe tbody tr th:only-of-type {\n",
       "        vertical-align: middle;\n",
       "    }\n",
       "\n",
       "    .dataframe tbody tr th {\n",
       "        vertical-align: top;\n",
       "    }\n",
       "\n",
       "    .dataframe thead th {\n",
       "        text-align: right;\n",
       "    }\n",
       "</style>\n",
       "<table border=\"1\" class=\"dataframe\">\n",
       "  <thead>\n",
       "    <tr style=\"text-align: right;\">\n",
       "      <th></th>\n",
       "      <th>Data de venda</th>\n",
       "      <th>Cliente</th>\n",
       "      <th>Valor da compra</th>\n",
       "    </tr>\n",
       "  </thead>\n",
       "  <tbody>\n",
       "    <tr>\n",
       "      <th>0</th>\n",
       "      <td>06/06/2022</td>\n",
       "      <td>@ANA _LUCIA 321</td>\n",
       "      <td>R$ 836,5</td>\n",
       "    </tr>\n",
       "    <tr>\n",
       "      <th>0</th>\n",
       "      <td>06/06/2022</td>\n",
       "      <td>DieGO ARMANDIU 210</td>\n",
       "      <td>R$ 573,33</td>\n",
       "    </tr>\n",
       "    <tr>\n",
       "      <th>0</th>\n",
       "      <td>06/06/2022</td>\n",
       "      <td>DieGO ARMANDIU 210</td>\n",
       "      <td>R$ 392,8</td>\n",
       "    </tr>\n",
       "    <tr>\n",
       "      <th>0</th>\n",
       "      <td>06/06/2022</td>\n",
       "      <td>DieGO ARMANDIU 210</td>\n",
       "      <td>R$ 512,34</td>\n",
       "    </tr>\n",
       "    <tr>\n",
       "      <th>1</th>\n",
       "      <td>07/06/2022</td>\n",
       "      <td>Isabely JOanes 738</td>\n",
       "      <td>R$ 825,31</td>\n",
       "    </tr>\n",
       "    <tr>\n",
       "      <th>1</th>\n",
       "      <td>07/06/2022</td>\n",
       "      <td>Isabely JOanes 738</td>\n",
       "      <td>R$ 168,07</td>\n",
       "    </tr>\n",
       "    <tr>\n",
       "      <th>1</th>\n",
       "      <td>07/06/2022</td>\n",
       "      <td>Isabely JOanes 738</td>\n",
       "      <td>R$ 339,18</td>\n",
       "    </tr>\n",
       "    <tr>\n",
       "      <th>1</th>\n",
       "      <td>07/06/2022</td>\n",
       "      <td>Isabely JOanes 738</td>\n",
       "      <td>R$ 314,69</td>\n",
       "    </tr>\n",
       "    <tr>\n",
       "      <th>2</th>\n",
       "      <td>08/06/2022</td>\n",
       "      <td>Isabely JOanes 738</td>\n",
       "      <td>R$ 682,05</td>\n",
       "    </tr>\n",
       "    <tr>\n",
       "      <th>2</th>\n",
       "      <td>08/06/2022</td>\n",
       "      <td>JOãO Gabriel 671</td>\n",
       "      <td>R$ 386,34</td>\n",
       "    </tr>\n",
       "    <tr>\n",
       "      <th>2</th>\n",
       "      <td>08/06/2022</td>\n",
       "      <td>Julya meireles 914</td>\n",
       "      <td>R$ 622,65</td>\n",
       "    </tr>\n",
       "    <tr>\n",
       "      <th>2</th>\n",
       "      <td>08/06/2022</td>\n",
       "      <td>Julya meireles 914</td>\n",
       "      <td>R$ 630,79</td>\n",
       "    </tr>\n",
       "    <tr>\n",
       "      <th>3</th>\n",
       "      <td>09/06/2022</td>\n",
       "      <td>Julya meireles 914</td>\n",
       "      <td>R$ 390,3</td>\n",
       "    </tr>\n",
       "    <tr>\n",
       "      <th>3</th>\n",
       "      <td>09/06/2022</td>\n",
       "      <td>MaRIA Julia 444</td>\n",
       "      <td>R$ 759,16</td>\n",
       "    </tr>\n",
       "    <tr>\n",
       "      <th>3</th>\n",
       "      <td>09/06/2022</td>\n",
       "      <td>MaRIA Julia 444</td>\n",
       "      <td>R$ 334,47</td>\n",
       "    </tr>\n",
       "    <tr>\n",
       "      <th>3</th>\n",
       "      <td>09/06/2022</td>\n",
       "      <td>MaRIA Julia 444</td>\n",
       "      <td>R$ 678,78</td>\n",
       "    </tr>\n",
       "    <tr>\n",
       "      <th>4</th>\n",
       "      <td>10/06/2022</td>\n",
       "      <td>MaRIA Julia 444</td>\n",
       "      <td>R$ 314,24</td>\n",
       "    </tr>\n",
       "    <tr>\n",
       "      <th>4</th>\n",
       "      <td>10/06/2022</td>\n",
       "      <td>PEDRO PASCO 812</td>\n",
       "      <td>R$ 311,15</td>\n",
       "    </tr>\n",
       "    <tr>\n",
       "      <th>4</th>\n",
       "      <td>10/06/2022</td>\n",
       "      <td>Paulo castro 481</td>\n",
       "      <td>R$ 899,16</td>\n",
       "    </tr>\n",
       "    <tr>\n",
       "      <th>4</th>\n",
       "      <td>10/06/2022</td>\n",
       "      <td>Thiago fritzz 883</td>\n",
       "      <td>R$ 885,24</td>\n",
       "    </tr>\n",
       "  </tbody>\n",
       "</table>\n",
       "</div>"
      ],
      "text/plain": [
       "  Data de venda             Cliente Valor da compra\n",
       "0    06/06/2022     @ANA _LUCIA 321        R$ 836,5\n",
       "0    06/06/2022  DieGO ARMANDIU 210       R$ 573,33\n",
       "0    06/06/2022  DieGO ARMANDIU 210        R$ 392,8\n",
       "0    06/06/2022  DieGO ARMANDIU 210       R$ 512,34\n",
       "1    07/06/2022  Isabely JOanes 738       R$ 825,31\n",
       "1    07/06/2022  Isabely JOanes 738       R$ 168,07\n",
       "1    07/06/2022  Isabely JOanes 738       R$ 339,18\n",
       "1    07/06/2022  Isabely JOanes 738       R$ 314,69\n",
       "2    08/06/2022  Isabely JOanes 738       R$ 682,05\n",
       "2    08/06/2022    JOãO Gabriel 671       R$ 386,34\n",
       "2    08/06/2022  Julya meireles 914       R$ 622,65\n",
       "2    08/06/2022  Julya meireles 914       R$ 630,79\n",
       "3    09/06/2022  Julya meireles 914        R$ 390,3\n",
       "3    09/06/2022     MaRIA Julia 444       R$ 759,16\n",
       "3    09/06/2022     MaRIA Julia 444       R$ 334,47\n",
       "3    09/06/2022     MaRIA Julia 444       R$ 678,78\n",
       "4    10/06/2022     MaRIA Julia 444       R$ 314,24\n",
       "4    10/06/2022     PEDRO PASCO 812       R$ 311,15\n",
       "4    10/06/2022    Paulo castro 481       R$ 899,16\n",
       "4    10/06/2022   Thiago fritzz 883       R$ 885,24"
      ]
     },
     "execution_count": 388,
     "metadata": {},
     "output_type": "execute_result"
    }
   ],
   "source": [
    "# explodindo listas\n",
    "df_clientes = df_clientes.explode(colunas_vendas[1:])\n",
    "df_clientes"
   ]
  },
  {
   "cell_type": "code",
   "execution_count": 389,
   "metadata": {},
   "outputs": [
    {
     "data": {
      "text/html": [
       "<div>\n",
       "<style scoped>\n",
       "    .dataframe tbody tr th:only-of-type {\n",
       "        vertical-align: middle;\n",
       "    }\n",
       "\n",
       "    .dataframe tbody tr th {\n",
       "        vertical-align: top;\n",
       "    }\n",
       "\n",
       "    .dataframe thead th {\n",
       "        text-align: right;\n",
       "    }\n",
       "</style>\n",
       "<table border=\"1\" class=\"dataframe\">\n",
       "  <thead>\n",
       "    <tr style=\"text-align: right;\">\n",
       "      <th></th>\n",
       "      <th>Data de venda</th>\n",
       "      <th>Cliente</th>\n",
       "      <th>Valor da compra</th>\n",
       "    </tr>\n",
       "  </thead>\n",
       "  <tbody>\n",
       "    <tr>\n",
       "      <th>0</th>\n",
       "      <td>06/06/2022</td>\n",
       "      <td>@ANA _LUCIA 321</td>\n",
       "      <td>836.50</td>\n",
       "    </tr>\n",
       "    <tr>\n",
       "      <th>0</th>\n",
       "      <td>06/06/2022</td>\n",
       "      <td>DieGO ARMANDIU 210</td>\n",
       "      <td>573.33</td>\n",
       "    </tr>\n",
       "    <tr>\n",
       "      <th>0</th>\n",
       "      <td>06/06/2022</td>\n",
       "      <td>DieGO ARMANDIU 210</td>\n",
       "      <td>392.80</td>\n",
       "    </tr>\n",
       "    <tr>\n",
       "      <th>0</th>\n",
       "      <td>06/06/2022</td>\n",
       "      <td>DieGO ARMANDIU 210</td>\n",
       "      <td>512.34</td>\n",
       "    </tr>\n",
       "    <tr>\n",
       "      <th>1</th>\n",
       "      <td>07/06/2022</td>\n",
       "      <td>Isabely JOanes 738</td>\n",
       "      <td>825.31</td>\n",
       "    </tr>\n",
       "    <tr>\n",
       "      <th>1</th>\n",
       "      <td>07/06/2022</td>\n",
       "      <td>Isabely JOanes 738</td>\n",
       "      <td>168.07</td>\n",
       "    </tr>\n",
       "    <tr>\n",
       "      <th>1</th>\n",
       "      <td>07/06/2022</td>\n",
       "      <td>Isabely JOanes 738</td>\n",
       "      <td>339.18</td>\n",
       "    </tr>\n",
       "    <tr>\n",
       "      <th>1</th>\n",
       "      <td>07/06/2022</td>\n",
       "      <td>Isabely JOanes 738</td>\n",
       "      <td>314.69</td>\n",
       "    </tr>\n",
       "    <tr>\n",
       "      <th>2</th>\n",
       "      <td>08/06/2022</td>\n",
       "      <td>Isabely JOanes 738</td>\n",
       "      <td>682.05</td>\n",
       "    </tr>\n",
       "    <tr>\n",
       "      <th>2</th>\n",
       "      <td>08/06/2022</td>\n",
       "      <td>JOãO Gabriel 671</td>\n",
       "      <td>386.34</td>\n",
       "    </tr>\n",
       "    <tr>\n",
       "      <th>2</th>\n",
       "      <td>08/06/2022</td>\n",
       "      <td>Julya meireles 914</td>\n",
       "      <td>622.65</td>\n",
       "    </tr>\n",
       "    <tr>\n",
       "      <th>2</th>\n",
       "      <td>08/06/2022</td>\n",
       "      <td>Julya meireles 914</td>\n",
       "      <td>630.79</td>\n",
       "    </tr>\n",
       "    <tr>\n",
       "      <th>3</th>\n",
       "      <td>09/06/2022</td>\n",
       "      <td>Julya meireles 914</td>\n",
       "      <td>390.30</td>\n",
       "    </tr>\n",
       "    <tr>\n",
       "      <th>3</th>\n",
       "      <td>09/06/2022</td>\n",
       "      <td>MaRIA Julia 444</td>\n",
       "      <td>759.16</td>\n",
       "    </tr>\n",
       "    <tr>\n",
       "      <th>3</th>\n",
       "      <td>09/06/2022</td>\n",
       "      <td>MaRIA Julia 444</td>\n",
       "      <td>334.47</td>\n",
       "    </tr>\n",
       "    <tr>\n",
       "      <th>3</th>\n",
       "      <td>09/06/2022</td>\n",
       "      <td>MaRIA Julia 444</td>\n",
       "      <td>678.78</td>\n",
       "    </tr>\n",
       "    <tr>\n",
       "      <th>4</th>\n",
       "      <td>10/06/2022</td>\n",
       "      <td>MaRIA Julia 444</td>\n",
       "      <td>314.24</td>\n",
       "    </tr>\n",
       "    <tr>\n",
       "      <th>4</th>\n",
       "      <td>10/06/2022</td>\n",
       "      <td>PEDRO PASCO 812</td>\n",
       "      <td>311.15</td>\n",
       "    </tr>\n",
       "    <tr>\n",
       "      <th>4</th>\n",
       "      <td>10/06/2022</td>\n",
       "      <td>Paulo castro 481</td>\n",
       "      <td>899.16</td>\n",
       "    </tr>\n",
       "    <tr>\n",
       "      <th>4</th>\n",
       "      <td>10/06/2022</td>\n",
       "      <td>Thiago fritzz 883</td>\n",
       "      <td>885.24</td>\n",
       "    </tr>\n",
       "  </tbody>\n",
       "</table>\n",
       "</div>"
      ],
      "text/plain": [
       "  Data de venda             Cliente  Valor da compra\n",
       "0    06/06/2022     @ANA _LUCIA 321           836.50\n",
       "0    06/06/2022  DieGO ARMANDIU 210           573.33\n",
       "0    06/06/2022  DieGO ARMANDIU 210           392.80\n",
       "0    06/06/2022  DieGO ARMANDIU 210           512.34\n",
       "1    07/06/2022  Isabely JOanes 738           825.31\n",
       "1    07/06/2022  Isabely JOanes 738           168.07\n",
       "1    07/06/2022  Isabely JOanes 738           339.18\n",
       "1    07/06/2022  Isabely JOanes 738           314.69\n",
       "2    08/06/2022  Isabely JOanes 738           682.05\n",
       "2    08/06/2022    JOãO Gabriel 671           386.34\n",
       "2    08/06/2022  Julya meireles 914           622.65\n",
       "2    08/06/2022  Julya meireles 914           630.79\n",
       "3    09/06/2022  Julya meireles 914           390.30\n",
       "3    09/06/2022     MaRIA Julia 444           759.16\n",
       "3    09/06/2022     MaRIA Julia 444           334.47\n",
       "3    09/06/2022     MaRIA Julia 444           678.78\n",
       "4    10/06/2022     MaRIA Julia 444           314.24\n",
       "4    10/06/2022     PEDRO PASCO 812           311.15\n",
       "4    10/06/2022    Paulo castro 481           899.16\n",
       "4    10/06/2022   Thiago fritzz 883           885.24"
      ]
     },
     "execution_count": 389,
     "metadata": {},
     "output_type": "execute_result"
    }
   ],
   "source": [
    "df_clientes['Valor da compra'] = df_clientes['Valor da compra'].apply(lambda x: x.replace('R$ ', '').replace(',', '.').strip())\n",
    "df_clientes['Valor da compra'] = df_clientes['Valor da compra'].astype(np.float64)\n",
    "df_clientes"
   ]
  },
  {
   "cell_type": "code",
   "execution_count": 390,
   "metadata": {},
   "outputs": [
    {
     "name": "stdout",
     "output_type": "stream",
     "text": [
      "<class 'pandas.core.frame.DataFrame'>\n",
      "Index: 20 entries, 0 to 4\n",
      "Data columns (total 3 columns):\n",
      " #   Column           Non-Null Count  Dtype  \n",
      "---  ------           --------------  -----  \n",
      " 0   Data de venda    20 non-null     object \n",
      " 1   Cliente          20 non-null     object \n",
      " 2   Valor da compra  20 non-null     float64\n",
      "dtypes: float64(1), object(2)\n",
      "memory usage: 640.0+ bytes\n"
     ]
    }
   ],
   "source": [
    "df_clientes.info()"
   ]
  },
  {
   "cell_type": "code",
   "execution_count": 419,
   "metadata": {},
   "outputs": [
    {
     "data": {
      "text/html": [
       "<div>\n",
       "<style scoped>\n",
       "    .dataframe tbody tr th:only-of-type {\n",
       "        vertical-align: middle;\n",
       "    }\n",
       "\n",
       "    .dataframe tbody tr th {\n",
       "        vertical-align: top;\n",
       "    }\n",
       "\n",
       "    .dataframe thead th {\n",
       "        text-align: right;\n",
       "    }\n",
       "</style>\n",
       "<table border=\"1\" class=\"dataframe\">\n",
       "  <thead>\n",
       "    <tr style=\"text-align: right;\">\n",
       "      <th></th>\n",
       "      <th>Data de venda</th>\n",
       "      <th>Cliente</th>\n",
       "      <th>Valor da compra</th>\n",
       "    </tr>\n",
       "  </thead>\n",
       "  <tbody>\n",
       "    <tr>\n",
       "      <th>0</th>\n",
       "      <td>06/06/2022</td>\n",
       "      <td>@ANA _LUCIA 321</td>\n",
       "      <td>836.50</td>\n",
       "    </tr>\n",
       "    <tr>\n",
       "      <th>0</th>\n",
       "      <td>06/06/2022</td>\n",
       "      <td>DieGO ARMANDIU 210</td>\n",
       "      <td>573.33</td>\n",
       "    </tr>\n",
       "    <tr>\n",
       "      <th>0</th>\n",
       "      <td>06/06/2022</td>\n",
       "      <td>DieGO ARMANDIU 210</td>\n",
       "      <td>392.80</td>\n",
       "    </tr>\n",
       "    <tr>\n",
       "      <th>0</th>\n",
       "      <td>06/06/2022</td>\n",
       "      <td>DieGO ARMANDIU 210</td>\n",
       "      <td>512.34</td>\n",
       "    </tr>\n",
       "    <tr>\n",
       "      <th>1</th>\n",
       "      <td>07/06/2022</td>\n",
       "      <td>Isabely JOanes 738</td>\n",
       "      <td>825.31</td>\n",
       "    </tr>\n",
       "  </tbody>\n",
       "</table>\n",
       "</div>"
      ],
      "text/plain": [
       "  Data de venda             Cliente  Valor da compra\n",
       "0    06/06/2022     @ANA _LUCIA 321           836.50\n",
       "0    06/06/2022  DieGO ARMANDIU 210           573.33\n",
       "0    06/06/2022  DieGO ARMANDIU 210           392.80\n",
       "0    06/06/2022  DieGO ARMANDIU 210           512.34\n",
       "1    07/06/2022  Isabely JOanes 738           825.31"
      ]
     },
     "execution_count": 419,
     "metadata": {},
     "output_type": "execute_result"
    }
   ],
   "source": [
    "df_clientes.head()"
   ]
  },
  {
   "cell_type": "code",
   "execution_count": 423,
   "metadata": {},
   "outputs": [
    {
     "name": "stdout",
     "output_type": "stream",
     "text": [
      "<class 'pandas.core.frame.DataFrame'>\n",
      "Index: 20 entries, 0 to 4\n",
      "Data columns (total 3 columns):\n",
      " #   Column           Non-Null Count  Dtype         \n",
      "---  ------           --------------  -----         \n",
      " 0   Data de venda    20 non-null     datetime64[ns]\n",
      " 1   Cliente          20 non-null     object        \n",
      " 2   Valor da compra  20 non-null     float64       \n",
      "dtypes: datetime64[ns](1), float64(1), object(1)\n",
      "memory usage: 640.0+ bytes\n"
     ]
    }
   ],
   "source": [
    "df_clientes['Data de venda'] = pd.to_datetime(df_clientes['Data de venda'])\n",
    "df_clientes.info()"
   ]
  },
  {
   "cell_type": "code",
   "execution_count": 434,
   "metadata": {},
   "outputs": [
    {
     "data": {
      "text/html": [
       "<div>\n",
       "<style scoped>\n",
       "    .dataframe tbody tr th:only-of-type {\n",
       "        vertical-align: middle;\n",
       "    }\n",
       "\n",
       "    .dataframe tbody tr th {\n",
       "        vertical-align: top;\n",
       "    }\n",
       "\n",
       "    .dataframe thead th {\n",
       "        text-align: right;\n",
       "    }\n",
       "</style>\n",
       "<table border=\"1\" class=\"dataframe\">\n",
       "  <thead>\n",
       "    <tr style=\"text-align: right;\">\n",
       "      <th></th>\n",
       "      <th>Cliente</th>\n",
       "      <th>Valor da compra</th>\n",
       "    </tr>\n",
       "  </thead>\n",
       "  <tbody>\n",
       "    <tr>\n",
       "      <th>0</th>\n",
       "      <td>@ANA _LUCIA 321</td>\n",
       "      <td>836.50</td>\n",
       "    </tr>\n",
       "    <tr>\n",
       "      <th>1</th>\n",
       "      <td>DieGO ARMANDIU 210</td>\n",
       "      <td>1478.47</td>\n",
       "    </tr>\n",
       "    <tr>\n",
       "      <th>2</th>\n",
       "      <td>Isabely JOanes 738</td>\n",
       "      <td>2329.30</td>\n",
       "    </tr>\n",
       "    <tr>\n",
       "      <th>3</th>\n",
       "      <td>JOãO Gabriel 671</td>\n",
       "      <td>386.34</td>\n",
       "    </tr>\n",
       "    <tr>\n",
       "      <th>4</th>\n",
       "      <td>Julya meireles 914</td>\n",
       "      <td>1643.74</td>\n",
       "    </tr>\n",
       "    <tr>\n",
       "      <th>5</th>\n",
       "      <td>MaRIA Julia 444</td>\n",
       "      <td>2086.65</td>\n",
       "    </tr>\n",
       "    <tr>\n",
       "      <th>6</th>\n",
       "      <td>PEDRO PASCO 812</td>\n",
       "      <td>311.15</td>\n",
       "    </tr>\n",
       "    <tr>\n",
       "      <th>7</th>\n",
       "      <td>Paulo castro 481</td>\n",
       "      <td>899.16</td>\n",
       "    </tr>\n",
       "    <tr>\n",
       "      <th>8</th>\n",
       "      <td>Thiago fritzz 883</td>\n",
       "      <td>885.24</td>\n",
       "    </tr>\n",
       "  </tbody>\n",
       "</table>\n",
       "</div>"
      ],
      "text/plain": [
       "              Cliente  Valor da compra\n",
       "0     @ANA _LUCIA 321           836.50\n",
       "1  DieGO ARMANDIU 210          1478.47\n",
       "2  Isabely JOanes 738          2329.30\n",
       "3    JOãO Gabriel 671           386.34\n",
       "4  Julya meireles 914          1643.74\n",
       "5     MaRIA Julia 444          2086.65\n",
       "6     PEDRO PASCO 812           311.15\n",
       "7    Paulo castro 481           899.16\n",
       "8   Thiago fritzz 883           885.24"
      ]
     },
     "execution_count": 434,
     "metadata": {},
     "output_type": "execute_result"
    }
   ],
   "source": [
    "df_clientes.groupby(['Cliente'])['Valor da compra'].sum().reset_index()"
   ]
  },
  {
   "cell_type": "code",
   "execution_count": null,
   "metadata": {},
   "outputs": [],
   "source": [
    "df_clientes['Data de venda'].dt.strftime()"
   ]
  },
  {
   "cell_type": "markdown",
   "metadata": {},
   "source": [
    "<h3>Trabalhando dados de pagamento de condomínio"
   ]
  },
  {
   "cell_type": "code",
   "execution_count": 391,
   "metadata": {},
   "outputs": [
    {
     "data": {
      "text/html": [
       "<div>\n",
       "<style scoped>\n",
       "    .dataframe tbody tr th:only-of-type {\n",
       "        vertical-align: middle;\n",
       "    }\n",
       "\n",
       "    .dataframe tbody tr th {\n",
       "        vertical-align: top;\n",
       "    }\n",
       "\n",
       "    .dataframe thead th {\n",
       "        text-align: right;\n",
       "    }\n",
       "</style>\n",
       "<table border=\"1\" class=\"dataframe\">\n",
       "  <thead>\n",
       "    <tr style=\"text-align: right;\">\n",
       "      <th></th>\n",
       "      <th>apartamento</th>\n",
       "      <th>datas_combinadas_pagamento</th>\n",
       "      <th>datas_de_pagamento</th>\n",
       "      <th>valor_aluguel</th>\n",
       "    </tr>\n",
       "  </thead>\n",
       "  <tbody>\n",
       "    <tr>\n",
       "      <th>0</th>\n",
       "      <td>A101 (blocoAP)</td>\n",
       "      <td>[01/06/2022, 01/07/2022]</td>\n",
       "      <td>[05/06/2022, 03/07/2022]</td>\n",
       "      <td>[$ 1000,0 reais, $ 2500,0 reais]</td>\n",
       "    </tr>\n",
       "    <tr>\n",
       "      <th>1</th>\n",
       "      <td>A102 (blocoAP)</td>\n",
       "      <td>[02/06/2022, 02/07/2022]</td>\n",
       "      <td>[02/06/2022, 06/07/2022]</td>\n",
       "      <td>[$ 1100,0 reais, $ 2600,0 reais]</td>\n",
       "    </tr>\n",
       "    <tr>\n",
       "      <th>2</th>\n",
       "      <td>B201 (blocoAP)</td>\n",
       "      <td>[03/06/2022, 03/07/2022]</td>\n",
       "      <td>[07/06/2022, 03/07/2022]</td>\n",
       "      <td>[$ 1200,0 reais, $ 2700,0 reais]</td>\n",
       "    </tr>\n",
       "    <tr>\n",
       "      <th>3</th>\n",
       "      <td>B202 (blocoAP)</td>\n",
       "      <td>[04/06/2022, 04/07/2022]</td>\n",
       "      <td>[07/06/2022, 05/07/2022]</td>\n",
       "      <td>[$ 1300,0 reais, $ 2800,0 reais]</td>\n",
       "    </tr>\n",
       "    <tr>\n",
       "      <th>4</th>\n",
       "      <td>C301 (blocoAP)</td>\n",
       "      <td>[05/06/2022, 05/07/2022]</td>\n",
       "      <td>[10/06/2022, 09/07/2022]</td>\n",
       "      <td>[$ 1400,0 reais, $ 2900,0 reais]</td>\n",
       "    </tr>\n",
       "  </tbody>\n",
       "</table>\n",
       "</div>"
      ],
      "text/plain": [
       "      apartamento datas_combinadas_pagamento        datas_de_pagamento  \\\n",
       "0  A101 (blocoAP)   [01/06/2022, 01/07/2022]  [05/06/2022, 03/07/2022]   \n",
       "1  A102 (blocoAP)   [02/06/2022, 02/07/2022]  [02/06/2022, 06/07/2022]   \n",
       "2  B201 (blocoAP)   [03/06/2022, 03/07/2022]  [07/06/2022, 03/07/2022]   \n",
       "3  B202 (blocoAP)   [04/06/2022, 04/07/2022]  [07/06/2022, 05/07/2022]   \n",
       "4  C301 (blocoAP)   [05/06/2022, 05/07/2022]  [10/06/2022, 09/07/2022]   \n",
       "\n",
       "                      valor_aluguel  \n",
       "0  [$ 1000,0 reais, $ 2500,0 reais]  \n",
       "1  [$ 1100,0 reais, $ 2600,0 reais]  \n",
       "2  [$ 1200,0 reais, $ 2700,0 reais]  \n",
       "3  [$ 1300,0 reais, $ 2800,0 reais]  \n",
       "4  [$ 1400,0 reais, $ 2900,0 reais]  "
      ]
     },
     "execution_count": 391,
     "metadata": {},
     "output_type": "execute_result"
    }
   ],
   "source": [
    "df_locacao.head() # relembrando..."
   ]
  },
  {
   "cell_type": "code",
   "execution_count": 392,
   "metadata": {},
   "outputs": [
    {
     "data": {
      "text/plain": [
       "['apartamento',\n",
       " 'datas_combinadas_pagamento',\n",
       " 'datas_de_pagamento',\n",
       " 'valor_aluguel']"
      ]
     },
     "execution_count": 392,
     "metadata": {},
     "output_type": "execute_result"
    }
   ],
   "source": [
    "# precisa explodir data combinada, data pagamento, aluguel...\n",
    "colunas_locacao = list(df_locacao.columns)\n",
    "colunas_locacao"
   ]
  },
  {
   "cell_type": "code",
   "execution_count": 393,
   "metadata": {},
   "outputs": [
    {
     "data": {
      "text/html": [
       "<div>\n",
       "<style scoped>\n",
       "    .dataframe tbody tr th:only-of-type {\n",
       "        vertical-align: middle;\n",
       "    }\n",
       "\n",
       "    .dataframe tbody tr th {\n",
       "        vertical-align: top;\n",
       "    }\n",
       "\n",
       "    .dataframe thead th {\n",
       "        text-align: right;\n",
       "    }\n",
       "</style>\n",
       "<table border=\"1\" class=\"dataframe\">\n",
       "  <thead>\n",
       "    <tr style=\"text-align: right;\">\n",
       "      <th></th>\n",
       "      <th>apartamento</th>\n",
       "      <th>datas_combinadas_pagamento</th>\n",
       "      <th>datas_de_pagamento</th>\n",
       "      <th>valor_aluguel</th>\n",
       "    </tr>\n",
       "  </thead>\n",
       "  <tbody>\n",
       "    <tr>\n",
       "      <th>0</th>\n",
       "      <td>A101 (blocoAP)</td>\n",
       "      <td>01/06/2022</td>\n",
       "      <td>05/06/2022</td>\n",
       "      <td>$ 1000,0 reais</td>\n",
       "    </tr>\n",
       "    <tr>\n",
       "      <th>0</th>\n",
       "      <td>A101 (blocoAP)</td>\n",
       "      <td>01/07/2022</td>\n",
       "      <td>03/07/2022</td>\n",
       "      <td>$ 2500,0 reais</td>\n",
       "    </tr>\n",
       "    <tr>\n",
       "      <th>1</th>\n",
       "      <td>A102 (blocoAP)</td>\n",
       "      <td>02/06/2022</td>\n",
       "      <td>02/06/2022</td>\n",
       "      <td>$ 1100,0 reais</td>\n",
       "    </tr>\n",
       "    <tr>\n",
       "      <th>1</th>\n",
       "      <td>A102 (blocoAP)</td>\n",
       "      <td>02/07/2022</td>\n",
       "      <td>06/07/2022</td>\n",
       "      <td>$ 2600,0 reais</td>\n",
       "    </tr>\n",
       "    <tr>\n",
       "      <th>2</th>\n",
       "      <td>B201 (blocoAP)</td>\n",
       "      <td>03/06/2022</td>\n",
       "      <td>07/06/2022</td>\n",
       "      <td>$ 1200,0 reais</td>\n",
       "    </tr>\n",
       "    <tr>\n",
       "      <th>2</th>\n",
       "      <td>B201 (blocoAP)</td>\n",
       "      <td>03/07/2022</td>\n",
       "      <td>03/07/2022</td>\n",
       "      <td>$ 2700,0 reais</td>\n",
       "    </tr>\n",
       "    <tr>\n",
       "      <th>3</th>\n",
       "      <td>B202 (blocoAP)</td>\n",
       "      <td>04/06/2022</td>\n",
       "      <td>07/06/2022</td>\n",
       "      <td>$ 1300,0 reais</td>\n",
       "    </tr>\n",
       "    <tr>\n",
       "      <th>3</th>\n",
       "      <td>B202 (blocoAP)</td>\n",
       "      <td>04/07/2022</td>\n",
       "      <td>05/07/2022</td>\n",
       "      <td>$ 2800,0 reais</td>\n",
       "    </tr>\n",
       "    <tr>\n",
       "      <th>4</th>\n",
       "      <td>C301 (blocoAP)</td>\n",
       "      <td>05/06/2022</td>\n",
       "      <td>10/06/2022</td>\n",
       "      <td>$ 1400,0 reais</td>\n",
       "    </tr>\n",
       "    <tr>\n",
       "      <th>4</th>\n",
       "      <td>C301 (blocoAP)</td>\n",
       "      <td>05/07/2022</td>\n",
       "      <td>09/07/2022</td>\n",
       "      <td>$ 2900,0 reais</td>\n",
       "    </tr>\n",
       "    <tr>\n",
       "      <th>5</th>\n",
       "      <td>C302 (blocoAP)</td>\n",
       "      <td>06/06/2022</td>\n",
       "      <td>08/06/2022</td>\n",
       "      <td>$ 1500,0 reais</td>\n",
       "    </tr>\n",
       "    <tr>\n",
       "      <th>5</th>\n",
       "      <td>C302 (blocoAP)</td>\n",
       "      <td>06/07/2022</td>\n",
       "      <td>12/07/2022</td>\n",
       "      <td>$ 1200,0 reais</td>\n",
       "    </tr>\n",
       "    <tr>\n",
       "      <th>6</th>\n",
       "      <td>D401 (blocoAP)</td>\n",
       "      <td>07/06/2022</td>\n",
       "      <td>07/06/2022</td>\n",
       "      <td>$ 1600,0 reais</td>\n",
       "    </tr>\n",
       "    <tr>\n",
       "      <th>6</th>\n",
       "      <td>D401 (blocoAP)</td>\n",
       "      <td>07/07/2022</td>\n",
       "      <td>09/07/2022</td>\n",
       "      <td>$ 1300,0 reais</td>\n",
       "    </tr>\n",
       "    <tr>\n",
       "      <th>7</th>\n",
       "      <td>D402 (blocoAP)</td>\n",
       "      <td>08/06/2022</td>\n",
       "      <td>10/06/2022</td>\n",
       "      <td>$ 1700,0 reais</td>\n",
       "    </tr>\n",
       "    <tr>\n",
       "      <th>7</th>\n",
       "      <td>D402 (blocoAP)</td>\n",
       "      <td>08/07/2022</td>\n",
       "      <td>14/07/2022</td>\n",
       "      <td>$ 1400,0 reais</td>\n",
       "    </tr>\n",
       "    <tr>\n",
       "      <th>8</th>\n",
       "      <td>E501 (blocoAP)</td>\n",
       "      <td>09/06/2022</td>\n",
       "      <td>10/06/2022</td>\n",
       "      <td>$ 1800,0 reais</td>\n",
       "    </tr>\n",
       "    <tr>\n",
       "      <th>8</th>\n",
       "      <td>E501 (blocoAP)</td>\n",
       "      <td>09/07/2022</td>\n",
       "      <td>09/07/2022</td>\n",
       "      <td>$ 1500,0 reais</td>\n",
       "    </tr>\n",
       "    <tr>\n",
       "      <th>9</th>\n",
       "      <td>E502 (blocoAP)</td>\n",
       "      <td>10/06/2022</td>\n",
       "      <td>16/06/2022</td>\n",
       "      <td>$ 1900,0 reais</td>\n",
       "    </tr>\n",
       "    <tr>\n",
       "      <th>9</th>\n",
       "      <td>E502 (blocoAP)</td>\n",
       "      <td>10/07/2022</td>\n",
       "      <td>12/07/2022</td>\n",
       "      <td>$ 1600,0 reais</td>\n",
       "    </tr>\n",
       "    <tr>\n",
       "      <th>10</th>\n",
       "      <td>F601 (blocoAP)</td>\n",
       "      <td>11/06/2022</td>\n",
       "      <td>17/06/2022</td>\n",
       "      <td>$ 2000,0 reais</td>\n",
       "    </tr>\n",
       "    <tr>\n",
       "      <th>10</th>\n",
       "      <td>F601 (blocoAP)</td>\n",
       "      <td>11/07/2022</td>\n",
       "      <td>13/07/2022</td>\n",
       "      <td>$ 1000,0 reais</td>\n",
       "    </tr>\n",
       "    <tr>\n",
       "      <th>11</th>\n",
       "      <td>F602 (blocoAP)</td>\n",
       "      <td>12/06/2022</td>\n",
       "      <td>15/06/2022</td>\n",
       "      <td>$ 2100,0 reais</td>\n",
       "    </tr>\n",
       "    <tr>\n",
       "      <th>11</th>\n",
       "      <td>F602 (blocoAP)</td>\n",
       "      <td>12/07/2022</td>\n",
       "      <td>12/07/2022</td>\n",
       "      <td>$ 1100,0 reais</td>\n",
       "    </tr>\n",
       "    <tr>\n",
       "      <th>12</th>\n",
       "      <td>G701 (blocoAP)</td>\n",
       "      <td>13/06/2022</td>\n",
       "      <td>19/06/2022</td>\n",
       "      <td>$ 2200,0 reais</td>\n",
       "    </tr>\n",
       "    <tr>\n",
       "      <th>12</th>\n",
       "      <td>G701 (blocoAP)</td>\n",
       "      <td>13/07/2022</td>\n",
       "      <td>20/07/2022</td>\n",
       "      <td>$ 1200,0 reais</td>\n",
       "    </tr>\n",
       "    <tr>\n",
       "      <th>13</th>\n",
       "      <td>G702 (blocoAP)</td>\n",
       "      <td>14/06/2022</td>\n",
       "      <td>15/06/2022</td>\n",
       "      <td>$ 2300,0 reais</td>\n",
       "    </tr>\n",
       "    <tr>\n",
       "      <th>13</th>\n",
       "      <td>G702 (blocoAP)</td>\n",
       "      <td>14/07/2022</td>\n",
       "      <td>17/07/2022</td>\n",
       "      <td>$ 2100,0 reais</td>\n",
       "    </tr>\n",
       "    <tr>\n",
       "      <th>14</th>\n",
       "      <td>H801 (blocoAP)</td>\n",
       "      <td>15/06/2022</td>\n",
       "      <td>18/06/2022</td>\n",
       "      <td>$ 2400,0 reais</td>\n",
       "    </tr>\n",
       "    <tr>\n",
       "      <th>14</th>\n",
       "      <td>H801 (blocoAP)</td>\n",
       "      <td>15/07/2022</td>\n",
       "      <td>16/07/2022</td>\n",
       "      <td>$ 2200,0 reais</td>\n",
       "    </tr>\n",
       "  </tbody>\n",
       "</table>\n",
       "</div>"
      ],
      "text/plain": [
       "       apartamento datas_combinadas_pagamento datas_de_pagamento  \\\n",
       "0   A101 (blocoAP)                 01/06/2022         05/06/2022   \n",
       "0   A101 (blocoAP)                 01/07/2022         03/07/2022   \n",
       "1   A102 (blocoAP)                 02/06/2022         02/06/2022   \n",
       "1   A102 (blocoAP)                 02/07/2022         06/07/2022   \n",
       "2   B201 (blocoAP)                 03/06/2022         07/06/2022   \n",
       "2   B201 (blocoAP)                 03/07/2022         03/07/2022   \n",
       "3   B202 (blocoAP)                 04/06/2022         07/06/2022   \n",
       "3   B202 (blocoAP)                 04/07/2022         05/07/2022   \n",
       "4   C301 (blocoAP)                 05/06/2022         10/06/2022   \n",
       "4   C301 (blocoAP)                 05/07/2022         09/07/2022   \n",
       "5   C302 (blocoAP)                 06/06/2022         08/06/2022   \n",
       "5   C302 (blocoAP)                 06/07/2022         12/07/2022   \n",
       "6   D401 (blocoAP)                 07/06/2022         07/06/2022   \n",
       "6   D401 (blocoAP)                 07/07/2022         09/07/2022   \n",
       "7   D402 (blocoAP)                 08/06/2022         10/06/2022   \n",
       "7   D402 (blocoAP)                 08/07/2022         14/07/2022   \n",
       "8   E501 (blocoAP)                 09/06/2022         10/06/2022   \n",
       "8   E501 (blocoAP)                 09/07/2022         09/07/2022   \n",
       "9   E502 (blocoAP)                 10/06/2022         16/06/2022   \n",
       "9   E502 (blocoAP)                 10/07/2022         12/07/2022   \n",
       "10  F601 (blocoAP)                 11/06/2022         17/06/2022   \n",
       "10  F601 (blocoAP)                 11/07/2022         13/07/2022   \n",
       "11  F602 (blocoAP)                 12/06/2022         15/06/2022   \n",
       "11  F602 (blocoAP)                 12/07/2022         12/07/2022   \n",
       "12  G701 (blocoAP)                 13/06/2022         19/06/2022   \n",
       "12  G701 (blocoAP)                 13/07/2022         20/07/2022   \n",
       "13  G702 (blocoAP)                 14/06/2022         15/06/2022   \n",
       "13  G702 (blocoAP)                 14/07/2022         17/07/2022   \n",
       "14  H801 (blocoAP)                 15/06/2022         18/06/2022   \n",
       "14  H801 (blocoAP)                 15/07/2022         16/07/2022   \n",
       "\n",
       "     valor_aluguel  \n",
       "0   $ 1000,0 reais  \n",
       "0   $ 2500,0 reais  \n",
       "1   $ 1100,0 reais  \n",
       "1   $ 2600,0 reais  \n",
       "2   $ 1200,0 reais  \n",
       "2   $ 2700,0 reais  \n",
       "3   $ 1300,0 reais  \n",
       "3   $ 2800,0 reais  \n",
       "4   $ 1400,0 reais  \n",
       "4   $ 2900,0 reais  \n",
       "5   $ 1500,0 reais  \n",
       "5   $ 1200,0 reais  \n",
       "6   $ 1600,0 reais  \n",
       "6   $ 1300,0 reais  \n",
       "7   $ 1700,0 reais  \n",
       "7   $ 1400,0 reais  \n",
       "8   $ 1800,0 reais  \n",
       "8   $ 1500,0 reais  \n",
       "9   $ 1900,0 reais  \n",
       "9   $ 1600,0 reais  \n",
       "10  $ 2000,0 reais  \n",
       "10  $ 1000,0 reais  \n",
       "11  $ 2100,0 reais  \n",
       "11  $ 1100,0 reais  \n",
       "12  $ 2200,0 reais  \n",
       "12  $ 1200,0 reais  \n",
       "13  $ 2300,0 reais  \n",
       "13  $ 2100,0 reais  \n",
       "14  $ 2400,0 reais  \n",
       "14  $ 2200,0 reais  "
      ]
     },
     "execution_count": 393,
     "metadata": {},
     "output_type": "execute_result"
    }
   ],
   "source": [
    "df_locacao = df_locacao.explode(colunas_locacao[1:])\n",
    "df_locacao"
   ]
  },
  {
   "cell_type": "code",
   "execution_count": 394,
   "metadata": {},
   "outputs": [
    {
     "name": "stdout",
     "output_type": "stream",
     "text": [
      "<class 'pandas.core.frame.DataFrame'>\n",
      "Index: 30 entries, 0 to 14\n",
      "Data columns (total 4 columns):\n",
      " #   Column                      Non-Null Count  Dtype \n",
      "---  ------                      --------------  ----- \n",
      " 0   apartamento                 30 non-null     object\n",
      " 1   datas_combinadas_pagamento  30 non-null     object\n",
      " 2   datas_de_pagamento          30 non-null     object\n",
      " 3   valor_aluguel               30 non-null     object\n",
      "dtypes: object(4)\n",
      "memory usage: 1.2+ KB\n"
     ]
    }
   ],
   "source": [
    "df_locacao.info()"
   ]
  },
  {
   "cell_type": "code",
   "execution_count": 395,
   "metadata": {},
   "outputs": [
    {
     "data": {
      "text/html": [
       "<div>\n",
       "<style scoped>\n",
       "    .dataframe tbody tr th:only-of-type {\n",
       "        vertical-align: middle;\n",
       "    }\n",
       "\n",
       "    .dataframe tbody tr th {\n",
       "        vertical-align: top;\n",
       "    }\n",
       "\n",
       "    .dataframe thead th {\n",
       "        text-align: right;\n",
       "    }\n",
       "</style>\n",
       "<table border=\"1\" class=\"dataframe\">\n",
       "  <thead>\n",
       "    <tr style=\"text-align: right;\">\n",
       "      <th></th>\n",
       "      <th>apartamento</th>\n",
       "      <th>datas_combinadas_pagamento</th>\n",
       "      <th>datas_de_pagamento</th>\n",
       "      <th>valor_aluguel</th>\n",
       "    </tr>\n",
       "  </thead>\n",
       "  <tbody>\n",
       "    <tr>\n",
       "      <th>0</th>\n",
       "      <td>A101 (blocoAP)</td>\n",
       "      <td>01/06/2022</td>\n",
       "      <td>05/06/2022</td>\n",
       "      <td>1000.0</td>\n",
       "    </tr>\n",
       "    <tr>\n",
       "      <th>0</th>\n",
       "      <td>A101 (blocoAP)</td>\n",
       "      <td>01/07/2022</td>\n",
       "      <td>03/07/2022</td>\n",
       "      <td>2500.0</td>\n",
       "    </tr>\n",
       "    <tr>\n",
       "      <th>1</th>\n",
       "      <td>A102 (blocoAP)</td>\n",
       "      <td>02/06/2022</td>\n",
       "      <td>02/06/2022</td>\n",
       "      <td>1100.0</td>\n",
       "    </tr>\n",
       "    <tr>\n",
       "      <th>1</th>\n",
       "      <td>A102 (blocoAP)</td>\n",
       "      <td>02/07/2022</td>\n",
       "      <td>06/07/2022</td>\n",
       "      <td>2600.0</td>\n",
       "    </tr>\n",
       "    <tr>\n",
       "      <th>2</th>\n",
       "      <td>B201 (blocoAP)</td>\n",
       "      <td>03/06/2022</td>\n",
       "      <td>07/06/2022</td>\n",
       "      <td>1200.0</td>\n",
       "    </tr>\n",
       "    <tr>\n",
       "      <th>2</th>\n",
       "      <td>B201 (blocoAP)</td>\n",
       "      <td>03/07/2022</td>\n",
       "      <td>03/07/2022</td>\n",
       "      <td>2700.0</td>\n",
       "    </tr>\n",
       "    <tr>\n",
       "      <th>3</th>\n",
       "      <td>B202 (blocoAP)</td>\n",
       "      <td>04/06/2022</td>\n",
       "      <td>07/06/2022</td>\n",
       "      <td>1300.0</td>\n",
       "    </tr>\n",
       "    <tr>\n",
       "      <th>3</th>\n",
       "      <td>B202 (blocoAP)</td>\n",
       "      <td>04/07/2022</td>\n",
       "      <td>05/07/2022</td>\n",
       "      <td>2800.0</td>\n",
       "    </tr>\n",
       "    <tr>\n",
       "      <th>4</th>\n",
       "      <td>C301 (blocoAP)</td>\n",
       "      <td>05/06/2022</td>\n",
       "      <td>10/06/2022</td>\n",
       "      <td>1400.0</td>\n",
       "    </tr>\n",
       "    <tr>\n",
       "      <th>4</th>\n",
       "      <td>C301 (blocoAP)</td>\n",
       "      <td>05/07/2022</td>\n",
       "      <td>09/07/2022</td>\n",
       "      <td>2900.0</td>\n",
       "    </tr>\n",
       "    <tr>\n",
       "      <th>5</th>\n",
       "      <td>C302 (blocoAP)</td>\n",
       "      <td>06/06/2022</td>\n",
       "      <td>08/06/2022</td>\n",
       "      <td>1500.0</td>\n",
       "    </tr>\n",
       "    <tr>\n",
       "      <th>5</th>\n",
       "      <td>C302 (blocoAP)</td>\n",
       "      <td>06/07/2022</td>\n",
       "      <td>12/07/2022</td>\n",
       "      <td>1200.0</td>\n",
       "    </tr>\n",
       "    <tr>\n",
       "      <th>6</th>\n",
       "      <td>D401 (blocoAP)</td>\n",
       "      <td>07/06/2022</td>\n",
       "      <td>07/06/2022</td>\n",
       "      <td>1600.0</td>\n",
       "    </tr>\n",
       "    <tr>\n",
       "      <th>6</th>\n",
       "      <td>D401 (blocoAP)</td>\n",
       "      <td>07/07/2022</td>\n",
       "      <td>09/07/2022</td>\n",
       "      <td>1300.0</td>\n",
       "    </tr>\n",
       "    <tr>\n",
       "      <th>7</th>\n",
       "      <td>D402 (blocoAP)</td>\n",
       "      <td>08/06/2022</td>\n",
       "      <td>10/06/2022</td>\n",
       "      <td>1700.0</td>\n",
       "    </tr>\n",
       "    <tr>\n",
       "      <th>7</th>\n",
       "      <td>D402 (blocoAP)</td>\n",
       "      <td>08/07/2022</td>\n",
       "      <td>14/07/2022</td>\n",
       "      <td>1400.0</td>\n",
       "    </tr>\n",
       "    <tr>\n",
       "      <th>8</th>\n",
       "      <td>E501 (blocoAP)</td>\n",
       "      <td>09/06/2022</td>\n",
       "      <td>10/06/2022</td>\n",
       "      <td>1800.0</td>\n",
       "    </tr>\n",
       "    <tr>\n",
       "      <th>8</th>\n",
       "      <td>E501 (blocoAP)</td>\n",
       "      <td>09/07/2022</td>\n",
       "      <td>09/07/2022</td>\n",
       "      <td>1500.0</td>\n",
       "    </tr>\n",
       "    <tr>\n",
       "      <th>9</th>\n",
       "      <td>E502 (blocoAP)</td>\n",
       "      <td>10/06/2022</td>\n",
       "      <td>16/06/2022</td>\n",
       "      <td>1900.0</td>\n",
       "    </tr>\n",
       "    <tr>\n",
       "      <th>9</th>\n",
       "      <td>E502 (blocoAP)</td>\n",
       "      <td>10/07/2022</td>\n",
       "      <td>12/07/2022</td>\n",
       "      <td>1600.0</td>\n",
       "    </tr>\n",
       "    <tr>\n",
       "      <th>10</th>\n",
       "      <td>F601 (blocoAP)</td>\n",
       "      <td>11/06/2022</td>\n",
       "      <td>17/06/2022</td>\n",
       "      <td>2000.0</td>\n",
       "    </tr>\n",
       "    <tr>\n",
       "      <th>10</th>\n",
       "      <td>F601 (blocoAP)</td>\n",
       "      <td>11/07/2022</td>\n",
       "      <td>13/07/2022</td>\n",
       "      <td>1000.0</td>\n",
       "    </tr>\n",
       "    <tr>\n",
       "      <th>11</th>\n",
       "      <td>F602 (blocoAP)</td>\n",
       "      <td>12/06/2022</td>\n",
       "      <td>15/06/2022</td>\n",
       "      <td>2100.0</td>\n",
       "    </tr>\n",
       "    <tr>\n",
       "      <th>11</th>\n",
       "      <td>F602 (blocoAP)</td>\n",
       "      <td>12/07/2022</td>\n",
       "      <td>12/07/2022</td>\n",
       "      <td>1100.0</td>\n",
       "    </tr>\n",
       "    <tr>\n",
       "      <th>12</th>\n",
       "      <td>G701 (blocoAP)</td>\n",
       "      <td>13/06/2022</td>\n",
       "      <td>19/06/2022</td>\n",
       "      <td>2200.0</td>\n",
       "    </tr>\n",
       "    <tr>\n",
       "      <th>12</th>\n",
       "      <td>G701 (blocoAP)</td>\n",
       "      <td>13/07/2022</td>\n",
       "      <td>20/07/2022</td>\n",
       "      <td>1200.0</td>\n",
       "    </tr>\n",
       "    <tr>\n",
       "      <th>13</th>\n",
       "      <td>G702 (blocoAP)</td>\n",
       "      <td>14/06/2022</td>\n",
       "      <td>15/06/2022</td>\n",
       "      <td>2300.0</td>\n",
       "    </tr>\n",
       "    <tr>\n",
       "      <th>13</th>\n",
       "      <td>G702 (blocoAP)</td>\n",
       "      <td>14/07/2022</td>\n",
       "      <td>17/07/2022</td>\n",
       "      <td>2100.0</td>\n",
       "    </tr>\n",
       "    <tr>\n",
       "      <th>14</th>\n",
       "      <td>H801 (blocoAP)</td>\n",
       "      <td>15/06/2022</td>\n",
       "      <td>18/06/2022</td>\n",
       "      <td>2400.0</td>\n",
       "    </tr>\n",
       "    <tr>\n",
       "      <th>14</th>\n",
       "      <td>H801 (blocoAP)</td>\n",
       "      <td>15/07/2022</td>\n",
       "      <td>16/07/2022</td>\n",
       "      <td>2200.0</td>\n",
       "    </tr>\n",
       "  </tbody>\n",
       "</table>\n",
       "</div>"
      ],
      "text/plain": [
       "       apartamento datas_combinadas_pagamento datas_de_pagamento  \\\n",
       "0   A101 (blocoAP)                 01/06/2022         05/06/2022   \n",
       "0   A101 (blocoAP)                 01/07/2022         03/07/2022   \n",
       "1   A102 (blocoAP)                 02/06/2022         02/06/2022   \n",
       "1   A102 (blocoAP)                 02/07/2022         06/07/2022   \n",
       "2   B201 (blocoAP)                 03/06/2022         07/06/2022   \n",
       "2   B201 (blocoAP)                 03/07/2022         03/07/2022   \n",
       "3   B202 (blocoAP)                 04/06/2022         07/06/2022   \n",
       "3   B202 (blocoAP)                 04/07/2022         05/07/2022   \n",
       "4   C301 (blocoAP)                 05/06/2022         10/06/2022   \n",
       "4   C301 (blocoAP)                 05/07/2022         09/07/2022   \n",
       "5   C302 (blocoAP)                 06/06/2022         08/06/2022   \n",
       "5   C302 (blocoAP)                 06/07/2022         12/07/2022   \n",
       "6   D401 (blocoAP)                 07/06/2022         07/06/2022   \n",
       "6   D401 (blocoAP)                 07/07/2022         09/07/2022   \n",
       "7   D402 (blocoAP)                 08/06/2022         10/06/2022   \n",
       "7   D402 (blocoAP)                 08/07/2022         14/07/2022   \n",
       "8   E501 (blocoAP)                 09/06/2022         10/06/2022   \n",
       "8   E501 (blocoAP)                 09/07/2022         09/07/2022   \n",
       "9   E502 (blocoAP)                 10/06/2022         16/06/2022   \n",
       "9   E502 (blocoAP)                 10/07/2022         12/07/2022   \n",
       "10  F601 (blocoAP)                 11/06/2022         17/06/2022   \n",
       "10  F601 (blocoAP)                 11/07/2022         13/07/2022   \n",
       "11  F602 (blocoAP)                 12/06/2022         15/06/2022   \n",
       "11  F602 (blocoAP)                 12/07/2022         12/07/2022   \n",
       "12  G701 (blocoAP)                 13/06/2022         19/06/2022   \n",
       "12  G701 (blocoAP)                 13/07/2022         20/07/2022   \n",
       "13  G702 (blocoAP)                 14/06/2022         15/06/2022   \n",
       "13  G702 (blocoAP)                 14/07/2022         17/07/2022   \n",
       "14  H801 (blocoAP)                 15/06/2022         18/06/2022   \n",
       "14  H801 (blocoAP)                 15/07/2022         16/07/2022   \n",
       "\n",
       "    valor_aluguel  \n",
       "0          1000.0  \n",
       "0          2500.0  \n",
       "1          1100.0  \n",
       "1          2600.0  \n",
       "2          1200.0  \n",
       "2          2700.0  \n",
       "3          1300.0  \n",
       "3          2800.0  \n",
       "4          1400.0  \n",
       "4          2900.0  \n",
       "5          1500.0  \n",
       "5          1200.0  \n",
       "6          1600.0  \n",
       "6          1300.0  \n",
       "7          1700.0  \n",
       "7          1400.0  \n",
       "8          1800.0  \n",
       "8          1500.0  \n",
       "9          1900.0  \n",
       "9          1600.0  \n",
       "10         2000.0  \n",
       "10         1000.0  \n",
       "11         2100.0  \n",
       "11         1100.0  \n",
       "12         2200.0  \n",
       "12         1200.0  \n",
       "13         2300.0  \n",
       "13         2100.0  \n",
       "14         2400.0  \n",
       "14         2200.0  "
      ]
     },
     "execution_count": 395,
     "metadata": {},
     "output_type": "execute_result"
    }
   ],
   "source": [
    "# ajustar as colunas com $$\n",
    "df_locacao['valor_aluguel'] = df_locacao['valor_aluguel'].apply(lambda x: x.replace('$ ', '').replace(' reais', '').replace(',', '.').strip())\n",
    "df_locacao['valor_aluguel'] = df_locacao['valor_aluguel'].astype(np.float64)\n",
    "df_locacao"
   ]
  },
  {
   "cell_type": "code",
   "execution_count": 396,
   "metadata": {},
   "outputs": [
    {
     "name": "stdout",
     "output_type": "stream",
     "text": [
      "<class 'pandas.core.frame.DataFrame'>\n",
      "Index: 30 entries, 0 to 14\n",
      "Data columns (total 4 columns):\n",
      " #   Column                      Non-Null Count  Dtype  \n",
      "---  ------                      --------------  -----  \n",
      " 0   apartamento                 30 non-null     object \n",
      " 1   datas_combinadas_pagamento  30 non-null     object \n",
      " 2   datas_de_pagamento          30 non-null     object \n",
      " 3   valor_aluguel               30 non-null     float64\n",
      "dtypes: float64(1), object(3)\n",
      "memory usage: 1.2+ KB\n"
     ]
    }
   ],
   "source": [
    "df_locacao.info()"
   ]
  },
  {
   "cell_type": "code",
   "execution_count": 439,
   "metadata": {},
   "outputs": [
    {
     "name": "stdout",
     "output_type": "stream",
     "text": [
      "<class 'pandas.core.frame.DataFrame'>\n",
      "Index: 30 entries, 0 to 14\n",
      "Data columns (total 4 columns):\n",
      " #   Column                      Non-Null Count  Dtype         \n",
      "---  ------                      --------------  -----         \n",
      " 0   apartamento                 30 non-null     object        \n",
      " 1   datas_combinadas_pagamento  30 non-null     datetime64[ns]\n",
      " 2   datas_de_pagamento          30 non-null     datetime64[ns]\n",
      " 3   valor_aluguel               30 non-null     float64       \n",
      "dtypes: datetime64[ns](2), float64(1), object(1)\n",
      "memory usage: 1.2+ KB\n"
     ]
    }
   ],
   "source": [
    "df_locacao['datas_combinadas_pagamento'] = pd.to_datetime(df_locacao['datas_combinadas_pagamento'], format = '%d/%m/%Y')\n",
    "df_locacao.info()"
   ]
  },
  {
   "cell_type": "code",
   "execution_count": 438,
   "metadata": {},
   "outputs": [
    {
     "name": "stdout",
     "output_type": "stream",
     "text": [
      "<class 'pandas.core.frame.DataFrame'>\n",
      "Index: 30 entries, 0 to 14\n",
      "Data columns (total 4 columns):\n",
      " #   Column                      Non-Null Count  Dtype         \n",
      "---  ------                      --------------  -----         \n",
      " 0   apartamento                 30 non-null     object        \n",
      " 1   datas_combinadas_pagamento  30 non-null     object        \n",
      " 2   datas_de_pagamento          30 non-null     datetime64[ns]\n",
      " 3   valor_aluguel               30 non-null     float64       \n",
      "dtypes: datetime64[ns](1), float64(1), object(2)\n",
      "memory usage: 1.2+ KB\n"
     ]
    }
   ],
   "source": [
    "df_locacao['datas_de_pagamento'] = pd.to_datetime(df_locacao['datas_de_pagamento'], format = '%d/%m/%Y')\n",
    "df_locacao.info()"
   ]
  },
  {
   "cell_type": "code",
   "execution_count": 440,
   "metadata": {},
   "outputs": [
    {
     "data": {
      "text/html": [
       "<div>\n",
       "<style scoped>\n",
       "    .dataframe tbody tr th:only-of-type {\n",
       "        vertical-align: middle;\n",
       "    }\n",
       "\n",
       "    .dataframe tbody tr th {\n",
       "        vertical-align: top;\n",
       "    }\n",
       "\n",
       "    .dataframe thead th {\n",
       "        text-align: right;\n",
       "    }\n",
       "</style>\n",
       "<table border=\"1\" class=\"dataframe\">\n",
       "  <thead>\n",
       "    <tr style=\"text-align: right;\">\n",
       "      <th></th>\n",
       "      <th>apartamento</th>\n",
       "      <th>datas_combinadas_pagamento</th>\n",
       "      <th>datas_de_pagamento</th>\n",
       "      <th>valor_aluguel</th>\n",
       "    </tr>\n",
       "  </thead>\n",
       "  <tbody>\n",
       "    <tr>\n",
       "      <th>0</th>\n",
       "      <td>A101 (blocoAP)</td>\n",
       "      <td>2022-06-01</td>\n",
       "      <td>2022-06-05</td>\n",
       "      <td>1000.0</td>\n",
       "    </tr>\n",
       "    <tr>\n",
       "      <th>0</th>\n",
       "      <td>A101 (blocoAP)</td>\n",
       "      <td>2022-07-01</td>\n",
       "      <td>2022-07-03</td>\n",
       "      <td>2500.0</td>\n",
       "    </tr>\n",
       "    <tr>\n",
       "      <th>1</th>\n",
       "      <td>A102 (blocoAP)</td>\n",
       "      <td>2022-06-02</td>\n",
       "      <td>2022-06-02</td>\n",
       "      <td>1100.0</td>\n",
       "    </tr>\n",
       "    <tr>\n",
       "      <th>1</th>\n",
       "      <td>A102 (blocoAP)</td>\n",
       "      <td>2022-07-02</td>\n",
       "      <td>2022-07-06</td>\n",
       "      <td>2600.0</td>\n",
       "    </tr>\n",
       "    <tr>\n",
       "      <th>2</th>\n",
       "      <td>B201 (blocoAP)</td>\n",
       "      <td>2022-06-03</td>\n",
       "      <td>2022-06-07</td>\n",
       "      <td>1200.0</td>\n",
       "    </tr>\n",
       "    <tr>\n",
       "      <th>2</th>\n",
       "      <td>B201 (blocoAP)</td>\n",
       "      <td>2022-07-03</td>\n",
       "      <td>2022-07-03</td>\n",
       "      <td>2700.0</td>\n",
       "    </tr>\n",
       "    <tr>\n",
       "      <th>3</th>\n",
       "      <td>B202 (blocoAP)</td>\n",
       "      <td>2022-06-04</td>\n",
       "      <td>2022-06-07</td>\n",
       "      <td>1300.0</td>\n",
       "    </tr>\n",
       "    <tr>\n",
       "      <th>3</th>\n",
       "      <td>B202 (blocoAP)</td>\n",
       "      <td>2022-07-04</td>\n",
       "      <td>2022-07-05</td>\n",
       "      <td>2800.0</td>\n",
       "    </tr>\n",
       "    <tr>\n",
       "      <th>4</th>\n",
       "      <td>C301 (blocoAP)</td>\n",
       "      <td>2022-06-05</td>\n",
       "      <td>2022-06-10</td>\n",
       "      <td>1400.0</td>\n",
       "    </tr>\n",
       "    <tr>\n",
       "      <th>4</th>\n",
       "      <td>C301 (blocoAP)</td>\n",
       "      <td>2022-07-05</td>\n",
       "      <td>2022-07-09</td>\n",
       "      <td>2900.0</td>\n",
       "    </tr>\n",
       "    <tr>\n",
       "      <th>5</th>\n",
       "      <td>C302 (blocoAP)</td>\n",
       "      <td>2022-06-06</td>\n",
       "      <td>2022-06-08</td>\n",
       "      <td>1500.0</td>\n",
       "    </tr>\n",
       "    <tr>\n",
       "      <th>5</th>\n",
       "      <td>C302 (blocoAP)</td>\n",
       "      <td>2022-07-06</td>\n",
       "      <td>2022-07-12</td>\n",
       "      <td>1200.0</td>\n",
       "    </tr>\n",
       "    <tr>\n",
       "      <th>6</th>\n",
       "      <td>D401 (blocoAP)</td>\n",
       "      <td>2022-06-07</td>\n",
       "      <td>2022-06-07</td>\n",
       "      <td>1600.0</td>\n",
       "    </tr>\n",
       "    <tr>\n",
       "      <th>6</th>\n",
       "      <td>D401 (blocoAP)</td>\n",
       "      <td>2022-07-07</td>\n",
       "      <td>2022-07-09</td>\n",
       "      <td>1300.0</td>\n",
       "    </tr>\n",
       "    <tr>\n",
       "      <th>7</th>\n",
       "      <td>D402 (blocoAP)</td>\n",
       "      <td>2022-06-08</td>\n",
       "      <td>2022-06-10</td>\n",
       "      <td>1700.0</td>\n",
       "    </tr>\n",
       "    <tr>\n",
       "      <th>7</th>\n",
       "      <td>D402 (blocoAP)</td>\n",
       "      <td>2022-07-08</td>\n",
       "      <td>2022-07-14</td>\n",
       "      <td>1400.0</td>\n",
       "    </tr>\n",
       "    <tr>\n",
       "      <th>8</th>\n",
       "      <td>E501 (blocoAP)</td>\n",
       "      <td>2022-06-09</td>\n",
       "      <td>2022-06-10</td>\n",
       "      <td>1800.0</td>\n",
       "    </tr>\n",
       "    <tr>\n",
       "      <th>8</th>\n",
       "      <td>E501 (blocoAP)</td>\n",
       "      <td>2022-07-09</td>\n",
       "      <td>2022-07-09</td>\n",
       "      <td>1500.0</td>\n",
       "    </tr>\n",
       "    <tr>\n",
       "      <th>9</th>\n",
       "      <td>E502 (blocoAP)</td>\n",
       "      <td>2022-06-10</td>\n",
       "      <td>2022-06-16</td>\n",
       "      <td>1900.0</td>\n",
       "    </tr>\n",
       "    <tr>\n",
       "      <th>9</th>\n",
       "      <td>E502 (blocoAP)</td>\n",
       "      <td>2022-07-10</td>\n",
       "      <td>2022-07-12</td>\n",
       "      <td>1600.0</td>\n",
       "    </tr>\n",
       "    <tr>\n",
       "      <th>10</th>\n",
       "      <td>F601 (blocoAP)</td>\n",
       "      <td>2022-06-11</td>\n",
       "      <td>2022-06-17</td>\n",
       "      <td>2000.0</td>\n",
       "    </tr>\n",
       "    <tr>\n",
       "      <th>10</th>\n",
       "      <td>F601 (blocoAP)</td>\n",
       "      <td>2022-07-11</td>\n",
       "      <td>2022-07-13</td>\n",
       "      <td>1000.0</td>\n",
       "    </tr>\n",
       "    <tr>\n",
       "      <th>11</th>\n",
       "      <td>F602 (blocoAP)</td>\n",
       "      <td>2022-06-12</td>\n",
       "      <td>2022-06-15</td>\n",
       "      <td>2100.0</td>\n",
       "    </tr>\n",
       "    <tr>\n",
       "      <th>11</th>\n",
       "      <td>F602 (blocoAP)</td>\n",
       "      <td>2022-07-12</td>\n",
       "      <td>2022-07-12</td>\n",
       "      <td>1100.0</td>\n",
       "    </tr>\n",
       "    <tr>\n",
       "      <th>12</th>\n",
       "      <td>G701 (blocoAP)</td>\n",
       "      <td>2022-06-13</td>\n",
       "      <td>2022-06-19</td>\n",
       "      <td>2200.0</td>\n",
       "    </tr>\n",
       "    <tr>\n",
       "      <th>12</th>\n",
       "      <td>G701 (blocoAP)</td>\n",
       "      <td>2022-07-13</td>\n",
       "      <td>2022-07-20</td>\n",
       "      <td>1200.0</td>\n",
       "    </tr>\n",
       "    <tr>\n",
       "      <th>13</th>\n",
       "      <td>G702 (blocoAP)</td>\n",
       "      <td>2022-06-14</td>\n",
       "      <td>2022-06-15</td>\n",
       "      <td>2300.0</td>\n",
       "    </tr>\n",
       "    <tr>\n",
       "      <th>13</th>\n",
       "      <td>G702 (blocoAP)</td>\n",
       "      <td>2022-07-14</td>\n",
       "      <td>2022-07-17</td>\n",
       "      <td>2100.0</td>\n",
       "    </tr>\n",
       "    <tr>\n",
       "      <th>14</th>\n",
       "      <td>H801 (blocoAP)</td>\n",
       "      <td>2022-06-15</td>\n",
       "      <td>2022-06-18</td>\n",
       "      <td>2400.0</td>\n",
       "    </tr>\n",
       "    <tr>\n",
       "      <th>14</th>\n",
       "      <td>H801 (blocoAP)</td>\n",
       "      <td>2022-07-15</td>\n",
       "      <td>2022-07-16</td>\n",
       "      <td>2200.0</td>\n",
       "    </tr>\n",
       "  </tbody>\n",
       "</table>\n",
       "</div>"
      ],
      "text/plain": [
       "       apartamento datas_combinadas_pagamento datas_de_pagamento  \\\n",
       "0   A101 (blocoAP)                 2022-06-01         2022-06-05   \n",
       "0   A101 (blocoAP)                 2022-07-01         2022-07-03   \n",
       "1   A102 (blocoAP)                 2022-06-02         2022-06-02   \n",
       "1   A102 (blocoAP)                 2022-07-02         2022-07-06   \n",
       "2   B201 (blocoAP)                 2022-06-03         2022-06-07   \n",
       "2   B201 (blocoAP)                 2022-07-03         2022-07-03   \n",
       "3   B202 (blocoAP)                 2022-06-04         2022-06-07   \n",
       "3   B202 (blocoAP)                 2022-07-04         2022-07-05   \n",
       "4   C301 (blocoAP)                 2022-06-05         2022-06-10   \n",
       "4   C301 (blocoAP)                 2022-07-05         2022-07-09   \n",
       "5   C302 (blocoAP)                 2022-06-06         2022-06-08   \n",
       "5   C302 (blocoAP)                 2022-07-06         2022-07-12   \n",
       "6   D401 (blocoAP)                 2022-06-07         2022-06-07   \n",
       "6   D401 (blocoAP)                 2022-07-07         2022-07-09   \n",
       "7   D402 (blocoAP)                 2022-06-08         2022-06-10   \n",
       "7   D402 (blocoAP)                 2022-07-08         2022-07-14   \n",
       "8   E501 (blocoAP)                 2022-06-09         2022-06-10   \n",
       "8   E501 (blocoAP)                 2022-07-09         2022-07-09   \n",
       "9   E502 (blocoAP)                 2022-06-10         2022-06-16   \n",
       "9   E502 (blocoAP)                 2022-07-10         2022-07-12   \n",
       "10  F601 (blocoAP)                 2022-06-11         2022-06-17   \n",
       "10  F601 (blocoAP)                 2022-07-11         2022-07-13   \n",
       "11  F602 (blocoAP)                 2022-06-12         2022-06-15   \n",
       "11  F602 (blocoAP)                 2022-07-12         2022-07-12   \n",
       "12  G701 (blocoAP)                 2022-06-13         2022-06-19   \n",
       "12  G701 (blocoAP)                 2022-07-13         2022-07-20   \n",
       "13  G702 (blocoAP)                 2022-06-14         2022-06-15   \n",
       "13  G702 (blocoAP)                 2022-07-14         2022-07-17   \n",
       "14  H801 (blocoAP)                 2022-06-15         2022-06-18   \n",
       "14  H801 (blocoAP)                 2022-07-15         2022-07-16   \n",
       "\n",
       "    valor_aluguel  \n",
       "0          1000.0  \n",
       "0          2500.0  \n",
       "1          1100.0  \n",
       "1          2600.0  \n",
       "2          1200.0  \n",
       "2          2700.0  \n",
       "3          1300.0  \n",
       "3          2800.0  \n",
       "4          1400.0  \n",
       "4          2900.0  \n",
       "5          1500.0  \n",
       "5          1200.0  \n",
       "6          1600.0  \n",
       "6          1300.0  \n",
       "7          1700.0  \n",
       "7          1400.0  \n",
       "8          1800.0  \n",
       "8          1500.0  \n",
       "9          1900.0  \n",
       "9          1600.0  \n",
       "10         2000.0  \n",
       "10         1000.0  \n",
       "11         2100.0  \n",
       "11         1100.0  \n",
       "12         2200.0  \n",
       "12         1200.0  \n",
       "13         2300.0  \n",
       "13         2100.0  \n",
       "14         2400.0  \n",
       "14         2200.0  "
      ]
     },
     "execution_count": 440,
     "metadata": {},
     "output_type": "execute_result"
    }
   ],
   "source": [
    "df_locacao"
   ]
  },
  {
   "cell_type": "code",
   "execution_count": 441,
   "metadata": {},
   "outputs": [
    {
     "data": {
      "text/html": [
       "<div>\n",
       "<style scoped>\n",
       "    .dataframe tbody tr th:only-of-type {\n",
       "        vertical-align: middle;\n",
       "    }\n",
       "\n",
       "    .dataframe tbody tr th {\n",
       "        vertical-align: top;\n",
       "    }\n",
       "\n",
       "    .dataframe thead th {\n",
       "        text-align: right;\n",
       "    }\n",
       "</style>\n",
       "<table border=\"1\" class=\"dataframe\">\n",
       "  <thead>\n",
       "    <tr style=\"text-align: right;\">\n",
       "      <th></th>\n",
       "      <th>apartamento</th>\n",
       "      <th>datas_combinadas_pagamento</th>\n",
       "      <th>datas_de_pagamento</th>\n",
       "      <th>valor_aluguel</th>\n",
       "      <th>atraso</th>\n",
       "    </tr>\n",
       "  </thead>\n",
       "  <tbody>\n",
       "    <tr>\n",
       "      <th>0</th>\n",
       "      <td>A101 (blocoAP)</td>\n",
       "      <td>2022-06-01</td>\n",
       "      <td>2022-06-05</td>\n",
       "      <td>1000.0</td>\n",
       "      <td>4 days</td>\n",
       "    </tr>\n",
       "    <tr>\n",
       "      <th>0</th>\n",
       "      <td>A101 (blocoAP)</td>\n",
       "      <td>2022-07-01</td>\n",
       "      <td>2022-07-03</td>\n",
       "      <td>2500.0</td>\n",
       "      <td>2 days</td>\n",
       "    </tr>\n",
       "    <tr>\n",
       "      <th>1</th>\n",
       "      <td>A102 (blocoAP)</td>\n",
       "      <td>2022-06-02</td>\n",
       "      <td>2022-06-02</td>\n",
       "      <td>1100.0</td>\n",
       "      <td>0 days</td>\n",
       "    </tr>\n",
       "    <tr>\n",
       "      <th>1</th>\n",
       "      <td>A102 (blocoAP)</td>\n",
       "      <td>2022-07-02</td>\n",
       "      <td>2022-07-06</td>\n",
       "      <td>2600.0</td>\n",
       "      <td>4 days</td>\n",
       "    </tr>\n",
       "    <tr>\n",
       "      <th>2</th>\n",
       "      <td>B201 (blocoAP)</td>\n",
       "      <td>2022-06-03</td>\n",
       "      <td>2022-06-07</td>\n",
       "      <td>1200.0</td>\n",
       "      <td>4 days</td>\n",
       "    </tr>\n",
       "    <tr>\n",
       "      <th>2</th>\n",
       "      <td>B201 (blocoAP)</td>\n",
       "      <td>2022-07-03</td>\n",
       "      <td>2022-07-03</td>\n",
       "      <td>2700.0</td>\n",
       "      <td>0 days</td>\n",
       "    </tr>\n",
       "    <tr>\n",
       "      <th>3</th>\n",
       "      <td>B202 (blocoAP)</td>\n",
       "      <td>2022-06-04</td>\n",
       "      <td>2022-06-07</td>\n",
       "      <td>1300.0</td>\n",
       "      <td>3 days</td>\n",
       "    </tr>\n",
       "    <tr>\n",
       "      <th>3</th>\n",
       "      <td>B202 (blocoAP)</td>\n",
       "      <td>2022-07-04</td>\n",
       "      <td>2022-07-05</td>\n",
       "      <td>2800.0</td>\n",
       "      <td>1 days</td>\n",
       "    </tr>\n",
       "    <tr>\n",
       "      <th>4</th>\n",
       "      <td>C301 (blocoAP)</td>\n",
       "      <td>2022-06-05</td>\n",
       "      <td>2022-06-10</td>\n",
       "      <td>1400.0</td>\n",
       "      <td>5 days</td>\n",
       "    </tr>\n",
       "    <tr>\n",
       "      <th>4</th>\n",
       "      <td>C301 (blocoAP)</td>\n",
       "      <td>2022-07-05</td>\n",
       "      <td>2022-07-09</td>\n",
       "      <td>2900.0</td>\n",
       "      <td>4 days</td>\n",
       "    </tr>\n",
       "    <tr>\n",
       "      <th>5</th>\n",
       "      <td>C302 (blocoAP)</td>\n",
       "      <td>2022-06-06</td>\n",
       "      <td>2022-06-08</td>\n",
       "      <td>1500.0</td>\n",
       "      <td>2 days</td>\n",
       "    </tr>\n",
       "    <tr>\n",
       "      <th>5</th>\n",
       "      <td>C302 (blocoAP)</td>\n",
       "      <td>2022-07-06</td>\n",
       "      <td>2022-07-12</td>\n",
       "      <td>1200.0</td>\n",
       "      <td>6 days</td>\n",
       "    </tr>\n",
       "    <tr>\n",
       "      <th>6</th>\n",
       "      <td>D401 (blocoAP)</td>\n",
       "      <td>2022-06-07</td>\n",
       "      <td>2022-06-07</td>\n",
       "      <td>1600.0</td>\n",
       "      <td>0 days</td>\n",
       "    </tr>\n",
       "    <tr>\n",
       "      <th>6</th>\n",
       "      <td>D401 (blocoAP)</td>\n",
       "      <td>2022-07-07</td>\n",
       "      <td>2022-07-09</td>\n",
       "      <td>1300.0</td>\n",
       "      <td>2 days</td>\n",
       "    </tr>\n",
       "    <tr>\n",
       "      <th>7</th>\n",
       "      <td>D402 (blocoAP)</td>\n",
       "      <td>2022-06-08</td>\n",
       "      <td>2022-06-10</td>\n",
       "      <td>1700.0</td>\n",
       "      <td>2 days</td>\n",
       "    </tr>\n",
       "    <tr>\n",
       "      <th>7</th>\n",
       "      <td>D402 (blocoAP)</td>\n",
       "      <td>2022-07-08</td>\n",
       "      <td>2022-07-14</td>\n",
       "      <td>1400.0</td>\n",
       "      <td>6 days</td>\n",
       "    </tr>\n",
       "    <tr>\n",
       "      <th>8</th>\n",
       "      <td>E501 (blocoAP)</td>\n",
       "      <td>2022-06-09</td>\n",
       "      <td>2022-06-10</td>\n",
       "      <td>1800.0</td>\n",
       "      <td>1 days</td>\n",
       "    </tr>\n",
       "    <tr>\n",
       "      <th>8</th>\n",
       "      <td>E501 (blocoAP)</td>\n",
       "      <td>2022-07-09</td>\n",
       "      <td>2022-07-09</td>\n",
       "      <td>1500.0</td>\n",
       "      <td>0 days</td>\n",
       "    </tr>\n",
       "    <tr>\n",
       "      <th>9</th>\n",
       "      <td>E502 (blocoAP)</td>\n",
       "      <td>2022-06-10</td>\n",
       "      <td>2022-06-16</td>\n",
       "      <td>1900.0</td>\n",
       "      <td>6 days</td>\n",
       "    </tr>\n",
       "    <tr>\n",
       "      <th>9</th>\n",
       "      <td>E502 (blocoAP)</td>\n",
       "      <td>2022-07-10</td>\n",
       "      <td>2022-07-12</td>\n",
       "      <td>1600.0</td>\n",
       "      <td>2 days</td>\n",
       "    </tr>\n",
       "    <tr>\n",
       "      <th>10</th>\n",
       "      <td>F601 (blocoAP)</td>\n",
       "      <td>2022-06-11</td>\n",
       "      <td>2022-06-17</td>\n",
       "      <td>2000.0</td>\n",
       "      <td>6 days</td>\n",
       "    </tr>\n",
       "    <tr>\n",
       "      <th>10</th>\n",
       "      <td>F601 (blocoAP)</td>\n",
       "      <td>2022-07-11</td>\n",
       "      <td>2022-07-13</td>\n",
       "      <td>1000.0</td>\n",
       "      <td>2 days</td>\n",
       "    </tr>\n",
       "    <tr>\n",
       "      <th>11</th>\n",
       "      <td>F602 (blocoAP)</td>\n",
       "      <td>2022-06-12</td>\n",
       "      <td>2022-06-15</td>\n",
       "      <td>2100.0</td>\n",
       "      <td>3 days</td>\n",
       "    </tr>\n",
       "    <tr>\n",
       "      <th>11</th>\n",
       "      <td>F602 (blocoAP)</td>\n",
       "      <td>2022-07-12</td>\n",
       "      <td>2022-07-12</td>\n",
       "      <td>1100.0</td>\n",
       "      <td>0 days</td>\n",
       "    </tr>\n",
       "    <tr>\n",
       "      <th>12</th>\n",
       "      <td>G701 (blocoAP)</td>\n",
       "      <td>2022-06-13</td>\n",
       "      <td>2022-06-19</td>\n",
       "      <td>2200.0</td>\n",
       "      <td>6 days</td>\n",
       "    </tr>\n",
       "    <tr>\n",
       "      <th>12</th>\n",
       "      <td>G701 (blocoAP)</td>\n",
       "      <td>2022-07-13</td>\n",
       "      <td>2022-07-20</td>\n",
       "      <td>1200.0</td>\n",
       "      <td>7 days</td>\n",
       "    </tr>\n",
       "    <tr>\n",
       "      <th>13</th>\n",
       "      <td>G702 (blocoAP)</td>\n",
       "      <td>2022-06-14</td>\n",
       "      <td>2022-06-15</td>\n",
       "      <td>2300.0</td>\n",
       "      <td>1 days</td>\n",
       "    </tr>\n",
       "    <tr>\n",
       "      <th>13</th>\n",
       "      <td>G702 (blocoAP)</td>\n",
       "      <td>2022-07-14</td>\n",
       "      <td>2022-07-17</td>\n",
       "      <td>2100.0</td>\n",
       "      <td>3 days</td>\n",
       "    </tr>\n",
       "    <tr>\n",
       "      <th>14</th>\n",
       "      <td>H801 (blocoAP)</td>\n",
       "      <td>2022-06-15</td>\n",
       "      <td>2022-06-18</td>\n",
       "      <td>2400.0</td>\n",
       "      <td>3 days</td>\n",
       "    </tr>\n",
       "    <tr>\n",
       "      <th>14</th>\n",
       "      <td>H801 (blocoAP)</td>\n",
       "      <td>2022-07-15</td>\n",
       "      <td>2022-07-16</td>\n",
       "      <td>2200.0</td>\n",
       "      <td>1 days</td>\n",
       "    </tr>\n",
       "  </tbody>\n",
       "</table>\n",
       "</div>"
      ],
      "text/plain": [
       "       apartamento datas_combinadas_pagamento datas_de_pagamento  \\\n",
       "0   A101 (blocoAP)                 2022-06-01         2022-06-05   \n",
       "0   A101 (blocoAP)                 2022-07-01         2022-07-03   \n",
       "1   A102 (blocoAP)                 2022-06-02         2022-06-02   \n",
       "1   A102 (blocoAP)                 2022-07-02         2022-07-06   \n",
       "2   B201 (blocoAP)                 2022-06-03         2022-06-07   \n",
       "2   B201 (blocoAP)                 2022-07-03         2022-07-03   \n",
       "3   B202 (blocoAP)                 2022-06-04         2022-06-07   \n",
       "3   B202 (blocoAP)                 2022-07-04         2022-07-05   \n",
       "4   C301 (blocoAP)                 2022-06-05         2022-06-10   \n",
       "4   C301 (blocoAP)                 2022-07-05         2022-07-09   \n",
       "5   C302 (blocoAP)                 2022-06-06         2022-06-08   \n",
       "5   C302 (blocoAP)                 2022-07-06         2022-07-12   \n",
       "6   D401 (blocoAP)                 2022-06-07         2022-06-07   \n",
       "6   D401 (blocoAP)                 2022-07-07         2022-07-09   \n",
       "7   D402 (blocoAP)                 2022-06-08         2022-06-10   \n",
       "7   D402 (blocoAP)                 2022-07-08         2022-07-14   \n",
       "8   E501 (blocoAP)                 2022-06-09         2022-06-10   \n",
       "8   E501 (blocoAP)                 2022-07-09         2022-07-09   \n",
       "9   E502 (blocoAP)                 2022-06-10         2022-06-16   \n",
       "9   E502 (blocoAP)                 2022-07-10         2022-07-12   \n",
       "10  F601 (blocoAP)                 2022-06-11         2022-06-17   \n",
       "10  F601 (blocoAP)                 2022-07-11         2022-07-13   \n",
       "11  F602 (blocoAP)                 2022-06-12         2022-06-15   \n",
       "11  F602 (blocoAP)                 2022-07-12         2022-07-12   \n",
       "12  G701 (blocoAP)                 2022-06-13         2022-06-19   \n",
       "12  G701 (blocoAP)                 2022-07-13         2022-07-20   \n",
       "13  G702 (blocoAP)                 2022-06-14         2022-06-15   \n",
       "13  G702 (blocoAP)                 2022-07-14         2022-07-17   \n",
       "14  H801 (blocoAP)                 2022-06-15         2022-06-18   \n",
       "14  H801 (blocoAP)                 2022-07-15         2022-07-16   \n",
       "\n",
       "    valor_aluguel atraso  \n",
       "0          1000.0 4 days  \n",
       "0          2500.0 2 days  \n",
       "1          1100.0 0 days  \n",
       "1          2600.0 4 days  \n",
       "2          1200.0 4 days  \n",
       "2          2700.0 0 days  \n",
       "3          1300.0 3 days  \n",
       "3          2800.0 1 days  \n",
       "4          1400.0 5 days  \n",
       "4          2900.0 4 days  \n",
       "5          1500.0 2 days  \n",
       "5          1200.0 6 days  \n",
       "6          1600.0 0 days  \n",
       "6          1300.0 2 days  \n",
       "7          1700.0 2 days  \n",
       "7          1400.0 6 days  \n",
       "8          1800.0 1 days  \n",
       "8          1500.0 0 days  \n",
       "9          1900.0 6 days  \n",
       "9          1600.0 2 days  \n",
       "10         2000.0 6 days  \n",
       "10         1000.0 2 days  \n",
       "11         2100.0 3 days  \n",
       "11         1100.0 0 days  \n",
       "12         2200.0 6 days  \n",
       "12         1200.0 7 days  \n",
       "13         2300.0 1 days  \n",
       "13         2100.0 3 days  \n",
       "14         2400.0 3 days  \n",
       "14         2200.0 1 days  "
      ]
     },
     "execution_count": 441,
     "metadata": {},
     "output_type": "execute_result"
    }
   ],
   "source": [
    "df_locacao['atraso'] = df_locacao['datas_de_pagamento'] - df_locacao['datas_combinadas_pagamento']\n",
    "df_locacao\n"
   ]
  },
  {
   "cell_type": "code",
   "execution_count": 442,
   "metadata": {},
   "outputs": [
    {
     "data": {
      "text/plain": [
       "apartamento\n",
       "A101 (blocoAP)   3 days 00:00:00\n",
       "A102 (blocoAP)   2 days 00:00:00\n",
       "B201 (blocoAP)   2 days 00:00:00\n",
       "B202 (blocoAP)   2 days 00:00:00\n",
       "C301 (blocoAP)   4 days 12:00:00\n",
       "C302 (blocoAP)   4 days 00:00:00\n",
       "D401 (blocoAP)   1 days 00:00:00\n",
       "D402 (blocoAP)   4 days 00:00:00\n",
       "E501 (blocoAP)   0 days 12:00:00\n",
       "E502 (blocoAP)   4 days 00:00:00\n",
       "F601 (blocoAP)   4 days 00:00:00\n",
       "F602 (blocoAP)   1 days 12:00:00\n",
       "G701 (blocoAP)   6 days 12:00:00\n",
       "G702 (blocoAP)   2 days 00:00:00\n",
       "H801 (blocoAP)   2 days 00:00:00\n",
       "Name: atraso, dtype: timedelta64[ns]"
      ]
     },
     "execution_count": 442,
     "metadata": {},
     "output_type": "execute_result"
    }
   ],
   "source": [
    "media_atraso = df_locacao.groupby(['apartamento'])['atraso'].mean()\n",
    "media_atraso"
   ]
  },
  {
   "cell_type": "code",
   "execution_count": null,
   "metadata": {},
   "outputs": [],
   "source": []
  }
 ],
 "metadata": {
  "kernelspec": {
   "display_name": "Python 3",
   "language": "python",
   "name": "python3"
  },
  "language_info": {
   "codemirror_mode": {
    "name": "ipython",
    "version": 3
   },
   "file_extension": ".py",
   "mimetype": "text/x-python",
   "name": "python",
   "nbconvert_exporter": "python",
   "pygments_lexer": "ipython3",
   "version": "3.12.4"
  }
 },
 "nbformat": 4,
 "nbformat_minor": 2
}
